{
  "nbformat": 4,
  "nbformat_minor": 0,
  "metadata": {
    "accelerator": "GPU",
    "colab": {
      "name": "FakeNewsDetectionDeepLearning.ipynb",
      "provenance": [],
      "collapsed_sections": [
        "3QXxolBpL9uC",
        "ZjQ1h265PRns",
        "0c0vWY4hxQeD"
      ]
    },
    "kernelspec": {
      "display_name": "Python 3",
      "name": "python3"
    }
  },
  "cells": [
    {
      "cell_type": "code",
      "metadata": {
        "colab": {
          "base_uri": "https://localhost:8080/"
        },
        "id": "dA4TLpb3aIF_",
        "outputId": "3213b8e5-65fc-4461-85c4-069b00d41308"
      },
      "source": [
        "!pip install -U tensorflow\n",
        "!pip install -U sklearn"
      ],
      "execution_count": null,
      "outputs": [
        {
          "output_type": "stream",
          "text": [
            "Requirement already up-to-date: tensorflow in /usr/local/lib/python3.6/dist-packages (2.4.0)\n",
            "Requirement already satisfied, skipping upgrade: grpcio~=1.32.0 in /usr/local/lib/python3.6/dist-packages (from tensorflow) (1.32.0)\n",
            "Requirement already satisfied, skipping upgrade: absl-py~=0.10 in /usr/local/lib/python3.6/dist-packages (from tensorflow) (0.10.0)\n",
            "Requirement already satisfied, skipping upgrade: google-pasta~=0.2 in /usr/local/lib/python3.6/dist-packages (from tensorflow) (0.2.0)\n",
            "Requirement already satisfied, skipping upgrade: six~=1.15.0 in /usr/local/lib/python3.6/dist-packages (from tensorflow) (1.15.0)\n",
            "Requirement already satisfied, skipping upgrade: tensorboard~=2.4 in /usr/local/lib/python3.6/dist-packages (from tensorflow) (2.4.0)\n",
            "Requirement already satisfied, skipping upgrade: astunparse~=1.6.3 in /usr/local/lib/python3.6/dist-packages (from tensorflow) (1.6.3)\n",
            "Requirement already satisfied, skipping upgrade: h5py~=2.10.0 in /usr/local/lib/python3.6/dist-packages (from tensorflow) (2.10.0)\n",
            "Requirement already satisfied, skipping upgrade: wheel~=0.35 in /usr/local/lib/python3.6/dist-packages (from tensorflow) (0.36.2)\n",
            "Requirement already satisfied, skipping upgrade: wrapt~=1.12.1 in /usr/local/lib/python3.6/dist-packages (from tensorflow) (1.12.1)\n",
            "Requirement already satisfied, skipping upgrade: opt-einsum~=3.3.0 in /usr/local/lib/python3.6/dist-packages (from tensorflow) (3.3.0)\n",
            "Requirement already satisfied, skipping upgrade: gast==0.3.3 in /usr/local/lib/python3.6/dist-packages (from tensorflow) (0.3.3)\n",
            "Requirement already satisfied, skipping upgrade: typing-extensions~=3.7.4 in /usr/local/lib/python3.6/dist-packages (from tensorflow) (3.7.4.3)\n",
            "Requirement already satisfied, skipping upgrade: keras-preprocessing~=1.1.2 in /usr/local/lib/python3.6/dist-packages (from tensorflow) (1.1.2)\n",
            "Requirement already satisfied, skipping upgrade: termcolor~=1.1.0 in /usr/local/lib/python3.6/dist-packages (from tensorflow) (1.1.0)\n",
            "Requirement already satisfied, skipping upgrade: tensorflow-estimator<2.5.0,>=2.4.0rc0 in /usr/local/lib/python3.6/dist-packages (from tensorflow) (2.4.0)\n",
            "Requirement already satisfied, skipping upgrade: protobuf>=3.9.2 in /usr/local/lib/python3.6/dist-packages (from tensorflow) (3.12.4)\n",
            "Requirement already satisfied, skipping upgrade: numpy~=1.19.2 in /usr/local/lib/python3.6/dist-packages (from tensorflow) (1.19.5)\n",
            "Requirement already satisfied, skipping upgrade: flatbuffers~=1.12.0 in /usr/local/lib/python3.6/dist-packages (from tensorflow) (1.12)\n",
            "Requirement already satisfied, skipping upgrade: werkzeug>=0.11.15 in /usr/local/lib/python3.6/dist-packages (from tensorboard~=2.4->tensorflow) (1.0.1)\n",
            "Requirement already satisfied, skipping upgrade: tensorboard-plugin-wit>=1.6.0 in /usr/local/lib/python3.6/dist-packages (from tensorboard~=2.4->tensorflow) (1.7.0)\n",
            "Requirement already satisfied, skipping upgrade: requests<3,>=2.21.0 in /usr/local/lib/python3.6/dist-packages (from tensorboard~=2.4->tensorflow) (2.23.0)\n",
            "Requirement already satisfied, skipping upgrade: google-auth-oauthlib<0.5,>=0.4.1 in /usr/local/lib/python3.6/dist-packages (from tensorboard~=2.4->tensorflow) (0.4.2)\n",
            "Requirement already satisfied, skipping upgrade: markdown>=2.6.8 in /usr/local/lib/python3.6/dist-packages (from tensorboard~=2.4->tensorflow) (3.3.3)\n",
            "Requirement already satisfied, skipping upgrade: setuptools>=41.0.0 in /usr/local/lib/python3.6/dist-packages (from tensorboard~=2.4->tensorflow) (51.1.1)\n",
            "Requirement already satisfied, skipping upgrade: google-auth<2,>=1.6.3 in /usr/local/lib/python3.6/dist-packages (from tensorboard~=2.4->tensorflow) (1.17.2)\n",
            "Requirement already satisfied, skipping upgrade: idna<3,>=2.5 in /usr/local/lib/python3.6/dist-packages (from requests<3,>=2.21.0->tensorboard~=2.4->tensorflow) (2.10)\n",
            "Requirement already satisfied, skipping upgrade: certifi>=2017.4.17 in /usr/local/lib/python3.6/dist-packages (from requests<3,>=2.21.0->tensorboard~=2.4->tensorflow) (2020.12.5)\n",
            "Requirement already satisfied, skipping upgrade: chardet<4,>=3.0.2 in /usr/local/lib/python3.6/dist-packages (from requests<3,>=2.21.0->tensorboard~=2.4->tensorflow) (3.0.4)\n",
            "Requirement already satisfied, skipping upgrade: urllib3!=1.25.0,!=1.25.1,<1.26,>=1.21.1 in /usr/local/lib/python3.6/dist-packages (from requests<3,>=2.21.0->tensorboard~=2.4->tensorflow) (1.24.3)\n",
            "Requirement already satisfied, skipping upgrade: requests-oauthlib>=0.7.0 in /usr/local/lib/python3.6/dist-packages (from google-auth-oauthlib<0.5,>=0.4.1->tensorboard~=2.4->tensorflow) (1.3.0)\n",
            "Requirement already satisfied, skipping upgrade: importlib-metadata; python_version < \"3.8\" in /usr/local/lib/python3.6/dist-packages (from markdown>=2.6.8->tensorboard~=2.4->tensorflow) (3.3.0)\n",
            "Requirement already satisfied, skipping upgrade: rsa<5,>=3.1.4; python_version >= \"3\" in /usr/local/lib/python3.6/dist-packages (from google-auth<2,>=1.6.3->tensorboard~=2.4->tensorflow) (4.6)\n",
            "Requirement already satisfied, skipping upgrade: cachetools<5.0,>=2.0.0 in /usr/local/lib/python3.6/dist-packages (from google-auth<2,>=1.6.3->tensorboard~=2.4->tensorflow) (4.2.0)\n",
            "Requirement already satisfied, skipping upgrade: pyasn1-modules>=0.2.1 in /usr/local/lib/python3.6/dist-packages (from google-auth<2,>=1.6.3->tensorboard~=2.4->tensorflow) (0.2.8)\n",
            "Requirement already satisfied, skipping upgrade: oauthlib>=3.0.0 in /usr/local/lib/python3.6/dist-packages (from requests-oauthlib>=0.7.0->google-auth-oauthlib<0.5,>=0.4.1->tensorboard~=2.4->tensorflow) (3.1.0)\n",
            "Requirement already satisfied, skipping upgrade: zipp>=0.5 in /usr/local/lib/python3.6/dist-packages (from importlib-metadata; python_version < \"3.8\"->markdown>=2.6.8->tensorboard~=2.4->tensorflow) (3.4.0)\n",
            "Requirement already satisfied, skipping upgrade: pyasn1>=0.1.3 in /usr/local/lib/python3.6/dist-packages (from rsa<5,>=3.1.4; python_version >= \"3\"->google-auth<2,>=1.6.3->tensorboard~=2.4->tensorflow) (0.4.8)\n",
            "Requirement already up-to-date: sklearn in /usr/local/lib/python3.6/dist-packages (0.0)\n",
            "Requirement already satisfied, skipping upgrade: scikit-learn in /usr/local/lib/python3.6/dist-packages (from sklearn) (0.22.2.post1)\n",
            "Requirement already satisfied, skipping upgrade: numpy>=1.11.0 in /usr/local/lib/python3.6/dist-packages (from scikit-learn->sklearn) (1.19.5)\n",
            "Requirement already satisfied, skipping upgrade: joblib>=0.11 in /usr/local/lib/python3.6/dist-packages (from scikit-learn->sklearn) (1.0.0)\n",
            "Requirement already satisfied, skipping upgrade: scipy>=0.17.0 in /usr/local/lib/python3.6/dist-packages (from scikit-learn->sklearn) (1.4.1)\n"
          ],
          "name": "stdout"
        }
      ]
    },
    {
      "cell_type": "code",
      "metadata": {
        "colab": {
          "base_uri": "https://localhost:8080/"
        },
        "id": "kpAQQOrXaM_s",
        "outputId": "0658f2ad-0a76-4e69-a2ec-f18552c721a6"
      },
      "source": [
        "import tensorflow as tf\n",
        "import numpy as np\n",
        "import os\n",
        "import pandas as pd\n",
        "from sklearn import metrics\n",
        "from sklearn.utils import shuffle\n",
        "from sklearn.model_selection import train_test_split\n",
        "from sklearn.pipeline import Pipeline\n",
        "from sklearn.feature_extraction.text import CountVectorizer\n",
        "from sklearn.feature_extraction.text import TfidfTransformer\n",
        "from sklearn.tree import DecisionTreeClassifier\n",
        "from sklearn.metrics import accuracy_score\n",
        "from tensorflow.keras.preprocessing.text import Tokenizer\n",
        "from tensorflow.keras.preprocessing.sequence import pad_sequences\n",
        "from tensorflow.keras.models import Model\n",
        "from tensorflow.keras.models import Sequential\n",
        "from tensorflow.keras.layers import LSTM, Activation, Dense, Dropout, Input, Embedding\n",
        "from tensorflow.keras.optimizers import RMSprop\n",
        "import matplotlib.pyplot as plt\n",
        "import string\n",
        "import nltk\n",
        "nltk.download('stopwords')\n",
        "nltk.download('punkt')\n",
        "from nltk.corpus import stopwords\n",
        "from nltk import tokenize\n",
        "from wordcloud import WordCloud\n",
        "import seaborn as sns\n",
        "import itertools\n",
        "import json\n",
        "import gensim\n",
        "from sklearn.metrics import classification_report, accuracy_score\n",
        "\n",
        "\n",
        "tf.config.list_physical_devices('GPU')"
      ],
      "execution_count": null,
      "outputs": [
        {
          "output_type": "stream",
          "text": [
            "[nltk_data] Downloading package stopwords to /root/nltk_data...\n",
            "[nltk_data]   Unzipping corpora/stopwords.zip.\n",
            "[nltk_data] Downloading package punkt to /root/nltk_data...\n",
            "[nltk_data]   Unzipping tokenizers/punkt.zip.\n"
          ],
          "name": "stdout"
        },
        {
          "output_type": "execute_result",
          "data": {
            "text/plain": [
              "[PhysicalDevice(name='/physical_device:GPU:0', device_type='GPU')]"
            ]
          },
          "metadata": {
            "tags": []
          },
          "execution_count": 2
        }
      ]
    },
    {
      "cell_type": "code",
      "metadata": {
        "colab": {
          "background_save": true,
          "base_uri": "https://localhost:8080/"
        },
        "id": "CHy49yGYaQO6",
        "outputId": "14b35aaf-44d8-4221-8e66-a8870ada1e2f"
      },
      "source": [
        "from google.colab import drive\n",
        "drive.mount(\"/content/gdrive\", force_remount=True)\n",
        "PATH = \"/content/gdrive/My Drive/FakeNewsDetection/\""
      ],
      "execution_count": null,
      "outputs": [
        {
          "output_type": "stream",
          "text": [
            "Mounted at /content/gdrive\n"
          ],
          "name": "stdout"
        }
      ]
    },
    {
      "cell_type": "code",
      "metadata": {
        "id": "WKHmQleuOzPE"
      },
      "source": [
        "# Function to create weight matrix from word2vec gensim model\n",
        "def get_weight_matrix(model, vocab):\n",
        "    # total vocabulary size plus 0 for unknown words\n",
        "    vocab_size = len(vocab) + 1\n",
        "    # define weight matrix dimensions with all 0\n",
        "    weight_matrix = np.zeros((vocab_size, EMBEDDING_DIM))\n",
        "    # step vocab, store vectors using the Tokenizer's integer mapping\n",
        "    for word, i in vocab.items():\n",
        "        weight_matrix[i] = model[word]\n",
        "    return weight_matrix"
      ],
      "execution_count": null,
      "outputs": []
    },
    {
      "cell_type": "markdown",
      "metadata": {
        "id": "Fy9scAxtG8FV"
      },
      "source": [
        "#DATASET 1"
      ]
    },
    {
      "cell_type": "code",
      "metadata": {
        "id": "e4RgA9RM9IRi"
      },
      "source": [
        "fake_data = pd.read_csv(os.path.join(PATH, \"Dataset/Fake.csv\"))\n",
        "true_data = pd.read_csv(os.path.join(PATH, \"Dataset/True.csv\"))\n",
        "fake_data['label'] = 1\n",
        "true_data['label'] = 0"
      ],
      "execution_count": null,
      "outputs": []
    },
    {
      "cell_type": "code",
      "metadata": {
        "id": "v2x0KQg4aSlu"
      },
      "source": [
        "# Clean data\n",
        "# Remove publication part\n",
        "tmp_text = []\n",
        "for index,row in enumerate(true_data.text.values):\n",
        "    record = row.split(\" -\", maxsplit=1)\n",
        "    if len(record) > 1 and len(record[0]) < 260:\n",
        "        tmp_text.append(record[1])\n",
        "    else:\n",
        "        tmp_text.append(row)\n",
        "\n",
        "true_data[\"text\"] = tmp_text\n",
        "del tmp_text, record"
      ],
      "execution_count": null,
      "outputs": []
    },
    {
      "cell_type": "code",
      "metadata": {
        "id": "bneTEhY1EuJL"
      },
      "source": [
        "# Combining Title and Text\n",
        "true_data[\"text\"] = true_data[\"title\"] + \" \" + true_data[\"text\"]\n",
        "fake_data[\"text\"] = fake_data[\"title\"] + \" \" + fake_data[\"text\"]\n",
        "\n",
        "# Drop Date, title, subject \n",
        "true_data = true_data.drop([\"subject\", \"date\",\"title\"], axis=1)\n",
        "fake_data = fake_data.drop([\"subject\", \"date\", \"title\"], axis=1)"
      ],
      "execution_count": null,
      "outputs": []
    },
    {
      "cell_type": "code",
      "metadata": {
        "id": "B5EyVyDP9LXF"
      },
      "source": [
        "news_data = pd.concat([fake_data, true_data]).reset_index(drop = True)\n",
        "news_data = shuffle(news_data)\n",
        "news_data = news_data.reset_index(drop=True)\n",
        "del fake_data, true_data"
      ],
      "execution_count": null,
      "outputs": []
    },
    {
      "cell_type": "markdown",
      "metadata": {
        "id": "zLq3BLldPFw3"
      },
      "source": [
        "## Text articles -> Word2Vec -> LSTM"
      ]
    },
    {
      "cell_type": "code",
      "metadata": {
        "id": "79nWKWVqFt2p"
      },
      "source": [
        "y = news_data[\"label\"].values\n",
        "#Converting train data to gensim format, remove punctuation and stopwords\n",
        "X = []\n",
        "stop_words = set(nltk.corpus.stopwords.words(\"english\"))\n",
        "tokenizer = nltk.tokenize.RegexpTokenizer(r'\\w+')\n",
        "for par in news_data[\"text\"].values:\n",
        "    tmp = []\n",
        "    sentences = nltk.sent_tokenize(par)\n",
        "    for sent in sentences:\n",
        "        sent = sent.lower()\n",
        "        tokens = tokenizer.tokenize(sent)\n",
        "        filtered_words = [w.strip() for w in tokens if w not in stop_words and len(w) > 1]\n",
        "        tmp.extend(filtered_words)\n",
        "    X.append(tmp)\n",
        "\n",
        "del news_data"
      ],
      "execution_count": null,
      "outputs": []
    },
    {
      "cell_type": "code",
      "metadata": {
        "id": "syfZtT2GGb0m"
      },
      "source": [
        "# Dimension of generated vectors\n",
        "EMBEDDING_DIM = 10\n",
        "w2v_model = gensim.models.Word2Vec(sentences=X, size=EMBEDDING_DIM, window=5, min_count=1)"
      ],
      "execution_count": null,
      "outputs": []
    },
    {
      "cell_type": "code",
      "metadata": {
        "colab": {
          "base_uri": "https://localhost:8080/"
        },
        "id": "N1vPzsh4GhZ4",
        "outputId": "39e9dd0e-066a-47e3-b552-261946c1ee84"
      },
      "source": [
        "len(w2v_model.wv.vocab)"
      ],
      "execution_count": null,
      "outputs": [
        {
          "output_type": "execute_result",
          "data": {
            "text/plain": [
              "122248"
            ]
          },
          "metadata": {
            "tags": []
          },
          "execution_count": 50
        }
      ]
    },
    {
      "cell_type": "code",
      "metadata": {
        "colab": {
          "base_uri": "https://localhost:8080/"
        },
        "id": "z0QxWhaYHeW7",
        "outputId": "e9974607-182c-4742-9b36-b75653b8523d"
      },
      "source": [
        "w2v_model[\"corona\"]\n",
        "w2v_model.wv.most_similar(\"trump\")"
      ],
      "execution_count": null,
      "outputs": [
        {
          "output_type": "stream",
          "text": [
            "/usr/local/lib/python3.6/dist-packages/ipykernel_launcher.py:1: DeprecationWarning: Call to deprecated `__getitem__` (Method will be removed in 4.0.0, use self.wv.__getitem__() instead).\n",
            "  \"\"\"Entry point for launching an IPython kernel.\n",
            "/usr/local/lib/python3.6/dist-packages/gensim/matutils.py:737: FutureWarning: Conversion of the second argument of issubdtype from `int` to `np.signedinteger` is deprecated. In future, it will be treated as `np.int64 == np.dtype(int).type`.\n",
            "  if np.issubdtype(vec.dtype, np.int):\n"
          ],
          "name": "stderr"
        },
        {
          "output_type": "execute_result",
          "data": {
            "text/plain": [
              "[('donald', 0.9826008677482605),\n",
              " ('elect', 0.9047054052352905),\n",
              " ('2016curious', 0.9037299752235413),\n",
              " ('presidency', 0.8834552764892578),\n",
              " ('becomes', 0.8706575036048889),\n",
              " ('surprise', 0.8704681396484375),\n",
              " ('outshone', 0.8675214052200317),\n",
              " ('dimished', 0.8659388422966003),\n",
              " ('demcorats', 0.8609744310379028),\n",
              " ('gla', 0.8598387241363525)]"
            ]
          },
          "metadata": {
            "tags": []
          },
          "execution_count": 51
        }
      ]
    },
    {
      "cell_type": "code",
      "metadata": {
        "id": "dfPfenAqITaJ"
      },
      "source": [
        "# Tokenizing Text -> Repsesenting each word by a number\n",
        "tokenizer = Tokenizer()\n",
        "tokenizer.fit_on_texts(X)\n",
        "\n",
        "X = tokenizer.texts_to_sequences(X)\n",
        "word_index = tokenizer.word_index"
      ],
      "execution_count": null,
      "outputs": []
    },
    {
      "cell_type": "code",
      "metadata": {
        "id": "n8Y1S-1RJ4M1"
      },
      "source": [
        "# Keep all news to 1000\n",
        "maxlen = 1000 \n",
        "X = pad_sequences(X, maxlen=maxlen)"
      ],
      "execution_count": null,
      "outputs": []
    },
    {
      "cell_type": "code",
      "metadata": {
        "id": "_cIffKXzJ_N2"
      },
      "source": [
        "# Embedding Layer creates one more vector for \"UNKNOWN\" words, or padded words (0s). \n",
        "vocab_size = len(tokenizer.word_index) + 1"
      ],
      "execution_count": null,
      "outputs": []
    },
    {
      "cell_type": "code",
      "metadata": {
        "colab": {
          "base_uri": "https://localhost:8080/"
        },
        "id": "xP0mpoWlKOu-",
        "outputId": "6f7378cb-c804-4f94-887f-6a61357e9adf"
      },
      "source": [
        "#Getting embedding vectors from word2vec\n",
        "embedding_vectors = get_weight_matrix(w2v_model, word_index)"
      ],
      "execution_count": null,
      "outputs": [
        {
          "output_type": "stream",
          "text": [
            "/usr/local/lib/python3.6/dist-packages/ipykernel_launcher.py:9: DeprecationWarning: Call to deprecated `__getitem__` (Method will be removed in 4.0.0, use self.wv.__getitem__() instead).\n",
            "  if __name__ == '__main__':\n"
          ],
          "name": "stderr"
        }
      ]
    },
    {
      "cell_type": "code",
      "metadata": {
        "id": "aiGlol7rLygL"
      },
      "source": [
        "#Defining Neural Network\n",
        "model = Sequential()\n",
        "model.add(Embedding(vocab_size, output_dim=EMBEDDING_DIM, weights=[embedding_vectors], input_length=maxlen, trainable=False))\n",
        "model.add(LSTM(units=128))\n",
        "model.add(Dense(1, activation='sigmoid'))\n",
        "model.compile(optimizer='adam', loss='binary_crossentropy', metrics=['acc'])\n",
        "del embedding_vectors"
      ],
      "execution_count": null,
      "outputs": []
    },
    {
      "cell_type": "code",
      "metadata": {
        "id": "EaMAuJPwMIyR"
      },
      "source": [
        "X_train, X_test, y_train, y_test = train_test_split(X, y) "
      ],
      "execution_count": null,
      "outputs": []
    },
    {
      "cell_type": "code",
      "metadata": {
        "colab": {
          "base_uri": "https://localhost:8080/"
        },
        "id": "453RpCZtMM5J",
        "outputId": "878e6544-1be9-44a1-f9cc-5235cd4122a4"
      },
      "source": [
        "history = model.fit(X_train, y_train, validation_split=0.25, epochs=20)"
      ],
      "execution_count": null,
      "outputs": [
        {
          "output_type": "stream",
          "text": [
            "Epoch 1/20\n",
            "790/790 [==============================] - 35s 44ms/step - loss: 0.1581 - acc: 0.9422 - val_loss: 0.1347 - val_acc: 0.9511\n",
            "Epoch 2/20\n",
            "790/790 [==============================] - 35s 44ms/step - loss: 0.1161 - acc: 0.9574 - val_loss: 0.0939 - val_acc: 0.9686\n",
            "Epoch 3/20\n",
            "790/790 [==============================] - 35s 44ms/step - loss: 0.0944 - acc: 0.9658 - val_loss: 0.0824 - val_acc: 0.9732\n",
            "Epoch 4/20\n",
            "790/790 [==============================] - 35s 44ms/step - loss: 0.0702 - acc: 0.9753 - val_loss: 0.0889 - val_acc: 0.9685\n",
            "Epoch 5/20\n",
            "790/790 [==============================] - 35s 44ms/step - loss: 0.0611 - acc: 0.9793 - val_loss: 0.0609 - val_acc: 0.9798\n",
            "Epoch 6/20\n",
            "790/790 [==============================] - 34s 44ms/step - loss: 0.0801 - acc: 0.9713 - val_loss: 0.0867 - val_acc: 0.9694\n",
            "Epoch 7/20\n",
            "790/790 [==============================] - 35s 44ms/step - loss: 0.0991 - acc: 0.9642 - val_loss: 0.1090 - val_acc: 0.9622\n",
            "Epoch 8/20\n",
            "790/790 [==============================] - 35s 44ms/step - loss: 0.0834 - acc: 0.9699 - val_loss: 0.0823 - val_acc: 0.9732\n",
            "Epoch 9/20\n",
            "790/790 [==============================] - 35s 44ms/step - loss: 0.0547 - acc: 0.9818 - val_loss: 0.0563 - val_acc: 0.9828\n",
            "Epoch 10/20\n",
            "790/790 [==============================] - 35s 44ms/step - loss: 0.0455 - acc: 0.9848 - val_loss: 0.0497 - val_acc: 0.9847\n",
            "Epoch 11/20\n",
            "790/790 [==============================] - 35s 44ms/step - loss: 0.0353 - acc: 0.9873 - val_loss: 0.0533 - val_acc: 0.9830\n",
            "Epoch 12/20\n",
            "790/790 [==============================] - 35s 44ms/step - loss: 0.0428 - acc: 0.9848 - val_loss: 0.0509 - val_acc: 0.9837\n",
            "Epoch 13/20\n",
            "790/790 [==============================] - 34s 44ms/step - loss: 0.0309 - acc: 0.9891 - val_loss: 0.0455 - val_acc: 0.9859\n",
            "Epoch 14/20\n",
            "790/790 [==============================] - 35s 44ms/step - loss: 0.0231 - acc: 0.9922 - val_loss: 0.0395 - val_acc: 0.9882\n",
            "Epoch 15/20\n",
            "790/790 [==============================] - 34s 44ms/step - loss: 0.0354 - acc: 0.9886 - val_loss: 0.0526 - val_acc: 0.9835\n",
            "Epoch 16/20\n",
            "790/790 [==============================] - 34s 44ms/step - loss: 0.0208 - acc: 0.9932 - val_loss: 0.0366 - val_acc: 0.9880\n",
            "Epoch 17/20\n",
            "790/790 [==============================] - 35s 44ms/step - loss: 0.0196 - acc: 0.9929 - val_loss: 0.0428 - val_acc: 0.9868\n",
            "Epoch 18/20\n",
            "790/790 [==============================] - 34s 44ms/step - loss: 0.0179 - acc: 0.9934 - val_loss: 0.0394 - val_acc: 0.9871\n",
            "Epoch 19/20\n",
            "790/790 [==============================] - 34s 44ms/step - loss: 0.0125 - acc: 0.9960 - val_loss: 0.0371 - val_acc: 0.9882\n",
            "Epoch 20/20\n",
            "790/790 [==============================] - 34s 43ms/step - loss: 0.0085 - acc: 0.9973 - val_loss: 0.0469 - val_acc: 0.9873\n"
          ],
          "name": "stdout"
        }
      ]
    },
    {
      "cell_type": "code",
      "metadata": {
        "colab": {
          "base_uri": "https://localhost:8080/"
        },
        "id": "U7jUKwJXPo6X",
        "outputId": "2c3f64ae-48bc-4e83-e32a-b23c7b2f199a"
      },
      "source": [
        "y_pred = model.predict(X_test)\n",
        "y_pred = (y_pred >= 0.5).astype(\"int\")\n",
        "print(accuracy_score(y_test, y_pred))\n",
        "print(classification_report(y_test, y_pred))"
      ],
      "execution_count": null,
      "outputs": [
        {
          "output_type": "stream",
          "text": [
            "0.9879732739420936\n",
            "              precision    recall  f1-score   support\n",
            "\n",
            "           0       1.00      0.98      0.99      5364\n",
            "           1       0.98      1.00      0.99      5861\n",
            "\n",
            "    accuracy                           0.99     11225\n",
            "   macro avg       0.99      0.99      0.99     11225\n",
            "weighted avg       0.99      0.99      0.99     11225\n",
            "\n"
          ],
          "name": "stdout"
        }
      ]
    },
    {
      "cell_type": "code",
      "metadata": {
        "colab": {
          "base_uri": "https://localhost:8080/",
          "height": 648
        },
        "id": "LY8C_B2eTQG7",
        "outputId": "76a5b5dd-e9b2-4265-816f-e920f060132e"
      },
      "source": [
        "plt.plot(history.history['loss'])\n",
        "plt.plot(history.history['val_loss'])\n",
        "plt.title('Model Loss')\n",
        "plt.legend(['Training', 'Validation'])\n",
        "plt.ylabel('Loss')\n",
        "plt.xlabel('Epochs')\n",
        "plt.xticks([0,1,2,3,4,5,6,7,8,9,10,11,12,13,14,15,16,17,18,19])"
      ],
      "execution_count": null,
      "outputs": [
        {
          "output_type": "execute_result",
          "data": {
            "text/plain": [
              "([<matplotlib.axis.XTick at 0x7f36606fc7f0>,\n",
              "  <matplotlib.axis.XTick at 0x7f36606fc710>,\n",
              "  <matplotlib.axis.XTick at 0x7f36606fcbe0>,\n",
              "  <matplotlib.axis.XTick at 0x7f3660707128>,\n",
              "  <matplotlib.axis.XTick at 0x7f36607035f8>,\n",
              "  <matplotlib.axis.XTick at 0x7f36607079b0>,\n",
              "  <matplotlib.axis.XTick at 0x7f3660703668>,\n",
              "  <matplotlib.axis.XTick at 0x7f3660703f28>,\n",
              "  <matplotlib.axis.XTick at 0x7f36607049e8>,\n",
              "  <matplotlib.axis.XTick at 0x7f36607047b8>,\n",
              "  <matplotlib.axis.XTick at 0x7f3660704cf8>,\n",
              "  <matplotlib.axis.XTick at 0x7f3660709048>,\n",
              "  <matplotlib.axis.XTick at 0x7f3660709b38>,\n",
              "  <matplotlib.axis.XTick at 0x7f366020be48>,\n",
              "  <matplotlib.axis.XTick at 0x7f3660709940>,\n",
              "  <matplotlib.axis.XTick at 0x7f36607046a0>,\n",
              "  <matplotlib.axis.XTick at 0x7f3660703908>,\n",
              "  <matplotlib.axis.XTick at 0x7f366020b2e8>,\n",
              "  <matplotlib.axis.XTick at 0x7f366020b0f0>,\n",
              "  <matplotlib.axis.XTick at 0x7f3660209c88>],\n",
              " <a list of 20 Text major ticklabel objects>)"
            ]
          },
          "metadata": {
            "tags": []
          },
          "execution_count": 60
        },
        {
          "output_type": "display_data",
          "data": {
            "image/png": "[encoded data removed]",
            "text/plain": [
              "<Figure size 432x288 with 1 Axes>"
            ]
          },
          "metadata": {
            "tags": []
          }
        }
      ]
    },
    {
      "cell_type": "code",
      "metadata": {
        "colab": {
          "base_uri": "https://localhost:8080/",
          "height": 328
        },
        "id": "-XKWslkYMETP",
        "outputId": "0baac638-c1b6-4a58-856b-b63fd04c0d6c"
      },
      "source": [
        "cm = metrics.confusion_matrix(y_test, y_pred)\r\n",
        "confusion_matrix(cm, classes=[1, 0])"
      ],
      "execution_count": null,
      "outputs": [
        {
          "output_type": "stream",
          "text": [
            "Confusion matrix, without normalization\n"
          ],
          "name": "stdout"
        },
        {
          "output_type": "display_data",
          "data": {
            "image/png": "[encoded data removed]",
            "text/plain": [
              "<Figure size 432x288 with 2 Axes>"
            ]
          },
          "metadata": {
            "tags": []
          }
        }
      ]
    },
    {
      "cell_type": "code",
      "metadata": {
        "colab": {
          "base_uri": "https://localhost:8080/",
          "height": 229
        },
        "id": "NneF-4uGTXPx",
        "outputId": "1a134747-80f4-4ee7-fb8e-0cb979439599"
      },
      "source": [
        "# plt.plot(history.history['accuracy'])\n",
        "# plt.plot(history.history['val_accuracy'])\n",
        "# plt.title('Model Accuracy')\n",
        "# plt.legend(['Training', 'Validation'])\n",
        "# plt.ylabel('Accuracy (%)')\n",
        "# plt.xlabel('Epochs')\n",
        "# plt.xticks([0,1,2,3,4,5,6,7,8,9,10,11,12,13,14,15,16,17,18,19])"
      ],
      "execution_count": null,
      "outputs": [
        {
          "output_type": "error",
          "ename": "KeyError",
          "evalue": "ignored",
          "traceback": [
            "\u001b[0;31m---------------------------------------------------------------------------\u001b[0m",
            "\u001b[0;31mKeyError\u001b[0m                                  Traceback (most recent call last)",
            "\u001b[0;32m<ipython-input-27-0420135468ca>\u001b[0m in \u001b[0;36m<module>\u001b[0;34m()\u001b[0m\n\u001b[0;32m----> 1\u001b[0;31m \u001b[0mplt\u001b[0m\u001b[0;34m.\u001b[0m\u001b[0mplot\u001b[0m\u001b[0;34m(\u001b[0m\u001b[0mhistory\u001b[0m\u001b[0;34m.\u001b[0m\u001b[0mhistory\u001b[0m\u001b[0;34m[\u001b[0m\u001b[0;34m'accuracy'\u001b[0m\u001b[0;34m]\u001b[0m\u001b[0;34m)\u001b[0m\u001b[0;34m\u001b[0m\u001b[0;34m\u001b[0m\u001b[0m\n\u001b[0m\u001b[1;32m      2\u001b[0m \u001b[0mplt\u001b[0m\u001b[0;34m.\u001b[0m\u001b[0mplot\u001b[0m\u001b[0;34m(\u001b[0m\u001b[0mhistory\u001b[0m\u001b[0;34m.\u001b[0m\u001b[0mhistory\u001b[0m\u001b[0;34m[\u001b[0m\u001b[0;34m'val_accuracy'\u001b[0m\u001b[0;34m]\u001b[0m\u001b[0;34m)\u001b[0m\u001b[0;34m\u001b[0m\u001b[0;34m\u001b[0m\u001b[0m\n\u001b[1;32m      3\u001b[0m \u001b[0mplt\u001b[0m\u001b[0;34m.\u001b[0m\u001b[0mtitle\u001b[0m\u001b[0;34m(\u001b[0m\u001b[0;34m'Model Accuracy'\u001b[0m\u001b[0;34m)\u001b[0m\u001b[0;34m\u001b[0m\u001b[0;34m\u001b[0m\u001b[0m\n\u001b[1;32m      4\u001b[0m \u001b[0mplt\u001b[0m\u001b[0;34m.\u001b[0m\u001b[0mlegend\u001b[0m\u001b[0;34m(\u001b[0m\u001b[0;34m[\u001b[0m\u001b[0;34m'Training'\u001b[0m\u001b[0;34m,\u001b[0m \u001b[0;34m'Validation'\u001b[0m\u001b[0;34m]\u001b[0m\u001b[0;34m)\u001b[0m\u001b[0;34m\u001b[0m\u001b[0;34m\u001b[0m\u001b[0m\n\u001b[1;32m      5\u001b[0m \u001b[0mplt\u001b[0m\u001b[0;34m.\u001b[0m\u001b[0mylabel\u001b[0m\u001b[0;34m(\u001b[0m\u001b[0;34m'Accuracy (%)'\u001b[0m\u001b[0;34m)\u001b[0m\u001b[0;34m\u001b[0m\u001b[0;34m\u001b[0m\u001b[0m\n",
            "\u001b[0;31mKeyError\u001b[0m: 'accuracy'"
          ]
        }
      ]
    },
    {
      "cell_type": "markdown",
      "metadata": {
        "id": "r-tphge2PhRH"
      },
      "source": [
        "## Dataset1 - Dataset 2"
      ]
    },
    {
      "cell_type": "code",
      "metadata": {
        "id": "kGg14HnLQREY"
      },
      "source": [
        "# Dataset 2\r\n",
        "X_test = pd.read_csv(os.path.join(PATH, \"Dataset2/train.csv\"))\r\n",
        "X_test = shuffle(X_test)\r\n",
        "X_test = X_test.reset_index(drop=True)"
      ],
      "execution_count": null,
      "outputs": []
    },
    {
      "cell_type": "code",
      "metadata": {
        "id": "Qiln7hj7Qca5"
      },
      "source": [
        "# Merge title and text column\r\n",
        "X_test[\"text\"] =X_test[\"title\"] + \" \" + X_test[\"text\"]\r\n",
        "\r\n",
        "# Remove useless columns\r\n",
        "X_test.drop([\"title\"],axis=1,inplace=True)\r\n",
        "X_test.drop([\"id\"],axis=1,inplace=True)\r\n",
        "X_test.drop([\"author\"],axis=1,inplace=True)"
      ],
      "execution_count": null,
      "outputs": []
    },
    {
      "cell_type": "code",
      "metadata": {
        "id": "PVoYz5vOQmAq"
      },
      "source": [
        "Y = X_test[\"label\"].values\r\n",
        "# Convert train data to gensim format, removing punctuation, stopwords\r\n",
        "X = []\r\n",
        "stop_words = set(nltk.corpus.stopwords.words(\"english\"))\r\n",
        "tokenizer = nltk.tokenize.RegexpTokenizer(r'\\w+')\r\n",
        "for par in X_test[\"text\"].values:\r\n",
        "    tmp = []\r\n",
        "    sentences = nltk.sent_tokenize(str(par))\r\n",
        "    for sent in sentences:\r\n",
        "        sent = sent.lower()\r\n",
        "        tokens = tokenizer.tokenize(sent)\r\n",
        "        filtered_words = [w.strip() for w in tokens if w not in stop_words and len(w) > 1]\r\n",
        "        tmp.extend(filtered_words)\r\n",
        "    X.append(tmp)\r\n",
        "\r\n",
        "del X_test"
      ],
      "execution_count": null,
      "outputs": []
    },
    {
      "cell_type": "code",
      "metadata": {
        "id": "FdHHmn6mQx1y"
      },
      "source": [
        "#Dimension of vectors generated\r\n",
        "EMBEDDING_DIM = 100\r\n",
        "w2v_model = gensim.models.Word2Vec(sentences=X, size=EMBEDDING_DIM, window=5, min_count=1)"
      ],
      "execution_count": null,
      "outputs": []
    },
    {
      "cell_type": "code",
      "metadata": {
        "id": "0ON75PIDQ1FP"
      },
      "source": [
        "# Tokenizing Text -> Repsesenting each word by a number\r\n",
        "tokenizer = Tokenizer()\r\n",
        "tokenizer.fit_on_texts(X)\r\n",
        "\r\n",
        "X = tokenizer.texts_to_sequences(X)\r\n",
        "word_index = tokenizer.word_index"
      ],
      "execution_count": null,
      "outputs": []
    },
    {
      "cell_type": "code",
      "metadata": {
        "id": "zzYGU51yQ32r"
      },
      "source": [
        "# Keep all news at 1000, add padding to news with less than 1000 words and truncating long ones\r\n",
        "maxlen = 1000 \r\n",
        "X = pad_sequences(X, maxlen=maxlen)"
      ],
      "execution_count": null,
      "outputs": []
    },
    {
      "cell_type": "code",
      "metadata": {
        "id": "q-6xMcR2PrW-"
      },
      "source": [
        "# Metrics\r\n",
        "prediction = model.predict(X)"
      ],
      "execution_count": null,
      "outputs": []
    },
    {
      "cell_type": "code",
      "metadata": {
        "colab": {
          "base_uri": "https://localhost:8080/"
        },
        "id": "qVD6dCUHWHYf",
        "outputId": "420b034e-9e07-468c-f200-4b16df7fb641"
      },
      "source": [
        "prediction2 = np.array([0 if i  == \"true\" else 1 for i in prediction])\r\n",
        "prediction2"
      ],
      "execution_count": null,
      "outputs": [
        {
          "output_type": "execute_result",
          "data": {
            "text/plain": [
              "array([1, 1, 1, ..., 1, 0, 0])"
            ]
          },
          "metadata": {
            "tags": []
          },
          "execution_count": 84
        }
      ]
    },
    {
      "cell_type": "code",
      "metadata": {
        "colab": {
          "base_uri": "https://localhost:8080/"
        },
        "id": "v5pmWULnWE9X",
        "outputId": "c38bf533-64fa-4567-a581-584ad12094db"
      },
      "source": [
        "print(\"accuracy: {}%\".format(round(accuracy_score(Y, prediction2)*100,2)))\r\n",
        "print(classification_report(Y, prediction2))"
      ],
      "execution_count": null,
      "outputs": [
        {
          "output_type": "stream",
          "text": [
            "accuracy: 54.62%\n",
            "              precision    recall  f1-score   support\n",
            "\n",
            "           0       0.53      0.73      0.62     10387\n",
            "           1       0.57      0.36      0.45     10413\n",
            "\n",
            "    accuracy                           0.55     20800\n",
            "   macro avg       0.55      0.55      0.53     20800\n",
            "weighted avg       0.55      0.55      0.53     20800\n",
            "\n"
          ],
          "name": "stdout"
        }
      ]
    },
    {
      "cell_type": "code",
      "metadata": {
        "id": "4NaV-J83PrW-",
        "colab": {
          "base_uri": "https://localhost:8080/",
          "height": 328
        },
        "outputId": "22fb1287-8a61-4c5a-9062-282509103068"
      },
      "source": [
        "cm = metrics.confusion_matrix(Y, prediction2)\r\n",
        "confusion_matrix(cm, classes=['fake', 'real'])"
      ],
      "execution_count": null,
      "outputs": [
        {
          "output_type": "stream",
          "text": [
            "Confusion matrix, without normalization\n"
          ],
          "name": "stdout"
        },
        {
          "output_type": "display_data",
          "data": {
            "image/png": "[encoded data removed]",
            "text/plain": [
              "<Figure size 432x288 with 2 Axes>"
            ]
          },
          "metadata": {
            "tags": [],
            "needs_background": "light"
          }
        }
      ]
    },
    {
      "cell_type": "markdown",
      "metadata": {
        "id": "es_9aDwTWyuG"
      },
      "source": [
        "## Dataset 1 - Dataset 3"
      ]
    },
    {
      "cell_type": "code",
      "metadata": {
        "id": "CTwk85KdXETS"
      },
      "source": [
        "X_test = pd.read_csv(os.path.join(PATH, \"Dataset3/smaller_dataset.csv\"))"
      ],
      "execution_count": null,
      "outputs": []
    },
    {
      "cell_type": "code",
      "metadata": {
        "id": "yMvLZfYoXETq"
      },
      "source": [
        "X_test = shuffle(X_test)\r\n",
        "X_test = X_test.reset_index(drop=True)"
      ],
      "execution_count": null,
      "outputs": []
    },
    {
      "cell_type": "code",
      "metadata": {
        "id": "3mKRaA8DXETq"
      },
      "source": [
        "stop_words = set(nltk.corpus.stopwords.words(\"english\"))\r\n",
        "tokenizer = nltk.tokenize.RegexpTokenizer(r'\\w+')"
      ],
      "execution_count": null,
      "outputs": []
    },
    {
      "cell_type": "code",
      "metadata": {
        "id": "DoxBkhzBXETq"
      },
      "source": [
        "X = []\r\n",
        "Y = []"
      ],
      "execution_count": null,
      "outputs": []
    },
    {
      "cell_type": "code",
      "metadata": {
        "id": "M_M7P3z_XETq"
      },
      "source": [
        "def pre_process(df):\r\n",
        "    for i in range(len(df[\"content\"])):\r\n",
        "        tmp = []\r\n",
        "        sentences = nltk.sent_tokenize(str(df['content'][i]))\r\n",
        "        for sent in sentences:\r\n",
        "            sent = sent.lower()\r\n",
        "            tokens = tokenizer.tokenize(sent)\r\n",
        "            del sent\r\n",
        "            filtered_words = [w.strip() for w in tokens if w not in stop_words and len(w) > 1]\r\n",
        "            del tokens\r\n",
        "            tmp.extend(filtered_words)\r\n",
        "            del filtered_words\r\n",
        "        X.append(tmp)\r\n",
        "        Y.append(df['type'][i])\r\n",
        "        del sentences, tmp, df['content'][i], df['type'][i]\r\n",
        "    del df\r\n",
        "\r\n",
        "pre_process(X_test)"
      ],
      "execution_count": null,
      "outputs": []
    },
    {
      "cell_type": "code",
      "metadata": {
        "id": "WT_TtZe6XETr"
      },
      "source": [
        "#Dimension of vectors generated\r\n",
        "EMBEDDING_DIM = 100\r\n",
        "\r\n",
        "#Creating Word Vectors by Word2Vec Method\r\n",
        "w2v_model = gensim.models.Word2Vec(sentences=X, size=EMBEDDING_DIM, window=5, min_count=1)"
      ],
      "execution_count": null,
      "outputs": []
    },
    {
      "cell_type": "code",
      "metadata": {
        "id": "XpRBrkKbXETr"
      },
      "source": [
        "# Tokenizing Text -> Repsesenting each word by a number\r\n",
        "tokenizer = Tokenizer()\r\n",
        "tokenizer.fit_on_texts(X)\r\n",
        "\r\n",
        "X = tokenizer.texts_to_sequences(X)\r\n",
        "word_index = tokenizer.word_index"
      ],
      "execution_count": null,
      "outputs": []
    },
    {
      "cell_type": "code",
      "metadata": {
        "id": "NW4hed-KXETr"
      },
      "source": [
        "# Keep all news at 1000, add padding to news with less than 1000 words and truncating long ones\r\n",
        "maxlen = 1000 \r\n",
        "X = pad_sequences(X, maxlen=maxlen)"
      ],
      "execution_count": null,
      "outputs": []
    },
    {
      "cell_type": "code",
      "metadata": {
        "colab": {
          "base_uri": "https://localhost:8080/"
        },
        "id": "kMrJ4k6CXETs",
        "outputId": "67d7fdd4-e65b-4290-91f4-bcfa07b54588"
      },
      "source": [
        "# Metrics\r\n",
        "prediction = model.predict(X)\r\n",
        "print(\"accuracy: {}%\".format(round(accuracy_score(Y, prediction)*100,2)))\r\n",
        "print(classification_report(Y, prediction))"
      ],
      "execution_count": null,
      "outputs": [
        {
          "output_type": "stream",
          "text": [
            "accuracy: 49.85%\n",
            "              precision    recall  f1-score   support\n",
            "\n",
            "        fake       0.49      0.33      0.39     24729\n",
            "        true       0.50      0.66      0.57     25272\n",
            "\n",
            "    accuracy                           0.50     50001\n",
            "   macro avg       0.50      0.50      0.48     50001\n",
            "weighted avg       0.50      0.50      0.48     50001\n",
            "\n"
          ],
          "name": "stdout"
        }
      ]
    },
    {
      "cell_type": "code",
      "metadata": {
        "colab": {
          "base_uri": "https://localhost:8080/",
          "height": 328
        },
        "id": "Mz5RvPfUXETs",
        "outputId": "7e240acb-2683-4c93-bd5b-029c1e5ec40b"
      },
      "source": [
        "cm = metrics.confusion_matrix(Y, prediction)\r\n",
        "confusion_matrix(cm, classes=['fake', 'real'])"
      ],
      "execution_count": null,
      "outputs": [
        {
          "output_type": "stream",
          "text": [
            "Confusion matrix, without normalization\n"
          ],
          "name": "stdout"
        },
        {
          "output_type": "display_data",
          "data": {
            "image/png": "[encoded data removed]",
            "text/plain": [
              "<Figure size 432x288 with 2 Axes>"
            ]
          },
          "metadata": {
            "tags": [],
            "needs_background": "light"
          }
        }
      ]
    },
    {
      "cell_type": "markdown",
      "metadata": {
        "id": "3QXxolBpL9uC"
      },
      "source": [
        "## Text articles -> LSTM"
      ]
    },
    {
      "cell_type": "code",
      "metadata": {
        "id": "zsyQSEP6jPlu"
      },
      "source": [
        "## train/test split the text data and labels\n",
        "features = news_data['text']\n",
        "labels = news_data['label']\n",
        "X_train, X_test, y_train, y_test = train_test_split(features, labels, random_state = 42)\n"
      ],
      "execution_count": null,
      "outputs": []
    },
    {
      "cell_type": "code",
      "metadata": {
        "id": "JnpQN9Kvv0Ak"
      },
      "source": [
        "print(len(X_train))\n",
        "print(len(y_train))\n",
        "print(len(X_test))\n",
        "print(len(y_test))"
      ],
      "execution_count": null,
      "outputs": []
    },
    {
      "cell_type": "code",
      "metadata": {
        "id": "Dr0_GJXka_go"
      },
      "source": [
        "## not removing stop words to maintain word context\n",
        "max_words = 2000\n",
        "max_len = 400\n",
        "\n",
        "token = Tokenizer(num_words=max_words, lower=True, split=' ')\n",
        "token.fit_on_texts(X_train.values)\n",
        "sequences = token.texts_to_sequences(X_train.values)\n",
        "train_sequences_padded = pad_sequences(sequences, maxlen=max_len)\n"
      ],
      "execution_count": null,
      "outputs": []
    },
    {
      "cell_type": "code",
      "metadata": {
        "id": "K3ElAWQgbItv"
      },
      "source": [
        "embed_dim = 50\n",
        "lstm_out = 64\n",
        "batch_size = 32\n",
        "\n",
        "model = Sequential()\n",
        "model.add(Embedding(max_words, embed_dim, input_length = max_len))\n",
        "model.add(LSTM(lstm_out))\n",
        "model.add(Dense(256))\n",
        "model.add(Activation('relu'))\n",
        "model.add(Dropout(0.5))\n",
        "model.add(Dense(1, name='out_layer'))\n",
        "model.add(Activation('sigmoid'))\n",
        "model.compile(loss = 'binary_crossentropy', optimizer='adam',metrics = ['accuracy'])\n",
        "print(model.summary())"
      ],
      "execution_count": null,
      "outputs": []
    },
    {
      "cell_type": "code",
      "metadata": {
        "id": "I1p_uAXMbNTx"
      },
      "source": [
        "history = model.fit(train_sequences_padded, y_train, batch_size=batch_size, epochs = 20, validation_split=0.25)"
      ],
      "execution_count": null,
      "outputs": []
    },
    {
      "cell_type": "code",
      "metadata": {
        "id": "uwDyYm3AbOBG"
      },
      "source": [
        "# now compare to test values\n",
        "test_sequences = token.texts_to_sequences(X_test)\n",
        "test_sequences_padded = pad_sequences(test_sequences, maxlen=max_len)"
      ],
      "execution_count": null,
      "outputs": []
    },
    {
      "cell_type": "code",
      "metadata": {
        "id": "tdNupq7xbR7u"
      },
      "source": [
        "model.evaluate(test_sequences_padded, y_test)"
      ],
      "execution_count": null,
      "outputs": []
    },
    {
      "cell_type": "code",
      "metadata": {
        "id": "8rEhb2sWbUYf"
      },
      "source": [
        "plt.plot(history.history['accuracy'])\n",
        "plt.plot(history.history['val_accuracy'])\n",
        "plt.title('Model Accuracy')\n",
        "plt.legend(['Training', 'Validation'])\n",
        "plt.ylabel('Accuracy (%)')\n",
        "plt.xlabel('Epochs')\n",
        "plt.xticks([0,1,2,3,4,5,6,7,8,9,10,11,12,13,14,15,16,17,18,19])\n"
      ],
      "execution_count": null,
      "outputs": []
    },
    {
      "cell_type": "code",
      "metadata": {
        "id": "kAYs-CRibW9j"
      },
      "source": [
        "plt.plot(history.history['loss'])\n",
        "plt.plot(history.history['val_loss'])\n",
        "plt.title('Model Loss')\n",
        "plt.legend(['Training', 'Validation'])\n",
        "plt.ylabel('Loss')\n",
        "plt.xlabel('Epochs')\n",
        "plt.xticks([0,1,2,3,4,5,6,7,8,9,10,11,12,13,14,15,16,17,18,19])\n"
      ],
      "execution_count": null,
      "outputs": []
    },
    {
      "cell_type": "markdown",
      "metadata": {
        "id": "jnLWMDkPHJFx"
      },
      "source": [
        "# DATASET 2"
      ]
    },
    {
      "cell_type": "code",
      "metadata": {
        "id": "svF4v4qdHiR3"
      },
      "source": [
        "# Dataset 2\n",
        "X_train_2 = pd.read_csv(os.path.join(PATH, \"Dataset2/train.csv\"))\n",
        "X_train_2 = shuffle(X_train_2)\n",
        "X_train_2 = X_train_2.reset_index(drop=True)"
      ],
      "execution_count": null,
      "outputs": []
    },
    {
      "cell_type": "code",
      "metadata": {
        "colab": {
          "base_uri": "https://localhost:8080/",
          "height": 346
        },
        "id": "Z0zUE9D3Hk0p",
        "outputId": "ace550f2-b273-4066-8c02-1c12b8aff4e3"
      },
      "source": [
        "X_train_2.head()"
      ],
      "execution_count": null,
      "outputs": [
        {
          "output_type": "execute_result",
          "data": {
            "text/html": [
              "<div>\n",
              "<style scoped>\n",
              "    .dataframe tbody tr th:only-of-type {\n",
              "        vertical-align: middle;\n",
              "    }\n",
              "\n",
              "    .dataframe tbody tr th {\n",
              "        vertical-align: top;\n",
              "    }\n",
              "\n",
              "    .dataframe thead th {\n",
              "        text-align: right;\n",
              "    }\n",
              "</style>\n",
              "<table border=\"1\" class=\"dataframe\">\n",
              "  <thead>\n",
              "    <tr style=\"text-align: right;\">\n",
              "      <th></th>\n",
              "      <th>id</th>\n",
              "      <th>title</th>\n",
              "      <th>author</th>\n",
              "      <th>text</th>\n",
              "      <th>label</th>\n",
              "    </tr>\n",
              "  </thead>\n",
              "  <tbody>\n",
              "    <tr>\n",
              "      <th>0</th>\n",
              "      <td>16023</td>\n",
              "      <td>We Are The Anunnaki’s Son’s</td>\n",
              "      <td>Arnold Monteverde (noreply@blogger.com)</td>\n",
              "      <td>We are the Anunnaki’s sons, and have been give...</td>\n",
              "      <td>1</td>\n",
              "    </tr>\n",
              "    <tr>\n",
              "      <th>1</th>\n",
              "      <td>5461</td>\n",
              "      <td>John D. Loudermilk, Who Wrote ‘Tobacco Road’ a...</td>\n",
              "      <td>William Grimes</td>\n",
              "      <td>John D. Loudermilk, a country singer and proli...</td>\n",
              "      <td>0</td>\n",
              "    </tr>\n",
              "    <tr>\n",
              "      <th>2</th>\n",
              "      <td>8383</td>\n",
              "      <td>France and Germany Unite to Oppose President T...</td>\n",
              "      <td>Breitbart London</td>\n",
              "      <td>PARIS (AP)  —   France and Germany formed a un...</td>\n",
              "      <td>0</td>\n",
              "    </tr>\n",
              "    <tr>\n",
              "      <th>3</th>\n",
              "      <td>11697</td>\n",
              "      <td>Migrant Crime and Violence Soars in German Sta...</td>\n",
              "      <td>Virginia Hale</td>\n",
              "      <td>Authorities in two German states have expresse...</td>\n",
              "      <td>0</td>\n",
              "    </tr>\n",
              "    <tr>\n",
              "      <th>4</th>\n",
              "      <td>10814</td>\n",
              "      <td>EU Takes Centre Stage in ’Chaotic’ French Pres...</td>\n",
              "      <td>Nick Hallett</td>\n",
              "      <td>France’s future in the European Union was the ...</td>\n",
              "      <td>0</td>\n",
              "    </tr>\n",
              "  </tbody>\n",
              "</table>\n",
              "</div>"
            ],
            "text/plain": [
              "      id  ... label\n",
              "0  16023  ...     1\n",
              "1   5461  ...     0\n",
              "2   8383  ...     0\n",
              "3  11697  ...     0\n",
              "4  10814  ...     0\n",
              "\n",
              "[5 rows x 5 columns]"
            ]
          },
          "metadata": {
            "tags": []
          },
          "execution_count": 29
        }
      ]
    },
    {
      "cell_type": "code",
      "metadata": {
        "id": "ugQphRz2HmoI"
      },
      "source": [
        "# Combining Title and Text\n",
        "X_train_2[\"text\"] = X_train_2[\"title\"] + \" \" + X_train_2[\"text\"]\n",
        "\n",
        "# Drop id, title, author \n",
        "X_train_2 = X_train_2.drop([\"id\", \"author\",\"title\"], axis=1)"
      ],
      "execution_count": null,
      "outputs": []
    },
    {
      "cell_type": "markdown",
      "metadata": {
        "id": "1nFhfN3zPKK4"
      },
      "source": [
        "## Text articles -> Word2Vec -> LSTM"
      ]
    },
    {
      "cell_type": "code",
      "metadata": {
        "id": "pujmFNojOX-P"
      },
      "source": [
        "y = X_train_2[\"label\"].values\n",
        "#Converting data train to gensim format \n",
        "X = []\n",
        "stop_words = set(nltk.corpus.stopwords.words(\"english\"))\n",
        "tokenizer = nltk.tokenize.RegexpTokenizer(r'\\w+')\n",
        "for par in X_train_2[\"text\"].values:\n",
        "    tmp = []\n",
        "    sentences = nltk.sent_tokenize(str(par))\n",
        "    for sent in sentences:\n",
        "        sent = sent.lower()\n",
        "        tokens = tokenizer.tokenize(sent)\n",
        "        filtered_words = [w.strip() for w in tokens if w not in stop_words and len(w) > 1]\n",
        "        tmp.extend(filtered_words)\n",
        "    X.append(tmp)\n",
        "\n",
        "del X_train_2"
      ],
      "execution_count": null,
      "outputs": []
    },
    {
      "cell_type": "code",
      "metadata": {
        "id": "1eAyhsT6OhIx"
      },
      "source": [
        "#Dimension of generated vectors \n",
        "EMBEDDING_DIM = 100\n",
        "w2v_model = gensim.models.Word2Vec(sentences=X, size=EMBEDDING_DIM, window=5, min_count=1)"
      ],
      "execution_count": null,
      "outputs": []
    },
    {
      "cell_type": "code",
      "metadata": {
        "id": "E8oZfvSXOkrv"
      },
      "source": [
        "# Tokenizing Text -> Repsesenting each word by a number\n",
        "tokenizer = Tokenizer()\n",
        "tokenizer.fit_on_texts(X)\n",
        "\n",
        "X = tokenizer.texts_to_sequences(X)\n",
        "word_index = tokenizer.word_index"
      ],
      "execution_count": null,
      "outputs": []
    },
    {
      "cell_type": "code",
      "metadata": {
        "id": "K9azqBz-OqKm"
      },
      "source": [
        "# Keep all news to 1000\n",
        "maxlen = 1000 \n",
        "X = pad_sequences(X, maxlen=maxlen)\n",
        "vocab_size = len(tokenizer.word_index) + 1"
      ],
      "execution_count": null,
      "outputs": []
    },
    {
      "cell_type": "code",
      "metadata": {
        "colab": {
          "base_uri": "https://localhost:8080/"
        },
        "id": "X3FeX5AmO297",
        "outputId": "02e65137-1857-4e4a-a694-ae80ad9676ab"
      },
      "source": [
        "#Getting embedding vectors from word2vec \n",
        "embedding_vectors = get_weight_matrix(w2v_model, word_index)"
      ],
      "execution_count": null,
      "outputs": [
        {
          "output_type": "stream",
          "text": [
            "/usr/local/lib/python3.6/dist-packages/ipykernel_launcher.py:9: DeprecationWarning: Call to deprecated `__getitem__` (Method will be removed in 4.0.0, use self.wv.__getitem__() instead).\n",
            "  if __name__ == '__main__':\n"
          ],
          "name": "stderr"
        }
      ]
    },
    {
      "cell_type": "code",
      "metadata": {
        "id": "diGUVhOpO8MF"
      },
      "source": [
        "#Defining Neural Network\n",
        "model = Sequential()\n",
        "model.add(Embedding(vocab_size, output_dim=EMBEDDING_DIM, weights=[embedding_vectors], input_length=maxlen, trainable=False))\n",
        "model.add(LSTM(units=128))\n",
        "model.add(Dense(1, activation='sigmoid'))\n",
        "model.compile(optimizer='adam', loss='binary_crossentropy', metrics=['acc'])\n",
        "del embedding_vectors"
      ],
      "execution_count": null,
      "outputs": []
    },
    {
      "cell_type": "code",
      "metadata": {
        "id": "DaGnMpKLO-tV"
      },
      "source": [
        "X_train, X_test, y_train, y_test = train_test_split(X, y) "
      ],
      "execution_count": null,
      "outputs": []
    },
    {
      "cell_type": "code",
      "metadata": {
        "colab": {
          "base_uri": "https://localhost:8080/"
        },
        "id": "Ms41alJJPBjf",
        "outputId": "fe5853c7-4b27-4c69-b2e7-d9560d7b2f6f"
      },
      "source": [
        "history = model.fit(X_train, y_train, validation_split=0.3, epochs=20)"
      ],
      "execution_count": null,
      "outputs": [
        {
          "output_type": "stream",
          "text": [
            "Epoch 1/20\n",
            "342/342 [==============================] - 17s 49ms/step - loss: 0.2993 - acc: 0.8778 - val_loss: 0.2409 - val_acc: 0.9041\n",
            "Epoch 2/20\n",
            "342/342 [==============================] - 16s 47ms/step - loss: 0.2161 - acc: 0.9118 - val_loss: 0.2166 - val_acc: 0.9122\n",
            "Epoch 3/20\n",
            "342/342 [==============================] - 16s 47ms/step - loss: 0.1764 - acc: 0.9312 - val_loss: 0.1476 - val_acc: 0.9476\n",
            "Epoch 4/20\n",
            "342/342 [==============================] - 16s 48ms/step - loss: 0.1194 - acc: 0.9565 - val_loss: 0.1496 - val_acc: 0.9502\n",
            "Epoch 5/20\n",
            "342/342 [==============================] - 16s 48ms/step - loss: 0.1091 - acc: 0.9603 - val_loss: 0.0978 - val_acc: 0.9632\n",
            "Epoch 6/20\n",
            "342/342 [==============================] - 16s 47ms/step - loss: 0.1676 - acc: 0.9340 - val_loss: 0.1449 - val_acc: 0.9440\n",
            "Epoch 7/20\n",
            "342/342 [==============================] - 16s 47ms/step - loss: 0.0972 - acc: 0.9657 - val_loss: 0.0976 - val_acc: 0.9690\n",
            "Epoch 8/20\n",
            "342/342 [==============================] - 16s 47ms/step - loss: 0.0563 - acc: 0.9795 - val_loss: 0.0660 - val_acc: 0.9754\n",
            "Epoch 9/20\n",
            "342/342 [==============================] - 16s 48ms/step - loss: 0.0383 - acc: 0.9872 - val_loss: 0.0692 - val_acc: 0.9761\n",
            "Epoch 10/20\n",
            "342/342 [==============================] - 16s 48ms/step - loss: 0.0285 - acc: 0.9903 - val_loss: 0.0651 - val_acc: 0.9776\n",
            "Epoch 11/20\n",
            "342/342 [==============================] - 16s 48ms/step - loss: 0.0171 - acc: 0.9950 - val_loss: 0.0734 - val_acc: 0.9756\n",
            "Epoch 12/20\n",
            "342/342 [==============================] - 16s 48ms/step - loss: 0.0202 - acc: 0.9931 - val_loss: 0.0687 - val_acc: 0.9782\n",
            "Epoch 13/20\n",
            "342/342 [==============================] - 16s 48ms/step - loss: 0.0128 - acc: 0.9964 - val_loss: 0.0675 - val_acc: 0.9784\n",
            "Epoch 14/20\n",
            "342/342 [==============================] - 16s 48ms/step - loss: 0.0058 - acc: 0.9986 - val_loss: 0.0739 - val_acc: 0.9801\n",
            "Epoch 15/20\n",
            "342/342 [==============================] - 16s 48ms/step - loss: 0.0128 - acc: 0.9960 - val_loss: 0.0738 - val_acc: 0.9782\n",
            "Epoch 16/20\n",
            "342/342 [==============================] - 16s 48ms/step - loss: 0.0123 - acc: 0.9966 - val_loss: 0.0711 - val_acc: 0.9748\n",
            "Epoch 17/20\n",
            "342/342 [==============================] - 16s 48ms/step - loss: 0.0070 - acc: 0.9986 - val_loss: 0.0836 - val_acc: 0.9784\n",
            "Epoch 18/20\n",
            "342/342 [==============================] - 16s 48ms/step - loss: 0.0071 - acc: 0.9980 - val_loss: 0.0747 - val_acc: 0.9795\n",
            "Epoch 19/20\n",
            "342/342 [==============================] - 16s 48ms/step - loss: 0.0027 - acc: 0.9995 - val_loss: 0.0809 - val_acc: 0.9825\n",
            "Epoch 20/20\n",
            "342/342 [==============================] - 16s 48ms/step - loss: 0.0012 - acc: 0.9998 - val_loss: 0.0822 - val_acc: 0.9814\n"
          ],
          "name": "stdout"
        }
      ]
    },
    {
      "cell_type": "code",
      "metadata": {
        "colab": {
          "base_uri": "https://localhost:8080/"
        },
        "id": "b7yyb5bKPGIh",
        "outputId": "e2bf8c74-8e4a-4a6d-df56-e6c81b9e68cf"
      },
      "source": [
        "y_pred = model.predict(X_test)\n",
        "y_pred = (y_pred >= 0.5).astype(\"int\")\n",
        "print(accuracy_score(y_test, y_pred))\n",
        "print(classification_report(y_test, y_pred))"
      ],
      "execution_count": null,
      "outputs": [
        {
          "output_type": "stream",
          "text": [
            "0.9826923076923076\n",
            "              precision    recall  f1-score   support\n",
            "\n",
            "           0       0.98      0.98      0.98      2606\n",
            "           1       0.98      0.98      0.98      2594\n",
            "\n",
            "    accuracy                           0.98      5200\n",
            "   macro avg       0.98      0.98      0.98      5200\n",
            "weighted avg       0.98      0.98      0.98      5200\n",
            "\n"
          ],
          "name": "stdout"
        }
      ]
    },
    {
      "cell_type": "code",
      "metadata": {
        "colab": {
          "base_uri": "https://localhost:8080/",
          "height": 648
        },
        "id": "IldkpHwGTSc_",
        "outputId": "72ca3491-76d1-4c82-a4ff-430fe63c53d9"
      },
      "source": [
        "plt.plot(history.history['loss'])\n",
        "plt.plot(history.history['val_loss'])\n",
        "plt.title('Model Loss')\n",
        "plt.legend(['Training', 'Validation'])\n",
        "plt.ylabel('Loss')\n",
        "plt.xlabel('Epochs')\n",
        "plt.xticks([0,1,2,3,4,5,6,7,8,9,10,11,12,13,14,15,16,17,18,19])\n"
      ],
      "execution_count": null,
      "outputs": [
        {
          "output_type": "execute_result",
          "data": {
            "text/plain": [
              "([<matplotlib.axis.XTick at 0x7f3660a19c18>,\n",
              "  <matplotlib.axis.XTick at 0x7f3660a19908>,\n",
              "  <matplotlib.axis.XTick at 0x7f3660a19748>,\n",
              "  <matplotlib.axis.XTick at 0x7f3660a242b0>,\n",
              "  <matplotlib.axis.XTick at 0x7f3660a24eb8>,\n",
              "  <matplotlib.axis.XTick at 0x7f3660a268d0>,\n",
              "  <matplotlib.axis.XTick at 0x7f3660a26978>,\n",
              "  <matplotlib.axis.XTick at 0x7f3660a284e0>,\n",
              "  <matplotlib.axis.XTick at 0x7f3660a28be0>,\n",
              "  <matplotlib.axis.XTick at 0x7f3660a28588>,\n",
              "  <matplotlib.axis.XTick at 0x7f3660a21438>,\n",
              "  <matplotlib.axis.XTick at 0x7f3660a21b38>,\n",
              "  <matplotlib.axis.XTick at 0x7f3660a21be0>,\n",
              "  <matplotlib.axis.XTick at 0x7f3660a21978>,\n",
              "  <matplotlib.axis.XTick at 0x7f3660a28fd0>,\n",
              "  <matplotlib.axis.XTick at 0x7f3660a26b38>,\n",
              "  <matplotlib.axis.XTick at 0x7f3660a272e8>,\n",
              "  <matplotlib.axis.XTick at 0x7f3660a274a8>,\n",
              "  <matplotlib.axis.XTick at 0x7f3660a27d30>,\n",
              "  <matplotlib.axis.XTick at 0x7f3660a2a2e8>],\n",
              " <a list of 20 Text major ticklabel objects>)"
            ]
          },
          "metadata": {
            "tags": []
          },
          "execution_count": 41
        },
        {
          "output_type": "display_data",
          "data": {
            "image/png": "[encoded data removed]",
            "text/plain": [
              "<Figure size 432x288 with 1 Axes>"
            ]
          },
          "metadata": {
            "tags": []
          }
        }
      ]
    },
    {
      "cell_type": "code",
      "metadata": {
        "id": "AYUzj67VKMCZ"
      },
      "source": [
        "def confusion_matrix(cm, classes,\r\n",
        "                          normalize=False,\r\n",
        "                          title='Confusion matrix',\r\n",
        "                          cmap=plt.cm.Blues):\r\n",
        "    \r\n",
        "    plt.imshow(cm, interpolation='nearest', cmap=cmap)\r\n",
        "    plt.title(title)\r\n",
        "    plt.colorbar()\r\n",
        "    tick_marks = np.arange(len(classes))\r\n",
        "    plt.xticks(tick_marks, classes, rotation=45)\r\n",
        "    plt.yticks(tick_marks, classes)\r\n",
        "    if normalize:\r\n",
        "        cm = cm.astype('float') / cm.sum(axis=1)[:, np.newaxis]\r\n",
        "        print(\"Normalized confusion matrix\")\r\n",
        "    else:\r\n",
        "        print('Confusion matrix, without normalization')\r\n",
        "    thresh = cm.max() / 2.\r\n",
        "    for i, j in itertools.product(range(cm.shape[0]), range(cm.shape[1])):\r\n",
        "        plt.text(j, i, cm[i, j],\r\n",
        "                 horizontalalignment=\"center\",\r\n",
        "                 color=\"white\" if cm[i, j] > thresh else \"black\")\r\n",
        "    plt.tight_layout()\r\n",
        "    plt.ylabel('True label')\r\n",
        "    plt.xlabel('Predicted label')"
      ],
      "execution_count": null,
      "outputs": []
    },
    {
      "cell_type": "code",
      "metadata": {
        "colab": {
          "base_uri": "https://localhost:8080/",
          "height": 328
        },
        "id": "DmNGz64jJ5h8",
        "outputId": "943839fc-6746-491c-abb7-235438e0d313"
      },
      "source": [
        "cm = metrics.confusion_matrix(y_test, y_pred)\r\n",
        "confusion_matrix(cm, classes=[1, 0])"
      ],
      "execution_count": null,
      "outputs": [
        {
          "output_type": "stream",
          "text": [
            "Confusion matrix, without normalization\n"
          ],
          "name": "stdout"
        },
        {
          "output_type": "display_data",
          "data": {
            "image/png": "[encoded data removed]",
            "text/plain": [
              "<Figure size 432x288 with 2 Axes>"
            ]
          },
          "metadata": {
            "tags": []
          }
        }
      ]
    },
    {
      "cell_type": "code",
      "metadata": {
        "id": "MK6fAqc5TUim"
      },
      "source": [
        "plt.plot(history.history['accuracy'])\n",
        "plt.plot(history.history['val_accuracy'])\n",
        "plt.title('Model Accuracy')\n",
        "plt.legend(['Training', 'Validation'])\n",
        "plt.ylabel('Accuracy (%)')\n",
        "plt.xlabel('Epochs')\n",
        "plt.xticks([0,1,2,3,4,5,6,7,8,9,10,11,12,13,14,15,16,17,18,19])\n"
      ],
      "execution_count": null,
      "outputs": []
    },
    {
      "cell_type": "markdown",
      "metadata": {
        "id": "9qinFVlnZSNT"
      },
      "source": [
        "## Dataset 2 - Dataset 1"
      ]
    },
    {
      "cell_type": "code",
      "metadata": {
        "id": "YhybQIqaZSNW"
      },
      "source": [
        "#Dataset 1\n",
        "fake_data = pd.read_csv(os.path.join(PATH, \"Dataset/Fake.csv\"))\n",
        "true_data = pd.read_csv(os.path.join(PATH, \"Dataset/True.csv\"))\n",
        "fake_data['label'] = 'fake'\n",
        "true_data['label'] = 'true'"
      ],
      "execution_count": null,
      "outputs": []
    },
    {
      "cell_type": "code",
      "metadata": {
        "id": "LZNQyPgRZSNX"
      },
      "source": [
        "# Clean data\n",
        "# Remove publication part\n",
        "tmp_text = []\n",
        "for index,row in enumerate(true_data.text.values):\n",
        "    record = row.split(\" -\", maxsplit=1)\n",
        "    if len(record) > 1 and len(record[0]) < 260:\n",
        "        tmp_text.append(record[1])\n",
        "    else:\n",
        "        tmp_text.append(row)\n",
        "\n",
        "true_data[\"text\"] = tmp_text\n",
        "del tmp_text, record"
      ],
      "execution_count": null,
      "outputs": []
    },
    {
      "cell_type": "code",
      "metadata": {
        "id": "ECXv8BLqZSNY"
      },
      "source": [
        "X_test = pd.concat([fake_data, true_data]).reset_index(drop = True)\n",
        "X_test = shuffle(X_test)\n",
        "X_test = X_test.reset_index(drop=True)"
      ],
      "execution_count": null,
      "outputs": []
    },
    {
      "cell_type": "code",
      "metadata": {
        "id": "V-oYtsQDZSNZ"
      },
      "source": [
        "# Merge title and text column\r\n",
        "X_test[\"text\"] = X_test[\"title\"] + \" \" + X_test[\"text\"]\r\n",
        "\r\n",
        "# Remove useless columns\r\n",
        "X_test.drop([\"title\"],axis=1,inplace=True)\r\n",
        "X_test.drop([\"subject\"],axis=1,inplace=True)\r\n",
        "X_test.drop([\"date\"],axis=1,inplace=True)\r\n"
      ],
      "execution_count": null,
      "outputs": []
    },
    {
      "cell_type": "code",
      "metadata": {
        "id": "SRdN4lNcZSNZ"
      },
      "source": [
        "Y = X_test[\"label\"].values\n",
        "# Converting train data to format for gensim library  while removing punctuation, stopwords, lowercasing\n",
        "X = []\n",
        "stop_words = set(nltk.corpus.stopwords.words(\"english\"))\n",
        "tokenizer = nltk.tokenize.RegexpTokenizer(r'\\w+')\n",
        "for par in X_test[\"text\"].values:\n",
        "    tmp = []\n",
        "    sentences = nltk.sent_tokenize(par)\n",
        "    for sent in sentences:\n",
        "        sent = sent.lower()\n",
        "        tokens = tokenizer.tokenize(sent)\n",
        "        filtered_words = [w.strip() for w in tokens if w not in stop_words and len(w) > 1]\n",
        "        tmp.extend(filtered_words)\n",
        "    X.append(tmp)\n",
        "\n",
        "del X_test"
      ],
      "execution_count": null,
      "outputs": []
    },
    {
      "cell_type": "code",
      "metadata": {
        "id": "WEN-SBEfZSNe"
      },
      "source": [
        "#Dimension of vectors generated\r\n",
        "EMBEDDING_DIM = 100\r\n",
        "w2v_model = gensim.models.Word2Vec(sentences=X, size=EMBEDDING_DIM, window=5, min_count=1)"
      ],
      "execution_count": null,
      "outputs": []
    },
    {
      "cell_type": "code",
      "metadata": {
        "id": "jOYnqdGoZSNf"
      },
      "source": [
        "# Tokenizing Text -> Repsesenting each word by a number\r\n",
        "tokenizer = Tokenizer()\r\n",
        "tokenizer.fit_on_texts(X)\r\n",
        "\r\n",
        "X = tokenizer.texts_to_sequences(X)\r\n",
        "word_index = tokenizer.word_index"
      ],
      "execution_count": null,
      "outputs": []
    },
    {
      "cell_type": "code",
      "metadata": {
        "id": "FW4Nfyo5ZSNf"
      },
      "source": [
        "# Keep all news at 1000, add padding to news with less than 1000 words and truncating long ones\r\n",
        "maxlen = 1000 \r\n",
        "X = pad_sequences(X, maxlen=maxlen)"
      ],
      "execution_count": null,
      "outputs": []
    },
    {
      "cell_type": "code",
      "metadata": {
        "id": "ptpMPjxcZSNg"
      },
      "source": [
        "# Metrics\r\n",
        "prediction = model.predict(X)"
      ],
      "execution_count": null,
      "outputs": []
    },
    {
      "cell_type": "code",
      "metadata": {
        "id": "-Z7eDCRDZSNg"
      },
      "source": [
        "Y2 = np.array([0 if i  == \"true\" else 1 for i in Y])"
      ],
      "execution_count": null,
      "outputs": []
    },
    {
      "cell_type": "code",
      "metadata": {
        "colab": {
          "base_uri": "https://localhost:8080/",
          "height": 178
        },
        "id": "gbtFgUcNZSNh",
        "outputId": "0d9e698a-a1eb-4470-f403-ff8ca0423f2f"
      },
      "source": [
        "print(\"accuracy: {}%\".format(round(accuracy_score(Y2, prediction)*100,2)))\r\n",
        "print(classification_report(Y2, prediction))"
      ],
      "execution_count": null,
      "outputs": [
        {
          "output_type": "error",
          "ename": "NameError",
          "evalue": "ignored",
          "traceback": [
            "\u001b[0;31m---------------------------------------------------------------------------\u001b[0m",
            "\u001b[0;31mNameError\u001b[0m                                 Traceback (most recent call last)",
            "\u001b[0;32m<ipython-input-1-74fc5b47b267>\u001b[0m in \u001b[0;36m<module>\u001b[0;34m()\u001b[0m\n\u001b[0;32m----> 1\u001b[0;31m \u001b[0mprint\u001b[0m\u001b[0;34m(\u001b[0m\u001b[0;34m\"accuracy: {}%\"\u001b[0m\u001b[0;34m.\u001b[0m\u001b[0mformat\u001b[0m\u001b[0;34m(\u001b[0m\u001b[0mround\u001b[0m\u001b[0;34m(\u001b[0m\u001b[0maccuracy_score\u001b[0m\u001b[0;34m(\u001b[0m\u001b[0mY2\u001b[0m\u001b[0;34m,\u001b[0m \u001b[0mprediction\u001b[0m\u001b[0;34m)\u001b[0m\u001b[0;34m*\u001b[0m\u001b[0;36m100\u001b[0m\u001b[0;34m,\u001b[0m\u001b[0;36m2\u001b[0m\u001b[0;34m)\u001b[0m\u001b[0;34m)\u001b[0m\u001b[0;34m)\u001b[0m\u001b[0;34m\u001b[0m\u001b[0;34m\u001b[0m\u001b[0m\n\u001b[0m\u001b[1;32m      2\u001b[0m \u001b[0mprint\u001b[0m\u001b[0;34m(\u001b[0m\u001b[0mclassification_report\u001b[0m\u001b[0;34m(\u001b[0m\u001b[0mY2\u001b[0m\u001b[0;34m,\u001b[0m \u001b[0mprediction\u001b[0m\u001b[0;34m)\u001b[0m\u001b[0;34m)\u001b[0m\u001b[0;34m\u001b[0m\u001b[0;34m\u001b[0m\u001b[0m\n",
            "\u001b[0;31mNameError\u001b[0m: name 'accuracy_score' is not defined"
          ]
        }
      ]
    },
    {
      "cell_type": "code",
      "metadata": {
        "colab": {
          "base_uri": "https://localhost:8080/",
          "height": 178
        },
        "id": "D26Y_OdBZSNh",
        "outputId": "c3bac47c-00b7-43d4-bf36-6bcf84a35ebd"
      },
      "source": [
        "cm = metrics.confusion_matrix(Y2, prediction)\r\n",
        "confusion_matrix(cm, classes=['fake', 'real'])"
      ],
      "execution_count": null,
      "outputs": [
        {
          "output_type": "error",
          "ename": "NameError",
          "evalue": "ignored",
          "traceback": [
            "\u001b[0;31m---------------------------------------------------------------------------\u001b[0m",
            "\u001b[0;31mNameError\u001b[0m                                 Traceback (most recent call last)",
            "\u001b[0;32m<ipython-input-2-ada1a6943b58>\u001b[0m in \u001b[0;36m<module>\u001b[0;34m()\u001b[0m\n\u001b[0;32m----> 1\u001b[0;31m \u001b[0mcm\u001b[0m \u001b[0;34m=\u001b[0m \u001b[0mmetrics\u001b[0m\u001b[0;34m.\u001b[0m\u001b[0mconfusion_matrix\u001b[0m\u001b[0;34m(\u001b[0m\u001b[0mY2\u001b[0m\u001b[0;34m,\u001b[0m \u001b[0mprediction\u001b[0m\u001b[0;34m)\u001b[0m\u001b[0;34m\u001b[0m\u001b[0;34m\u001b[0m\u001b[0m\n\u001b[0m\u001b[1;32m      2\u001b[0m \u001b[0mconfusion_matrix\u001b[0m\u001b[0;34m(\u001b[0m\u001b[0mcm\u001b[0m\u001b[0;34m,\u001b[0m \u001b[0mclasses\u001b[0m\u001b[0;34m=\u001b[0m\u001b[0;34m[\u001b[0m\u001b[0;34m'fake'\u001b[0m\u001b[0;34m,\u001b[0m \u001b[0;34m'real'\u001b[0m\u001b[0;34m]\u001b[0m\u001b[0;34m)\u001b[0m\u001b[0;34m\u001b[0m\u001b[0;34m\u001b[0m\u001b[0m\n",
            "\u001b[0;31mNameError\u001b[0m: name 'metrics' is not defined"
          ]
        }
      ]
    },
    {
      "cell_type": "markdown",
      "metadata": {
        "id": "Jva3ggt6e6I5"
      },
      "source": [
        "## Dataset 2 - Dataset 3"
      ]
    },
    {
      "cell_type": "code",
      "metadata": {
        "id": "I8XEE0u4em31"
      },
      "source": [
        "X_test = pd.read_csv(os.path.join(PATH, \"Dataset3/smaller_dataset.csv\"))"
      ],
      "execution_count": null,
      "outputs": []
    },
    {
      "cell_type": "code",
      "metadata": {
        "id": "HVziKBNgem34"
      },
      "source": [
        "X_test = shuffle(X_test)\r\n",
        "X_test = X_test.reset_index(drop=True)"
      ],
      "execution_count": null,
      "outputs": []
    },
    {
      "cell_type": "code",
      "metadata": {
        "id": "OAQwGOldem35"
      },
      "source": [
        "stop_words = set(nltk.corpus.stopwords.words(\"english\"))\r\n",
        "tokenizer = nltk.tokenize.RegexpTokenizer(r'\\w+')"
      ],
      "execution_count": null,
      "outputs": []
    },
    {
      "cell_type": "code",
      "metadata": {
        "id": "W-9yCy_sem35"
      },
      "source": [
        "X = []\r\n",
        "Y = []"
      ],
      "execution_count": null,
      "outputs": []
    },
    {
      "cell_type": "code",
      "metadata": {
        "id": "jHS-9JJyem36"
      },
      "source": [
        "def pre_process(df):\r\n",
        "    for i in range(len(df[\"content\"])):\r\n",
        "        tmp = []\r\n",
        "        sentences = nltk.sent_tokenize(str(df['content'][i]))\r\n",
        "        for sent in sentences:\r\n",
        "            sent = sent.lower()\r\n",
        "            tokens = tokenizer.tokenize(sent)\r\n",
        "            del sent\r\n",
        "            filtered_words = [w.strip() for w in tokens if w not in stop_words and len(w) > 1]\r\n",
        "            del tokens\r\n",
        "            tmp.extend(filtered_words)\r\n",
        "            del filtered_words\r\n",
        "        X.append(tmp)\r\n",
        "        Y.append(df['type'][i])\r\n",
        "        del sentences, tmp, df['content'][i], df['type'][i]\r\n",
        "    del df\r\n",
        "\r\n",
        "pre_process(X_test)"
      ],
      "execution_count": null,
      "outputs": []
    },
    {
      "cell_type": "code",
      "metadata": {
        "id": "VD1NGZ-tem36"
      },
      "source": [
        "#Dimension of vectors generated\r\n",
        "EMBEDDING_DIM = 100\r\n",
        "\r\n",
        "#Creating Word Vectors by Word2Vec Method\r\n",
        "w2v_model = gensim.models.Word2Vec(sentences=X, size=EMBEDDING_DIM, window=5, min_count=1)"
      ],
      "execution_count": null,
      "outputs": []
    },
    {
      "cell_type": "code",
      "metadata": {
        "id": "dOC7IvSIem36"
      },
      "source": [
        "# Tokenizing Text -> Repsesenting each word by a number\r\n",
        "tokenizer = Tokenizer()\r\n",
        "tokenizer.fit_on_texts(X)\r\n",
        "\r\n",
        "X = tokenizer.texts_to_sequences(X)\r\n",
        "word_index = tokenizer.word_index"
      ],
      "execution_count": null,
      "outputs": []
    },
    {
      "cell_type": "code",
      "metadata": {
        "id": "zcjYtp2Fem37"
      },
      "source": [
        "# Keep all news at 1000, add padding to news with less than 1000 words and truncating long ones\r\n",
        "maxlen = 1000 \r\n",
        "X = pad_sequences(X, maxlen=maxlen)"
      ],
      "execution_count": null,
      "outputs": []
    },
    {
      "cell_type": "code",
      "metadata": {
        "id": "gZ4ZGu0Ch39A"
      },
      "source": [
        "Y2 = np.array([0 if i  == \"true\" else 1 for i in Y])"
      ],
      "execution_count": null,
      "outputs": []
    },
    {
      "cell_type": "code",
      "metadata": {
        "colab": {
          "base_uri": "https://localhost:8080/",
          "height": 212
        },
        "id": "df9vwncRem37",
        "outputId": "888bbbae-f413-4103-e278-11f7c25264e2"
      },
      "source": [
        "# Metrics\r\n",
        "prediction = model.predict(X)\r\n",
        "print(\"accuracy: {}%\".format(round(accuracy_score(Y2, prediction)*100,2)))\r\n",
        "print(classification_report(Y2, prediction))"
      ],
      "execution_count": null,
      "outputs": [
        {
          "output_type": "error",
          "ename": "NameError",
          "evalue": "ignored",
          "traceback": [
            "\u001b[0;31m---------------------------------------------------------------------------\u001b[0m",
            "\u001b[0;31mNameError\u001b[0m                                 Traceback (most recent call last)",
            "\u001b[0;32m<ipython-input-3-86a5378e46cf>\u001b[0m in \u001b[0;36m<module>\u001b[0;34m()\u001b[0m\n\u001b[1;32m      1\u001b[0m \u001b[0;31m# Metrics\u001b[0m\u001b[0;34m\u001b[0m\u001b[0;34m\u001b[0m\u001b[0;34m\u001b[0m\u001b[0m\n\u001b[0;32m----> 2\u001b[0;31m \u001b[0mprediction\u001b[0m \u001b[0;34m=\u001b[0m \u001b[0mmodel\u001b[0m\u001b[0;34m.\u001b[0m\u001b[0mpredict\u001b[0m\u001b[0;34m(\u001b[0m\u001b[0mX\u001b[0m\u001b[0;34m)\u001b[0m\u001b[0;34m\u001b[0m\u001b[0;34m\u001b[0m\u001b[0m\n\u001b[0m\u001b[1;32m      3\u001b[0m \u001b[0mprint\u001b[0m\u001b[0;34m(\u001b[0m\u001b[0;34m\"accuracy: {}%\"\u001b[0m\u001b[0;34m.\u001b[0m\u001b[0mformat\u001b[0m\u001b[0;34m(\u001b[0m\u001b[0mround\u001b[0m\u001b[0;34m(\u001b[0m\u001b[0maccuracy_score\u001b[0m\u001b[0;34m(\u001b[0m\u001b[0mY2\u001b[0m\u001b[0;34m,\u001b[0m \u001b[0mprediction\u001b[0m\u001b[0;34m)\u001b[0m\u001b[0;34m*\u001b[0m\u001b[0;36m100\u001b[0m\u001b[0;34m,\u001b[0m\u001b[0;36m2\u001b[0m\u001b[0;34m)\u001b[0m\u001b[0;34m)\u001b[0m\u001b[0;34m)\u001b[0m\u001b[0;34m\u001b[0m\u001b[0;34m\u001b[0m\u001b[0m\n\u001b[1;32m      4\u001b[0m \u001b[0mprint\u001b[0m\u001b[0;34m(\u001b[0m\u001b[0mclassification_report\u001b[0m\u001b[0;34m(\u001b[0m\u001b[0mY2\u001b[0m\u001b[0;34m,\u001b[0m \u001b[0mprediction\u001b[0m\u001b[0;34m)\u001b[0m\u001b[0;34m)\u001b[0m\u001b[0;34m\u001b[0m\u001b[0;34m\u001b[0m\u001b[0m\n",
            "\u001b[0;31mNameError\u001b[0m: name 'model' is not defined"
          ]
        }
      ]
    },
    {
      "cell_type": "code",
      "metadata": {
        "colab": {
          "base_uri": "https://localhost:8080/",
          "height": 178
        },
        "id": "b6WURQhRem37",
        "outputId": "7b76c959-d750-49e9-f744-55352ab0dc34"
      },
      "source": [
        "cm = metrics.confusion_matrix(Y2, prediction)\r\n",
        "confusion_matrix(cm, classes=['fake', 'real'])"
      ],
      "execution_count": null,
      "outputs": [
        {
          "output_type": "error",
          "ename": "NameError",
          "evalue": "ignored",
          "traceback": [
            "\u001b[0;31m---------------------------------------------------------------------------\u001b[0m",
            "\u001b[0;31mNameError\u001b[0m                                 Traceback (most recent call last)",
            "\u001b[0;32m<ipython-input-4-ada1a6943b58>\u001b[0m in \u001b[0;36m<module>\u001b[0;34m()\u001b[0m\n\u001b[0;32m----> 1\u001b[0;31m \u001b[0mcm\u001b[0m \u001b[0;34m=\u001b[0m \u001b[0mmetrics\u001b[0m\u001b[0;34m.\u001b[0m\u001b[0mconfusion_matrix\u001b[0m\u001b[0;34m(\u001b[0m\u001b[0mY2\u001b[0m\u001b[0;34m,\u001b[0m \u001b[0mprediction\u001b[0m\u001b[0;34m)\u001b[0m\u001b[0;34m\u001b[0m\u001b[0;34m\u001b[0m\u001b[0m\n\u001b[0m\u001b[1;32m      2\u001b[0m \u001b[0mconfusion_matrix\u001b[0m\u001b[0;34m(\u001b[0m\u001b[0mcm\u001b[0m\u001b[0;34m,\u001b[0m \u001b[0mclasses\u001b[0m\u001b[0;34m=\u001b[0m\u001b[0;34m[\u001b[0m\u001b[0;34m'fake'\u001b[0m\u001b[0;34m,\u001b[0m \u001b[0;34m'real'\u001b[0m\u001b[0;34m]\u001b[0m\u001b[0;34m)\u001b[0m\u001b[0;34m\u001b[0m\u001b[0;34m\u001b[0m\u001b[0m\n",
            "\u001b[0;31mNameError\u001b[0m: name 'metrics' is not defined"
          ]
        }
      ]
    },
    {
      "cell_type": "markdown",
      "metadata": {
        "id": "ZjQ1h265PRns"
      },
      "source": [
        "## Text articles -> LSTM"
      ]
    },
    {
      "cell_type": "code",
      "metadata": {
        "id": "o5y7iysyPMTj"
      },
      "source": [
        "X_train_2 = pd.read_csv(os.path.join(PATH, \"Dataset2/train.csv\"))\n",
        "X_train_2 = shuffle(X_train_2)\n",
        "X_train_2 = X_train_2.reset_index(drop=True)\n",
        "\n",
        "## train/test split the text data and labels\n",
        "features = X_train_2['text']\n",
        "labels = X_train_2['label']\n",
        "X_train, X_test, y_train, y_test = train_test_split(features, labels, random_state = 42)\n"
      ],
      "execution_count": null,
      "outputs": []
    },
    {
      "cell_type": "code",
      "metadata": {
        "id": "UVCV-hiLPg17"
      },
      "source": [
        "## not removing stop words to maintain word context\n",
        "max_words = 2000\n",
        "max_len = 400\n",
        "\n",
        "token = Tokenizer(num_words=max_words, lower=True, split=' ')\n",
        "token.fit_on_texts(X_train.values)\n",
        "sequences = token.texts_to_sequences(X_train.values)\n",
        "train_sequences_padded = pad_sequences(sequences, maxlen=max_len)\n"
      ],
      "execution_count": null,
      "outputs": []
    },
    {
      "cell_type": "code",
      "metadata": {
        "id": "U6tBpC8-Pi6-"
      },
      "source": [
        "embed_dim = 50\n",
        "lstm_out = 64\n",
        "batch_size = 32\n",
        "\n",
        "model = Sequential()\n",
        "model.add(Embedding(max_words, embed_dim, input_length = max_len))\n",
        "model.add(LSTM(lstm_out))\n",
        "model.add(Dense(256))\n",
        "model.add(Activation('relu'))\n",
        "model.add(Dropout(0.5))\n",
        "model.add(Dense(1, name='out_layer'))\n",
        "model.add(Activation('sigmoid'))\n",
        "model.compile(loss = 'binary_crossentropy', optimizer='adam',metrics = ['accuracy'])\n",
        "print(model.summary())"
      ],
      "execution_count": null,
      "outputs": []
    },
    {
      "cell_type": "code",
      "metadata": {
        "id": "-VX9GLXVPlUl"
      },
      "source": [
        "history = model.fit(train_sequences_padded, y_train, batch_size=batch_size, epochs = 5, validation_split=0.2)"
      ],
      "execution_count": null,
      "outputs": []
    },
    {
      "cell_type": "code",
      "metadata": {
        "id": "HVzGXquEQEQB"
      },
      "source": [
        "# now compare to test values\n",
        "test_sequences = token.texts_to_sequences(X_test)\n",
        "test_sequences_padded = pad_sequences(test_sequences, maxlen=max_len)"
      ],
      "execution_count": null,
      "outputs": []
    },
    {
      "cell_type": "code",
      "metadata": {
        "id": "41oAve00QG-h"
      },
      "source": [
        "model.evaluate(test_sequences_padded, y_test)"
      ],
      "execution_count": null,
      "outputs": []
    },
    {
      "cell_type": "code",
      "metadata": {
        "id": "GzCWQsh6QKUg"
      },
      "source": [
        "plt.plot(history.history['accuracy'])\n",
        "plt.plot(history.history['val_accuracy'])\n",
        "plt.title('Model Accuracy')\n",
        "plt.legend(['Training', 'Validation'])\n",
        "plt.ylabel('Accuracy (%)')\n",
        "plt.xlabel('Epochs')\n",
        "plt.xticks([0,1,2,3,4])"
      ],
      "execution_count": null,
      "outputs": []
    },
    {
      "cell_type": "code",
      "metadata": {
        "id": "GBO-RhApQM1u"
      },
      "source": [
        "plt.plot(history.history['loss'])\n",
        "plt.plot(history.history['val_loss'])\n",
        "plt.title('Model Loss')\n",
        "plt.legend(['Training', 'Validation'])\n",
        "plt.ylabel('Loss')\n",
        "plt.xlabel('Epochs')\n",
        "plt.xticks([0,1,2,3,4])"
      ],
      "execution_count": null,
      "outputs": []
    },
    {
      "cell_type": "markdown",
      "metadata": {
        "id": "aIc_z-y5w2OV"
      },
      "source": [
        ""
      ]
    },
    {
      "cell_type": "markdown",
      "metadata": {
        "id": "Ll-CWYdQw-yG"
      },
      "source": [
        "# DATASET 3"
      ]
    },
    {
      "cell_type": "code",
      "metadata": {
        "id": "wUNJ6kR_uj3g",
        "colab": {
          "base_uri": "https://localhost:8080/",
          "height": 162
        },
        "outputId": "e24843ef-9ef5-4395-9ee1-312ef713511d"
      },
      "source": [
        "result = pd.read_csv(os.path.join(PATH, \"Dataset3/smaller_dataset.csv\"))"
      ],
      "execution_count": null,
      "outputs": [
        {
          "output_type": "error",
          "ename": "NameError",
          "evalue": "ignored",
          "traceback": [
            "\u001b[0;31m---------------------------------------------------------------------------\u001b[0m",
            "\u001b[0;31mNameError\u001b[0m                                 Traceback (most recent call last)",
            "\u001b[0;32m<ipython-input-1-d97059d5dfa5>\u001b[0m in \u001b[0;36m<module>\u001b[0;34m()\u001b[0m\n\u001b[0;32m----> 1\u001b[0;31m \u001b[0mresult\u001b[0m \u001b[0;34m=\u001b[0m \u001b[0mpd\u001b[0m\u001b[0;34m.\u001b[0m\u001b[0mread_csv\u001b[0m\u001b[0;34m(\u001b[0m\u001b[0mos\u001b[0m\u001b[0;34m.\u001b[0m\u001b[0mpath\u001b[0m\u001b[0;34m.\u001b[0m\u001b[0mjoin\u001b[0m\u001b[0;34m(\u001b[0m\u001b[0mPATH\u001b[0m\u001b[0;34m,\u001b[0m \u001b[0;34m\"Dataset3/smaller_dataset.csv\"\u001b[0m\u001b[0;34m)\u001b[0m\u001b[0;34m)\u001b[0m\u001b[0;34m\u001b[0m\u001b[0;34m\u001b[0m\u001b[0m\n\u001b[0m",
            "\u001b[0;31mNameError\u001b[0m: name 'pd' is not defined"
          ]
        }
      ]
    },
    {
      "cell_type": "code",
      "metadata": {
        "id": "gH6VuXaiDRbc"
      },
      "source": [
        "result = shuffle(result)\r\n",
        "result = result.reset_index(drop=True)"
      ],
      "execution_count": null,
      "outputs": []
    },
    {
      "cell_type": "code",
      "metadata": {
        "id": "FxXyix-KJwiY"
      },
      "source": [
        "stop_words = set(nltk.corpus.stopwords.words(\"english\"))\r\n",
        "tokenizer = nltk.tokenize.RegexpTokenizer(r'\\w+')"
      ],
      "execution_count": null,
      "outputs": []
    },
    {
      "cell_type": "code",
      "metadata": {
        "id": "DHpZLpfXKnkl"
      },
      "source": [
        "X = []\r\n",
        "Y = []"
      ],
      "execution_count": null,
      "outputs": []
    },
    {
      "cell_type": "code",
      "metadata": {
        "id": "W8WiKmJe7_a4"
      },
      "source": [
        "def pre_process(df):\r\n",
        "    for i in range(len(df[\"content\"])):\r\n",
        "        tmp = []\r\n",
        "        sentences = nltk.sent_tokenize(str(df['content'][i]))\r\n",
        "        for sent in sentences:\r\n",
        "            sent = sent.lower()\r\n",
        "            tokens = tokenizer.tokenize(sent)\r\n",
        "            del sent\r\n",
        "            filtered_words = [w.strip() for w in tokens if w not in stop_words and len(w) > 1]\r\n",
        "            del tokens\r\n",
        "            tmp.extend(filtered_words)\r\n",
        "            del filtered_words\r\n",
        "        X.append(tmp)\r\n",
        "        Y.append(df['type'][i])\r\n",
        "        del sentences, tmp, df['content'][i], df['type'][i]\r\n",
        "    del df\r\n",
        "\r\n",
        "pre_process(result)"
      ],
      "execution_count": null,
      "outputs": []
    },
    {
      "cell_type": "code",
      "metadata": {
        "id": "SU7a96q5u7vU"
      },
      "source": [
        "#Dimension of vectors generated\r\n",
        "EMBEDDING_DIM = 100\r\n",
        "\r\n",
        "#Creating Word Vectors by Word2Vec Method\r\n",
        "w2v_model = gensim.models.Word2Vec(sentences=X, size=EMBEDDING_DIM, window=5, min_count=1)"
      ],
      "execution_count": null,
      "outputs": []
    },
    {
      "cell_type": "code",
      "metadata": {
        "id": "6F1kr5NIu-Th"
      },
      "source": [
        "# Tokenizing Text -> Repsesenting each word by a number\r\n",
        "tokenizer = Tokenizer()\r\n",
        "tokenizer.fit_on_texts(X)\r\n",
        "\r\n",
        "X = tokenizer.texts_to_sequences(X)\r\n",
        "word_index = tokenizer.word_index"
      ],
      "execution_count": null,
      "outputs": []
    },
    {
      "cell_type": "code",
      "metadata": {
        "id": "5hPCGiBIvAxB"
      },
      "source": [
        "# Keep all news at 1000, add padding to news with less than 1000 words and truncating long ones\r\n",
        "maxlen = 1000 \r\n",
        "X = pad_sequences(X, maxlen=maxlen)"
      ],
      "execution_count": null,
      "outputs": []
    },
    {
      "cell_type": "code",
      "metadata": {
        "id": "Pnl8fnypvDXa"
      },
      "source": [
        "X_train, X_test, y_train, y_test = train_test_split(X, Y) "
      ],
      "execution_count": null,
      "outputs": []
    },
    {
      "cell_type": "code",
      "metadata": {
        "colab": {
          "base_uri": "https://localhost:8080/"
        },
        "id": "8EKdN7HSLK-9",
        "outputId": "02e65137-1857-4e4a-a694-ae80ad9676ab"
      },
      "source": [
        "#Getting embedding vectors from word2vec \n",
        "embedding_vectors = get_weight_matrix(w2v_model, word_index)"
      ],
      "execution_count": null,
      "outputs": [
        {
          "output_type": "stream",
          "text": [
            "/usr/local/lib/python3.6/dist-packages/ipykernel_launcher.py:9: DeprecationWarning: Call to deprecated `__getitem__` (Method will be removed in 4.0.0, use self.wv.__getitem__() instead).\n",
            "  if __name__ == '__main__':\n"
          ],
          "name": "stderr"
        }
      ]
    },
    {
      "cell_type": "code",
      "metadata": {
        "id": "mm6On7K7LK--"
      },
      "source": [
        "#Defining Neural Network\n",
        "model = Sequential()\n",
        "model.add(Embedding(vocab_size, output_dim=EMBEDDING_DIM, weights=[embedding_vectors], input_length=maxlen, trainable=False))\n",
        "model.add(LSTM(units=128))\n",
        "model.add(Dense(1, activation='sigmoid'))\n",
        "model.compile(optimizer='adam', loss='binary_crossentropy', metrics=['acc'])\n",
        "del embedding_vectors"
      ],
      "execution_count": null,
      "outputs": []
    },
    {
      "cell_type": "code",
      "metadata": {
        "id": "e6e2FX0LLK-_"
      },
      "source": [
        "X_train, X_test, y_train, y_test = train_test_split(X, y) "
      ],
      "execution_count": null,
      "outputs": []
    },
    {
      "cell_type": "code",
      "metadata": {
        "colab": {
          "base_uri": "https://localhost:8080/"
        },
        "id": "mJVvUrUbLK-_",
        "outputId": "fe5853c7-4b27-4c69-b2e7-d9560d7b2f6f"
      },
      "source": [
        "history = model.fit(X_train, y_train, validation_split=0.3, epochs=20)"
      ],
      "execution_count": null,
      "outputs": [
        {
          "output_type": "stream",
          "text": [
            "Epoch 1/20\n",
            "342/342 [==============================] - 17s 49ms/step - loss: 0.2993 - acc: 0.8778 - val_loss: 0.2409 - val_acc: 0.9041\n",
            "Epoch 2/20\n",
            "342/342 [==============================] - 16s 47ms/step - loss: 0.2161 - acc: 0.9118 - val_loss: 0.2166 - val_acc: 0.9122\n",
            "Epoch 3/20\n",
            "342/342 [==============================] - 16s 47ms/step - loss: 0.1764 - acc: 0.9312 - val_loss: 0.1476 - val_acc: 0.9476\n",
            "Epoch 4/20\n",
            "342/342 [==============================] - 16s 48ms/step - loss: 0.1194 - acc: 0.9565 - val_loss: 0.1496 - val_acc: 0.9502\n",
            "Epoch 5/20\n",
            "342/342 [==============================] - 16s 48ms/step - loss: 0.1091 - acc: 0.9603 - val_loss: 0.0978 - val_acc: 0.9632\n",
            "Epoch 6/20\n",
            "342/342 [==============================] - 16s 47ms/step - loss: 0.1676 - acc: 0.9340 - val_loss: 0.1449 - val_acc: 0.9440\n",
            "Epoch 7/20\n",
            "342/342 [==============================] - 16s 47ms/step - loss: 0.0972 - acc: 0.9657 - val_loss: 0.0976 - val_acc: 0.9690\n",
            "Epoch 8/20\n",
            "342/342 [==============================] - 16s 47ms/step - loss: 0.0563 - acc: 0.9795 - val_loss: 0.0660 - val_acc: 0.9754\n",
            "Epoch 9/20\n",
            "342/342 [==============================] - 16s 48ms/step - loss: 0.0383 - acc: 0.9872 - val_loss: 0.0692 - val_acc: 0.9761\n",
            "Epoch 10/20\n",
            "342/342 [==============================] - 16s 48ms/step - loss: 0.0285 - acc: 0.9903 - val_loss: 0.0651 - val_acc: 0.9776\n",
            "Epoch 11/20\n",
            "342/342 [==============================] - 16s 48ms/step - loss: 0.0171 - acc: 0.9950 - val_loss: 0.0734 - val_acc: 0.9756\n",
            "Epoch 12/20\n",
            "342/342 [==============================] - 16s 48ms/step - loss: 0.0202 - acc: 0.9931 - val_loss: 0.0687 - val_acc: 0.9782\n",
            "Epoch 13/20\n",
            "342/342 [==============================] - 16s 48ms/step - loss: 0.0128 - acc: 0.9964 - val_loss: 0.0675 - val_acc: 0.9784\n",
            "Epoch 14/20\n",
            "342/342 [==============================] - 16s 48ms/step - loss: 0.0058 - acc: 0.9986 - val_loss: 0.0739 - val_acc: 0.9801\n",
            "Epoch 15/20\n",
            "342/342 [==============================] - 16s 48ms/step - loss: 0.0128 - acc: 0.9960 - val_loss: 0.0738 - val_acc: 0.9782\n",
            "Epoch 16/20\n",
            "342/342 [==============================] - 16s 48ms/step - loss: 0.0123 - acc: 0.9966 - val_loss: 0.0711 - val_acc: 0.9748\n",
            "Epoch 17/20\n",
            "342/342 [==============================] - 16s 48ms/step - loss: 0.0070 - acc: 0.9986 - val_loss: 0.0836 - val_acc: 0.9784\n",
            "Epoch 18/20\n",
            "342/342 [==============================] - 16s 48ms/step - loss: 0.0071 - acc: 0.9980 - val_loss: 0.0747 - val_acc: 0.9795\n",
            "Epoch 19/20\n",
            "342/342 [==============================] - 16s 48ms/step - loss: 0.0027 - acc: 0.9995 - val_loss: 0.0809 - val_acc: 0.9825\n",
            "Epoch 20/20\n",
            "342/342 [==============================] - 16s 48ms/step - loss: 0.0012 - acc: 0.9998 - val_loss: 0.0822 - val_acc: 0.9814\n"
          ],
          "name": "stdout"
        }
      ]
    },
    {
      "cell_type": "code",
      "metadata": {
        "colab": {
          "base_uri": "https://localhost:8080/"
        },
        "id": "vnG6xkqHLK_A",
        "outputId": "e2bf8c74-8e4a-4a6d-df56-e6c81b9e68cf"
      },
      "source": [
        "y_pred = model.predict(X_test)\n",
        "y_pred = (y_pred >= 0.5).astype(\"int\")\n",
        "print(accuracy_score(y_test, y_pred))\n",
        "print(classification_report(y_test, y_pred))"
      ],
      "execution_count": null,
      "outputs": [
        {
          "output_type": "stream",
          "text": [
            "0.9826923076923076\n",
            "              precision    recall  f1-score   support\n",
            "\n",
            "           0       0.98      0.98      0.98      2606\n",
            "           1       0.98      0.98      0.98      2594\n",
            "\n",
            "    accuracy                           0.98      5200\n",
            "   macro avg       0.98      0.98      0.98      5200\n",
            "weighted avg       0.98      0.98      0.98      5200\n",
            "\n"
          ],
          "name": "stdout"
        }
      ]
    },
    {
      "cell_type": "code",
      "metadata": {
        "colab": {
          "base_uri": "https://localhost:8080/",
          "height": 648
        },
        "id": "EJ_eC8d2LK_A",
        "outputId": "72ca3491-76d1-4c82-a4ff-430fe63c53d9"
      },
      "source": [
        "plt.plot(history.history['loss'])\n",
        "plt.plot(history.history['val_loss'])\n",
        "plt.title('Model Loss')\n",
        "plt.legend(['Training', 'Validation'])\n",
        "plt.ylabel('Loss')\n",
        "plt.xlabel('Epochs')\n",
        "plt.xticks([0,1,2,3,4,5,6,7,8,9,10,11,12,13,14,15,16,17,18,19])\n"
      ],
      "execution_count": null,
      "outputs": [
        {
          "output_type": "execute_result",
          "data": {
            "text/plain": [
              "([<matplotlib.axis.XTick at 0x7f3660a19c18>,\n",
              "  <matplotlib.axis.XTick at 0x7f3660a19908>,\n",
              "  <matplotlib.axis.XTick at 0x7f3660a19748>,\n",
              "  <matplotlib.axis.XTick at 0x7f3660a242b0>,\n",
              "  <matplotlib.axis.XTick at 0x7f3660a24eb8>,\n",
              "  <matplotlib.axis.XTick at 0x7f3660a268d0>,\n",
              "  <matplotlib.axis.XTick at 0x7f3660a26978>,\n",
              "  <matplotlib.axis.XTick at 0x7f3660a284e0>,\n",
              "  <matplotlib.axis.XTick at 0x7f3660a28be0>,\n",
              "  <matplotlib.axis.XTick at 0x7f3660a28588>,\n",
              "  <matplotlib.axis.XTick at 0x7f3660a21438>,\n",
              "  <matplotlib.axis.XTick at 0x7f3660a21b38>,\n",
              "  <matplotlib.axis.XTick at 0x7f3660a21be0>,\n",
              "  <matplotlib.axis.XTick at 0x7f3660a21978>,\n",
              "  <matplotlib.axis.XTick at 0x7f3660a28fd0>,\n",
              "  <matplotlib.axis.XTick at 0x7f3660a26b38>,\n",
              "  <matplotlib.axis.XTick at 0x7f3660a272e8>,\n",
              "  <matplotlib.axis.XTick at 0x7f3660a274a8>,\n",
              "  <matplotlib.axis.XTick at 0x7f3660a27d30>,\n",
              "  <matplotlib.axis.XTick at 0x7f3660a2a2e8>],\n",
              " <a list of 20 Text major ticklabel objects>)"
            ]
          },
          "metadata": {
            "tags": []
          },
          "execution_count": 41
        },
        {
          "output_type": "display_data",
          "data": {
            "image/png": "[encoded data removed]",
            "text/plain": [
              "<Figure size 432x288 with 1 Axes>"
            ]
          },
          "metadata": {
            "tags": []
          }
        }
      ]
    },
    {
      "cell_type": "code",
      "metadata": {
        "id": "aFNWiU8aLK_A"
      },
      "source": [
        "def confusion_matrix(cm, classes,\r\n",
        "                          normalize=False,\r\n",
        "                          title='Confusion matrix',\r\n",
        "                          cmap=plt.cm.Blues):\r\n",
        "    \r\n",
        "    plt.imshow(cm, interpolation='nearest', cmap=cmap)\r\n",
        "    plt.title(title)\r\n",
        "    plt.colorbar()\r\n",
        "    tick_marks = np.arange(len(classes))\r\n",
        "    plt.xticks(tick_marks, classes, rotation=45)\r\n",
        "    plt.yticks(tick_marks, classes)\r\n",
        "    if normalize:\r\n",
        "        cm = cm.astype('float') / cm.sum(axis=1)[:, np.newaxis]\r\n",
        "        print(\"Normalized confusion matrix\")\r\n",
        "    else:\r\n",
        "        print('Confusion matrix, without normalization')\r\n",
        "    thresh = cm.max() / 2.\r\n",
        "    for i, j in itertools.product(range(cm.shape[0]), range(cm.shape[1])):\r\n",
        "        plt.text(j, i, cm[i, j],\r\n",
        "                 horizontalalignment=\"center\",\r\n",
        "                 color=\"white\" if cm[i, j] > thresh else \"black\")\r\n",
        "    plt.tight_layout()\r\n",
        "    plt.ylabel('True label')\r\n",
        "    plt.xlabel('Predicted label')"
      ],
      "execution_count": null,
      "outputs": []
    },
    {
      "cell_type": "code",
      "metadata": {
        "colab": {
          "base_uri": "https://localhost:8080/",
          "height": 328
        },
        "id": "xqs6NjlhLK_B",
        "outputId": "943839fc-6746-491c-abb7-235438e0d313"
      },
      "source": [
        "cm = metrics.confusion_matrix(y_test, y_pred)\r\n",
        "confusion_matrix(cm, classes=[1, 0])"
      ],
      "execution_count": null,
      "outputs": [
        {
          "output_type": "stream",
          "text": [
            "Confusion matrix, without normalization\n"
          ],
          "name": "stdout"
        },
        {
          "output_type": "display_data",
          "data": {
            "image/png": "[encoded data removed]",
            "text/plain": [
              "<Figure size 432x288 with 2 Axes>"
            ]
          },
          "metadata": {
            "tags": []
          }
        }
      ]
    },
    {
      "cell_type": "code",
      "metadata": {
        "id": "ACzh-SRtLK_B"
      },
      "source": [
        "plt.plot(history.history['accuracy'])\n",
        "plt.plot(history.history['val_accuracy'])\n",
        "plt.title('Model Accuracy')\n",
        "plt.legend(['Training', 'Validation'])\n",
        "plt.ylabel('Accuracy (%)')\n",
        "plt.xlabel('Epochs')\n",
        "plt.xticks([0,1,2,3,4,5,6,7,8,9,10,11,12,13,14,15,16,17,18,19])\n"
      ],
      "execution_count": null,
      "outputs": []
    },
    {
      "cell_type": "markdown",
      "metadata": {
        "id": "TF1_QOpkkR1H"
      },
      "source": [
        "## Dataset3 - Dataset 1"
      ]
    },
    {
      "cell_type": "code",
      "metadata": {
        "id": "Bd25DTrakZ38"
      },
      "source": [
        "def pre_process(df):\r\n",
        "    for i in range(len(df[\"content\"])):\r\n",
        "        tmp = []\r\n",
        "        sentences = nltk.sent_tokenize(str(df['content'][i]))\r\n",
        "        for sent in sentences:\r\n",
        "            sent = sent.lower()\r\n",
        "            tokens = tokenizer.tokenize(sent)\r\n",
        "            del sent\r\n",
        "            filtered_words = [w.strip() for w in tokens if w not in stop_words and len(w) > 1]\r\n",
        "            del tokens\r\n",
        "            tmp.extend(filtered_words)\r\n",
        "            del filtered_words\r\n",
        "        X.append(tmp)\r\n",
        "        Y.append(df['type'][i])\r\n",
        "        del sentences, tmp, df['content'][i], df['type'][i]\r\n",
        "    del df\r\n",
        "\r\n",
        "pre_process(news_data)"
      ],
      "execution_count": null,
      "outputs": []
    },
    {
      "cell_type": "code",
      "metadata": {
        "id": "9Vfb6EFvkR1H"
      },
      "source": [
        "#Dataset 1\n",
        "fake_data = pd.read_csv(os.path.join(PATH, \"Dataset/Fake.csv\"))\n",
        "true_data = pd.read_csv(os.path.join(PATH, \"Dataset/True.csv\"))\n",
        "fake_data['label'] = 'fake'\n",
        "true_data['label'] = 'true'"
      ],
      "execution_count": null,
      "outputs": []
    },
    {
      "cell_type": "code",
      "metadata": {
        "id": "sWYXsF0gkR1H"
      },
      "source": [
        "# Clean data\n",
        "# Remove publication part\n",
        "tmp_text = []\n",
        "for index,row in enumerate(true_data.text.values):\n",
        "    record = row.split(\" -\", maxsplit=1)\n",
        "    if len(record) > 1 and len(record[0]) < 260:\n",
        "        tmp_text.append(record[1])\n",
        "    else:\n",
        "        tmp_text.append(row)\n",
        "\n",
        "true_data[\"text\"] = tmp_text\n",
        "del tmp_text, record"
      ],
      "execution_count": null,
      "outputs": []
    },
    {
      "cell_type": "code",
      "metadata": {
        "id": "3Ofw3EW_kR1I"
      },
      "source": [
        "X_test = pd.concat([fake_data, true_data]).reset_index(drop = True)\n",
        "X_test = shuffle(X_test)\n",
        "X_test = X_test.reset_index(drop=True)"
      ],
      "execution_count": null,
      "outputs": []
    },
    {
      "cell_type": "code",
      "metadata": {
        "id": "ZAYaE_vjkR1I"
      },
      "source": [
        "# Merge title and text column\r\n",
        "X_test[\"text\"] = X_test[\"title\"] + \" \" + X_test[\"text\"]\r\n",
        "\r\n",
        "# Remove useless columns\r\n",
        "X_test.drop([\"title\"],axis=1,inplace=True)\r\n",
        "X_test.drop([\"subject\"],axis=1,inplace=True)\r\n",
        "X_test.drop([\"date\"],axis=1,inplace=True)\r\n"
      ],
      "execution_count": null,
      "outputs": []
    },
    {
      "cell_type": "code",
      "metadata": {
        "id": "37dzl3gGkR1I"
      },
      "source": [
        "Y = X_test[\"label\"].values\n",
        "# Converting train data to format for gensim library  while removing punctuation, stopwords, lowercasing\n",
        "X = []\n",
        "stop_words = set(nltk.corpus.stopwords.words(\"english\"))\n",
        "tokenizer = nltk.tokenize.RegexpTokenizer(r'\\w+')\n",
        "for par in X_test[\"text\"].values:\n",
        "    tmp = []\n",
        "    sentences = nltk.sent_tokenize(par)\n",
        "    for sent in sentences:\n",
        "        sent = sent.lower()\n",
        "        tokens = tokenizer.tokenize(sent)\n",
        "        filtered_words = [w.strip() for w in tokens if w not in stop_words and len(w) > 1]\n",
        "        tmp.extend(filtered_words)\n",
        "    X.append(tmp)\n",
        "\n",
        "del X_test"
      ],
      "execution_count": null,
      "outputs": []
    },
    {
      "cell_type": "code",
      "metadata": {
        "id": "DsbuZonKkR1I"
      },
      "source": [
        "#Dimension of vectors generated\n",
        "EMBEDDING_DIM = 100\n",
        "\n",
        "#Creating Word Vectors by Word2Vec Method\n",
        "w2v_model = gensim.models.Word2Vec(sentences=X, size=EMBEDDING_DIM, window=5, min_count=1)"
      ],
      "execution_count": null,
      "outputs": []
    },
    {
      "cell_type": "code",
      "metadata": {
        "id": "2C0pmmhWkR1I"
      },
      "source": [
        "# Tokenizing Text -> Repsesenting each word by a number\n",
        "tokenizer = Tokenizer()\n",
        "tokenizer.fit_on_texts(X)\n",
        "\n",
        "X = tokenizer.texts_to_sequences(X)\n",
        "word_index = tokenizer.word_index"
      ],
      "execution_count": null,
      "outputs": []
    },
    {
      "cell_type": "code",
      "metadata": {
        "id": "HJeqTk3VkR1I"
      },
      "source": [
        "# Keep all news at 1000, add padding to news with less than 1000 words and truncating long ones\n",
        "maxlen = 1000 \n",
        "X = pad_sequences(X, maxlen=maxlen)"
      ],
      "execution_count": null,
      "outputs": []
    },
    {
      "cell_type": "code",
      "metadata": {
        "colab": {
          "base_uri": "https://localhost:8080/",
          "height": 212
        },
        "id": "8dfc-JytlMPD",
        "outputId": "5a0f8aa6-9cce-476b-882e-75f27fd0ea4e"
      },
      "source": [
        "# Metrics\r\n",
        "prediction = model.predict(X)\r\n",
        "print(\"accuracy: {}%\".format(round(accuracy_score(Y, prediction)*100,2)))\r\n",
        "print(classification_report(Y, prediction))"
      ],
      "execution_count": null,
      "outputs": [
        {
          "output_type": "error",
          "ename": "NameError",
          "evalue": "ignored",
          "traceback": [
            "\u001b[0;31m---------------------------------------------------------------------------\u001b[0m",
            "\u001b[0;31mNameError\u001b[0m                                 Traceback (most recent call last)",
            "\u001b[0;32m<ipython-input-5-c69681acefd1>\u001b[0m in \u001b[0;36m<module>\u001b[0;34m()\u001b[0m\n\u001b[1;32m      1\u001b[0m \u001b[0;31m# Metrics\u001b[0m\u001b[0;34m\u001b[0m\u001b[0;34m\u001b[0m\u001b[0;34m\u001b[0m\u001b[0m\n\u001b[0;32m----> 2\u001b[0;31m \u001b[0mprediction\u001b[0m \u001b[0;34m=\u001b[0m \u001b[0mmodel\u001b[0m\u001b[0;34m.\u001b[0m\u001b[0mpredict\u001b[0m\u001b[0;34m(\u001b[0m\u001b[0mX\u001b[0m\u001b[0;34m)\u001b[0m\u001b[0;34m\u001b[0m\u001b[0;34m\u001b[0m\u001b[0m\n\u001b[0m\u001b[1;32m      3\u001b[0m \u001b[0mprint\u001b[0m\u001b[0;34m(\u001b[0m\u001b[0;34m\"accuracy: {}%\"\u001b[0m\u001b[0;34m.\u001b[0m\u001b[0mformat\u001b[0m\u001b[0;34m(\u001b[0m\u001b[0mround\u001b[0m\u001b[0;34m(\u001b[0m\u001b[0maccuracy_score\u001b[0m\u001b[0;34m(\u001b[0m\u001b[0mY\u001b[0m\u001b[0;34m,\u001b[0m \u001b[0mprediction\u001b[0m\u001b[0;34m)\u001b[0m\u001b[0;34m*\u001b[0m\u001b[0;36m100\u001b[0m\u001b[0;34m,\u001b[0m\u001b[0;36m2\u001b[0m\u001b[0;34m)\u001b[0m\u001b[0;34m)\u001b[0m\u001b[0;34m)\u001b[0m\u001b[0;34m\u001b[0m\u001b[0;34m\u001b[0m\u001b[0m\n\u001b[1;32m      4\u001b[0m \u001b[0mprint\u001b[0m\u001b[0;34m(\u001b[0m\u001b[0mclassification_report\u001b[0m\u001b[0;34m(\u001b[0m\u001b[0mY\u001b[0m\u001b[0;34m,\u001b[0m \u001b[0mprediction\u001b[0m\u001b[0;34m)\u001b[0m\u001b[0;34m)\u001b[0m\u001b[0;34m\u001b[0m\u001b[0;34m\u001b[0m\u001b[0m\n",
            "\u001b[0;31mNameError\u001b[0m: name 'model' is not defined"
          ]
        }
      ]
    },
    {
      "cell_type": "code",
      "metadata": {
        "colab": {
          "base_uri": "https://localhost:8080/",
          "height": 178
        },
        "id": "ZiJxzYDXlTIN",
        "outputId": "3f14c51e-da20-4547-c2aa-870b91c6cf89"
      },
      "source": [
        "cm = metrics.confusion_matrix(Y, prediction)\r\n",
        "confusion_matrix(cm, classes=['fake', 'real'])"
      ],
      "execution_count": null,
      "outputs": [
        {
          "output_type": "error",
          "ename": "NameError",
          "evalue": "ignored",
          "traceback": [
            "\u001b[0;31m---------------------------------------------------------------------------\u001b[0m",
            "\u001b[0;31mNameError\u001b[0m                                 Traceback (most recent call last)",
            "\u001b[0;32m<ipython-input-6-3010cae6c108>\u001b[0m in \u001b[0;36m<module>\u001b[0;34m()\u001b[0m\n\u001b[0;32m----> 1\u001b[0;31m \u001b[0mcm\u001b[0m \u001b[0;34m=\u001b[0m \u001b[0mmetrics\u001b[0m\u001b[0;34m.\u001b[0m\u001b[0mconfusion_matrix\u001b[0m\u001b[0;34m(\u001b[0m\u001b[0mY\u001b[0m\u001b[0;34m,\u001b[0m \u001b[0mprediction\u001b[0m\u001b[0;34m)\u001b[0m\u001b[0;34m\u001b[0m\u001b[0;34m\u001b[0m\u001b[0m\n\u001b[0m\u001b[1;32m      2\u001b[0m \u001b[0mconfusion_matrix\u001b[0m\u001b[0;34m(\u001b[0m\u001b[0mcm\u001b[0m\u001b[0;34m,\u001b[0m \u001b[0mclasses\u001b[0m\u001b[0;34m=\u001b[0m\u001b[0;34m[\u001b[0m\u001b[0;34m'fake'\u001b[0m\u001b[0;34m,\u001b[0m \u001b[0;34m'real'\u001b[0m\u001b[0;34m]\u001b[0m\u001b[0;34m)\u001b[0m\u001b[0;34m\u001b[0m\u001b[0;34m\u001b[0m\u001b[0m\n",
            "\u001b[0;31mNameError\u001b[0m: name 'metrics' is not defined"
          ]
        }
      ]
    },
    {
      "cell_type": "markdown",
      "metadata": {
        "id": "ccef4EFelFoC"
      },
      "source": [
        "## Dataset 3 - Dataset 2"
      ]
    },
    {
      "cell_type": "code",
      "metadata": {
        "id": "9GkMQdqskR1J"
      },
      "source": [
        "# Dataset 2\r\n",
        "X_test = pd.read_csv(os.path.join(PATH, \"Dataset2/train.csv\"))\r\n",
        "X_test = shuffle(X_test)\r\n",
        "X_test = X_test.reset_index(drop=True)"
      ],
      "execution_count": null,
      "outputs": []
    },
    {
      "cell_type": "code",
      "metadata": {
        "id": "Y9YFNBaYkR1J"
      },
      "source": [
        "# Merge title and text column\r\n",
        "X_test[\"text\"] =X_test[\"title\"] + \" \" + X_test[\"text\"]\r\n",
        "\r\n",
        "# Remove useless columns\r\n",
        "X_test.drop([\"title\"],axis=1,inplace=True)\r\n",
        "X_test.drop([\"id\"],axis=1,inplace=True)\r\n",
        "X_test.drop([\"author\"],axis=1,inplace=True)"
      ],
      "execution_count": null,
      "outputs": []
    },
    {
      "cell_type": "code",
      "metadata": {
        "id": "o7kJlygEkR1J"
      },
      "source": [
        "Y = X_test[\"label\"].values\r\n",
        "# Convert train data to gensim format, removing punctuation, stopwords\r\n",
        "X = []\r\n",
        "stop_words = set(nltk.corpus.stopwords.words(\"english\"))\r\n",
        "tokenizer = nltk.tokenize.RegexpTokenizer(r'\\w+')\r\n",
        "for par in X_test[\"text\"].values:\r\n",
        "    tmp = []\r\n",
        "    sentences = nltk.sent_tokenize(str(par))\r\n",
        "    for sent in sentences:\r\n",
        "        sent = sent.lower()\r\n",
        "        tokens = tokenizer.tokenize(sent)\r\n",
        "        filtered_words = [w.strip() for w in tokens if w not in stop_words and len(w) > 1]\r\n",
        "        tmp.extend(filtered_words)\r\n",
        "    X.append(tmp)\r\n",
        "\r\n",
        "del X_test"
      ],
      "execution_count": null,
      "outputs": []
    },
    {
      "cell_type": "code",
      "metadata": {
        "id": "u2BLz2h-kR1J"
      },
      "source": [
        "#Dimension of vectors generated\r\n",
        "EMBEDDING_DIM = 100\r\n",
        "w2v_model = gensim.models.Word2Vec(sentences=X, size=EMBEDDING_DIM, window=5, min_count=1)"
      ],
      "execution_count": null,
      "outputs": []
    },
    {
      "cell_type": "code",
      "metadata": {
        "id": "XGumN4yBkR1J"
      },
      "source": [
        "# Tokenizing Text -> Repsesenting each word by a number\r\n",
        "tokenizer = Tokenizer()\r\n",
        "tokenizer.fit_on_texts(X)\r\n",
        "\r\n",
        "X = tokenizer.texts_to_sequences(X)\r\n",
        "word_index = tokenizer.word_index"
      ],
      "execution_count": null,
      "outputs": []
    },
    {
      "cell_type": "code",
      "metadata": {
        "id": "o-icAHiGkR1K"
      },
      "source": [
        "# Keep all news at 1000, add padding to news with less than 1000 words and truncating long ones\r\n",
        "maxlen = 1000 \r\n",
        "X = pad_sequences(X, maxlen=maxlen)"
      ],
      "execution_count": null,
      "outputs": []
    },
    {
      "cell_type": "code",
      "metadata": {
        "id": "WH-dD5HdkR1K"
      },
      "source": [
        "# Metrics\r\n",
        "prediction = model.predict(X)"
      ],
      "execution_count": null,
      "outputs": []
    },
    {
      "cell_type": "code",
      "metadata": {
        "colab": {
          "base_uri": "https://localhost:8080/"
        },
        "id": "qEmTtg4QkR1K",
        "outputId": "fff98f97-eea8-4e2d-b725-c49d1d5bcbe2"
      },
      "source": [
        "prediction2 = np.array([0 if i  == \"true\" else 1 for i in prediction])\r\n",
        "prediction2"
      ],
      "execution_count": null,
      "outputs": [
        {
          "output_type": "execute_result",
          "data": {
            "text/plain": [
              "array([1, 0, 1, ..., 0, 0, 0])"
            ]
          },
          "metadata": {
            "tags": []
          },
          "execution_count": 196
        }
      ]
    },
    {
      "cell_type": "code",
      "metadata": {
        "colab": {
          "base_uri": "https://localhost:8080/",
          "height": 178
        },
        "id": "XwYZ3M47kR1L",
        "outputId": "565ff1f2-3c77-4470-aa6e-5e589ff534ed"
      },
      "source": [
        "print(\"accuracy: {}%\".format(round(accuracy_score(Y, prediction2)*100,2)))\r\n",
        "print(classification_report(Y, prediction2))"
      ],
      "execution_count": null,
      "outputs": [
        {
          "output_type": "error",
          "ename": "NameError",
          "evalue": "ignored",
          "traceback": [
            "\u001b[0;31m---------------------------------------------------------------------------\u001b[0m",
            "\u001b[0;31mNameError\u001b[0m                                 Traceback (most recent call last)",
            "\u001b[0;32m<ipython-input-7-41856c5bf8ae>\u001b[0m in \u001b[0;36m<module>\u001b[0;34m()\u001b[0m\n\u001b[0;32m----> 1\u001b[0;31m \u001b[0mprint\u001b[0m\u001b[0;34m(\u001b[0m\u001b[0;34m\"accuracy: {}%\"\u001b[0m\u001b[0;34m.\u001b[0m\u001b[0mformat\u001b[0m\u001b[0;34m(\u001b[0m\u001b[0mround\u001b[0m\u001b[0;34m(\u001b[0m\u001b[0maccuracy_score\u001b[0m\u001b[0;34m(\u001b[0m\u001b[0mY\u001b[0m\u001b[0;34m,\u001b[0m \u001b[0mprediction2\u001b[0m\u001b[0;34m)\u001b[0m\u001b[0;34m*\u001b[0m\u001b[0;36m100\u001b[0m\u001b[0;34m,\u001b[0m\u001b[0;36m2\u001b[0m\u001b[0;34m)\u001b[0m\u001b[0;34m)\u001b[0m\u001b[0;34m)\u001b[0m\u001b[0;34m\u001b[0m\u001b[0;34m\u001b[0m\u001b[0m\n\u001b[0m\u001b[1;32m      2\u001b[0m \u001b[0mprint\u001b[0m\u001b[0;34m(\u001b[0m\u001b[0mclassification_report\u001b[0m\u001b[0;34m(\u001b[0m\u001b[0mY\u001b[0m\u001b[0;34m,\u001b[0m \u001b[0mprediction2\u001b[0m\u001b[0;34m)\u001b[0m\u001b[0;34m)\u001b[0m\u001b[0;34m\u001b[0m\u001b[0;34m\u001b[0m\u001b[0m\n",
            "\u001b[0;31mNameError\u001b[0m: name 'accuracy_score' is not defined"
          ]
        }
      ]
    },
    {
      "cell_type": "code",
      "metadata": {
        "colab": {
          "base_uri": "https://localhost:8080/",
          "height": 328
        },
        "id": "W7dHxeMSkR1L",
        "outputId": "4b7313a2-7300-458f-e31c-9d1fc14499a2"
      },
      "source": [
        "cm = metrics.confusion_matrix(Y, prediction2)\r\n",
        "confusion_matrix(cm, classes=['fake', 'real'])"
      ],
      "execution_count": null,
      "outputs": [
        {
          "output_type": "stream",
          "text": [
            "Confusion matrix, without normalization\n"
          ],
          "name": "stdout"
        },
        {
          "output_type": "display_data",
          "data": {
            "image/png": "[encoded data removed]",
            "text/plain": [
              "<Figure size 432x288 with 2 Axes>"
            ]
          },
          "metadata": {
            "tags": [],
            "needs_background": "light"
          }
        }
      ]
    },
    {
      "cell_type": "markdown",
      "metadata": {
        "id": "0c0vWY4hxQeD"
      },
      "source": [
        "## Text articles -> Word2Vec -> LSTM"
      ]
    },
    {
      "cell_type": "code",
      "metadata": {
        "colab": {
          "base_uri": "https://localhost:8080/",
          "height": 337
        },
        "id": "yCOjl041xYTg",
        "outputId": "b610d504-dc7a-4d52-80d8-c4834a2f02e1"
      },
      "source": [
        "# Dimension of generated vectors\r\n",
        "EMBEDDING_DIM = 10\r\n",
        "w2v_model = gensim.models.Word2Vec(sentences=X, size=EMBEDDING_DIM, window=5, min_count=1)"
      ],
      "execution_count": null,
      "outputs": [
        {
          "output_type": "error",
          "ename": "KeyboardInterrupt",
          "evalue": "ignored",
          "traceback": [
            "\u001b[0;31m---------------------------------------------------------------------------\u001b[0m",
            "\u001b[0;31mKeyboardInterrupt\u001b[0m                         Traceback (most recent call last)",
            "\u001b[0;32m<ipython-input-11-d6955654c2f8>\u001b[0m in \u001b[0;36m<module>\u001b[0;34m()\u001b[0m\n\u001b[1;32m      1\u001b[0m \u001b[0;31m# Dimension of generated vectors\u001b[0m\u001b[0;34m\u001b[0m\u001b[0;34m\u001b[0m\u001b[0;34m\u001b[0m\u001b[0m\n\u001b[1;32m      2\u001b[0m \u001b[0mEMBEDDING_DIM\u001b[0m \u001b[0;34m=\u001b[0m \u001b[0;36m10\u001b[0m\u001b[0;34m\u001b[0m\u001b[0;34m\u001b[0m\u001b[0m\n\u001b[0;32m----> 3\u001b[0;31m \u001b[0mw2v_model\u001b[0m \u001b[0;34m=\u001b[0m \u001b[0mgensim\u001b[0m\u001b[0;34m.\u001b[0m\u001b[0mmodels\u001b[0m\u001b[0;34m.\u001b[0m\u001b[0mWord2Vec\u001b[0m\u001b[0;34m(\u001b[0m\u001b[0msentences\u001b[0m\u001b[0;34m=\u001b[0m\u001b[0mX\u001b[0m\u001b[0;34m,\u001b[0m \u001b[0msize\u001b[0m\u001b[0;34m=\u001b[0m\u001b[0mEMBEDDING_DIM\u001b[0m\u001b[0;34m,\u001b[0m \u001b[0mwindow\u001b[0m\u001b[0;34m=\u001b[0m\u001b[0;36m5\u001b[0m\u001b[0;34m,\u001b[0m \u001b[0mmin_count\u001b[0m\u001b[0;34m=\u001b[0m\u001b[0;36m1\u001b[0m\u001b[0;34m)\u001b[0m\u001b[0;34m\u001b[0m\u001b[0;34m\u001b[0m\u001b[0m\n\u001b[0m",
            "\u001b[0;32m/usr/local/lib/python3.6/dist-packages/gensim/models/word2vec.py\u001b[0m in \u001b[0;36m__init__\u001b[0;34m(self, sentences, corpus_file, size, alpha, window, min_count, max_vocab_size, sample, seed, workers, min_alpha, sg, hs, negative, ns_exponent, cbow_mean, hashfxn, iter, null_word, trim_rule, sorted_vocab, batch_words, compute_loss, callbacks, max_final_vocab)\u001b[0m\n\u001b[1;32m    765\u001b[0m             \u001b[0mcallbacks\u001b[0m\u001b[0;34m=\u001b[0m\u001b[0mcallbacks\u001b[0m\u001b[0;34m,\u001b[0m \u001b[0mbatch_words\u001b[0m\u001b[0;34m=\u001b[0m\u001b[0mbatch_words\u001b[0m\u001b[0;34m,\u001b[0m \u001b[0mtrim_rule\u001b[0m\u001b[0;34m=\u001b[0m\u001b[0mtrim_rule\u001b[0m\u001b[0;34m,\u001b[0m \u001b[0msg\u001b[0m\u001b[0;34m=\u001b[0m\u001b[0msg\u001b[0m\u001b[0;34m,\u001b[0m \u001b[0malpha\u001b[0m\u001b[0;34m=\u001b[0m\u001b[0malpha\u001b[0m\u001b[0;34m,\u001b[0m \u001b[0mwindow\u001b[0m\u001b[0;34m=\u001b[0m\u001b[0mwindow\u001b[0m\u001b[0;34m,\u001b[0m\u001b[0;34m\u001b[0m\u001b[0;34m\u001b[0m\u001b[0m\n\u001b[1;32m    766\u001b[0m             \u001b[0mseed\u001b[0m\u001b[0;34m=\u001b[0m\u001b[0mseed\u001b[0m\u001b[0;34m,\u001b[0m \u001b[0mhs\u001b[0m\u001b[0;34m=\u001b[0m\u001b[0mhs\u001b[0m\u001b[0;34m,\u001b[0m \u001b[0mnegative\u001b[0m\u001b[0;34m=\u001b[0m\u001b[0mnegative\u001b[0m\u001b[0;34m,\u001b[0m \u001b[0mcbow_mean\u001b[0m\u001b[0;34m=\u001b[0m\u001b[0mcbow_mean\u001b[0m\u001b[0;34m,\u001b[0m \u001b[0mmin_alpha\u001b[0m\u001b[0;34m=\u001b[0m\u001b[0mmin_alpha\u001b[0m\u001b[0;34m,\u001b[0m \u001b[0mcompute_loss\u001b[0m\u001b[0;34m=\u001b[0m\u001b[0mcompute_loss\u001b[0m\u001b[0;34m,\u001b[0m\u001b[0;34m\u001b[0m\u001b[0;34m\u001b[0m\u001b[0m\n\u001b[0;32m--> 767\u001b[0;31m             fast_version=FAST_VERSION)\n\u001b[0m\u001b[1;32m    768\u001b[0m \u001b[0;34m\u001b[0m\u001b[0m\n\u001b[1;32m    769\u001b[0m     def _do_train_epoch(self, corpus_file, thread_id, offset, cython_vocab, thread_private_mem, cur_epoch,\n",
            "\u001b[0;32m/usr/local/lib/python3.6/dist-packages/gensim/models/base_any2vec.py\u001b[0m in \u001b[0;36m__init__\u001b[0;34m(self, sentences, corpus_file, workers, vector_size, epochs, callbacks, batch_words, trim_rule, sg, alpha, window, seed, hs, negative, ns_exponent, cbow_mean, min_alpha, compute_loss, fast_version, **kwargs)\u001b[0m\n\u001b[1;32m    757\u001b[0m                 \u001b[0;32mraise\u001b[0m \u001b[0mTypeError\u001b[0m\u001b[0;34m(\u001b[0m\u001b[0;34m\"You can't pass a generator as the sentences argument. Try an iterator.\"\u001b[0m\u001b[0;34m)\u001b[0m\u001b[0;34m\u001b[0m\u001b[0;34m\u001b[0m\u001b[0m\n\u001b[1;32m    758\u001b[0m \u001b[0;34m\u001b[0m\u001b[0m\n\u001b[0;32m--> 759\u001b[0;31m             \u001b[0mself\u001b[0m\u001b[0;34m.\u001b[0m\u001b[0mbuild_vocab\u001b[0m\u001b[0;34m(\u001b[0m\u001b[0msentences\u001b[0m\u001b[0;34m=\u001b[0m\u001b[0msentences\u001b[0m\u001b[0;34m,\u001b[0m \u001b[0mcorpus_file\u001b[0m\u001b[0;34m=\u001b[0m\u001b[0mcorpus_file\u001b[0m\u001b[0;34m,\u001b[0m \u001b[0mtrim_rule\u001b[0m\u001b[0;34m=\u001b[0m\u001b[0mtrim_rule\u001b[0m\u001b[0;34m)\u001b[0m\u001b[0;34m\u001b[0m\u001b[0;34m\u001b[0m\u001b[0m\n\u001b[0m\u001b[1;32m    760\u001b[0m             self.train(\n\u001b[1;32m    761\u001b[0m                 \u001b[0msentences\u001b[0m\u001b[0;34m=\u001b[0m\u001b[0msentences\u001b[0m\u001b[0;34m,\u001b[0m \u001b[0mcorpus_file\u001b[0m\u001b[0;34m=\u001b[0m\u001b[0mcorpus_file\u001b[0m\u001b[0;34m,\u001b[0m \u001b[0mtotal_examples\u001b[0m\u001b[0;34m=\u001b[0m\u001b[0mself\u001b[0m\u001b[0;34m.\u001b[0m\u001b[0mcorpus_count\u001b[0m\u001b[0;34m,\u001b[0m\u001b[0;34m\u001b[0m\u001b[0;34m\u001b[0m\u001b[0m\n",
            "\u001b[0;32m/usr/local/lib/python3.6/dist-packages/gensim/models/base_any2vec.py\u001b[0m in \u001b[0;36mbuild_vocab\u001b[0;34m(self, sentences, corpus_file, update, progress_per, keep_raw_vocab, trim_rule, **kwargs)\u001b[0m\n\u001b[1;32m    934\u001b[0m         \"\"\"\n\u001b[1;32m    935\u001b[0m         total_words, corpus_count = self.vocabulary.scan_vocab(\n\u001b[0;32m--> 936\u001b[0;31m             sentences=sentences, corpus_file=corpus_file, progress_per=progress_per, trim_rule=trim_rule)\n\u001b[0m\u001b[1;32m    937\u001b[0m         \u001b[0mself\u001b[0m\u001b[0;34m.\u001b[0m\u001b[0mcorpus_count\u001b[0m \u001b[0;34m=\u001b[0m \u001b[0mcorpus_count\u001b[0m\u001b[0;34m\u001b[0m\u001b[0;34m\u001b[0m\u001b[0m\n\u001b[1;32m    938\u001b[0m         \u001b[0mself\u001b[0m\u001b[0;34m.\u001b[0m\u001b[0mcorpus_total_words\u001b[0m \u001b[0;34m=\u001b[0m \u001b[0mtotal_words\u001b[0m\u001b[0;34m\u001b[0m\u001b[0;34m\u001b[0m\u001b[0m\n",
            "\u001b[0;32m/usr/local/lib/python3.6/dist-packages/gensim/models/word2vec.py\u001b[0m in \u001b[0;36mscan_vocab\u001b[0;34m(self, sentences, corpus_file, progress_per, workers, trim_rule)\u001b[0m\n\u001b[1;32m   1569\u001b[0m             \u001b[0msentences\u001b[0m \u001b[0;34m=\u001b[0m \u001b[0mLineSentence\u001b[0m\u001b[0;34m(\u001b[0m\u001b[0mcorpus_file\u001b[0m\u001b[0;34m)\u001b[0m\u001b[0;34m\u001b[0m\u001b[0;34m\u001b[0m\u001b[0m\n\u001b[1;32m   1570\u001b[0m \u001b[0;34m\u001b[0m\u001b[0m\n\u001b[0;32m-> 1571\u001b[0;31m         \u001b[0mtotal_words\u001b[0m\u001b[0;34m,\u001b[0m \u001b[0mcorpus_count\u001b[0m \u001b[0;34m=\u001b[0m \u001b[0mself\u001b[0m\u001b[0;34m.\u001b[0m\u001b[0m_scan_vocab\u001b[0m\u001b[0;34m(\u001b[0m\u001b[0msentences\u001b[0m\u001b[0;34m,\u001b[0m \u001b[0mprogress_per\u001b[0m\u001b[0;34m,\u001b[0m \u001b[0mtrim_rule\u001b[0m\u001b[0;34m)\u001b[0m\u001b[0;34m\u001b[0m\u001b[0;34m\u001b[0m\u001b[0m\n\u001b[0m\u001b[1;32m   1572\u001b[0m \u001b[0;34m\u001b[0m\u001b[0m\n\u001b[1;32m   1573\u001b[0m         logger.info(\n",
            "\u001b[0;32m/usr/local/lib/python3.6/dist-packages/gensim/models/word2vec.py\u001b[0m in \u001b[0;36m_scan_vocab\u001b[0;34m(self, sentences, progress_per, trim_rule)\u001b[0m\n\u001b[1;32m   1553\u001b[0m                 )\n\u001b[1;32m   1554\u001b[0m             \u001b[0;32mfor\u001b[0m \u001b[0mword\u001b[0m \u001b[0;32min\u001b[0m \u001b[0msentence\u001b[0m\u001b[0;34m:\u001b[0m\u001b[0;34m\u001b[0m\u001b[0;34m\u001b[0m\u001b[0m\n\u001b[0;32m-> 1555\u001b[0;31m                 \u001b[0mvocab\u001b[0m\u001b[0;34m[\u001b[0m\u001b[0mword\u001b[0m\u001b[0;34m]\u001b[0m \u001b[0;34m+=\u001b[0m \u001b[0;36m1\u001b[0m\u001b[0;34m\u001b[0m\u001b[0;34m\u001b[0m\u001b[0m\n\u001b[0m\u001b[1;32m   1556\u001b[0m             \u001b[0mtotal_words\u001b[0m \u001b[0;34m+=\u001b[0m \u001b[0mlen\u001b[0m\u001b[0;34m(\u001b[0m\u001b[0msentence\u001b[0m\u001b[0;34m)\u001b[0m\u001b[0;34m\u001b[0m\u001b[0;34m\u001b[0m\u001b[0m\n\u001b[1;32m   1557\u001b[0m \u001b[0;34m\u001b[0m\u001b[0m\n",
            "\u001b[0;31mKeyboardInterrupt\u001b[0m: "
          ]
        }
      ]
    },
    {
      "cell_type": "code",
      "metadata": {
        "colab": {
          "base_uri": "https://localhost:8080/"
        },
        "id": "so-gHiaOQW94",
        "outputId": "7e1dc650-f98a-4458-9031-8dd192547e93"
      },
      "source": [
        "len(X)"
      ],
      "execution_count": null,
      "outputs": [
        {
          "output_type": "execute_result",
          "data": {
            "text/plain": [
              "390730"
            ]
          },
          "metadata": {
            "tags": []
          },
          "execution_count": 12
        }
      ]
    },
    {
      "cell_type": "code",
      "metadata": {
        "id": "LzTkQIM9xcHQ"
      },
      "source": [
        "# Tokenizing Text -> Repsesenting each word by a number\r\n",
        "tokenizer = Tokenizer()\r\n",
        "tokenizer.fit_on_texts(X)\r\n",
        "\r\n",
        "X = tokenizer.texts_to_sequences(X)\r\n",
        "word_index = tokenizer.word_index"
      ],
      "execution_count": null,
      "outputs": []
    },
    {
      "cell_type": "code",
      "metadata": {
        "id": "WO0EMHnXxeNV"
      },
      "source": [
        "# Keep all news to 1000\r\n",
        "maxlen = 1000 \r\n",
        "X = pad_sequences(X, maxlen=maxlen)"
      ],
      "execution_count": null,
      "outputs": []
    },
    {
      "cell_type": "code",
      "metadata": {
        "id": "MWtoJ-ObxhmF"
      },
      "source": [
        "# Embedding Layer creates one more vector for \"UNKNOWN\" words, or padded words (0s). \r\n",
        "vocab_size = len(tokenizer.word_index) + 1"
      ],
      "execution_count": null,
      "outputs": []
    },
    {
      "cell_type": "code",
      "metadata": {
        "id": "Kwsh-sCFxkex"
      },
      "source": [
        "#Getting embedding vectors from word2vec\r\n",
        "embedding_vectors = get_weight_matrix(w2v_model, word_index)"
      ],
      "execution_count": null,
      "outputs": []
    },
    {
      "cell_type": "code",
      "metadata": {
        "id": "7zZF2f3ixnIW"
      },
      "source": [
        "#Defining Neural Network\r\n",
        "model = Sequential()\r\n",
        "model.add(Embedding(vocab_size, output_dim=EMBEDDING_DIM, weights=[embedding_vectors], input_length=maxlen, trainable=False))\r\n",
        "model.add(LSTM(units=128))\r\n",
        "model.add(Dense(1, activation='sigmoid'))\r\n",
        "model.compile(optimizer='adam', loss='binary_crossentropy', metrics=['acc'])\r\n",
        "del embedding_vectors"
      ],
      "execution_count": null,
      "outputs": []
    },
    {
      "cell_type": "code",
      "metadata": {
        "id": "bvCEai-zxqT3"
      },
      "source": [
        "X_train, X_test, y_train, y_test = train_test_split(X, Y) "
      ],
      "execution_count": null,
      "outputs": []
    },
    {
      "cell_type": "code",
      "metadata": {
        "id": "deb_o1vUTjl4"
      },
      "source": [
        "del X, Y"
      ],
      "execution_count": null,
      "outputs": []
    },
    {
      "cell_type": "code",
      "metadata": {
        "id": "L65h2jwPxshQ"
      },
      "source": [
        "history = model.fit(X_train, y_train, validation_split=0.25, epochs=20)"
      ],
      "execution_count": null,
      "outputs": []
    },
    {
      "cell_type": "code",
      "metadata": {
        "id": "fMBSwzxNxviG"
      },
      "source": [
        "y_pred = model.predict(X_test)\r\n",
        "y_pred = (y_pred >= 0.5).astype(\"int\")\r\n",
        "print(accuracy_score(y_test, y_pred))\r\n",
        "print(classification_report(y_test, y_pred))"
      ],
      "execution_count": null,
      "outputs": []
    },
    {
      "cell_type": "code",
      "metadata": {
        "id": "OYnQmilIxx_i"
      },
      "source": [
        "plt.plot(history.history['loss'])\r\n",
        "plt.plot(history.history['val_loss'])\r\n",
        "plt.title('Model Loss')\r\n",
        "plt.legend(['Training', 'Validation'])\r\n",
        "plt.ylabel('Loss')\r\n",
        "plt.xlabel('Epochs')\r\n",
        "plt.xticks([0,1,2,3,4,5,6,7,8,9,10,11,12,13,14,15,16,17,18,19])"
      ],
      "execution_count": null,
      "outputs": []
    },
    {
      "cell_type": "code",
      "metadata": {
        "id": "rQ1S2Igrx11D"
      },
      "source": [
        "cm = metrics.confusion_matrix(y_test, y_pred)\r\n",
        "confusion_matrix(cm, classes=[1, 0])"
      ],
      "execution_count": null,
      "outputs": []
    }
  ]
}