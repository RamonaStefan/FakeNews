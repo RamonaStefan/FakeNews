{
  "nbformat": 4,
  "nbformat_minor": 0,
  "metadata": {
    "colab": {
      "name": "FakeNewsDetection-Word2Vec + DecisionTree.ipynb.ipynb",
      "provenance": [],
      "collapsed_sections": []
    },
    "kernelspec": {
      "name": "python3",
      "display_name": "Python 3"
    },
    "accelerator": "GPU"
  },
  "cells": [
    {
      "cell_type": "code",
      "metadata": {
        "colab": {
          "base_uri": "https://localhost:8080/"
        },
        "id": "QGh6tUnE--rT",
        "outputId": "cdcb9500-7b68-4082-a54e-ab3a861659ca"
      },
      "source": [
        "!pip install -U tensorflow\n",
        "!pip install -U sklearn"
      ],
      "execution_count": null,
      "outputs": [
        {
          "output_type": "stream",
          "text": [
            "Requirement already up-to-date: tensorflow in /usr/local/lib/python3.6/dist-packages (2.4.0)\n",
            "Requirement already satisfied, skipping upgrade: protobuf>=3.9.2 in /usr/local/lib/python3.6/dist-packages (from tensorflow) (3.12.4)\n",
            "Requirement already satisfied, skipping upgrade: termcolor~=1.1.0 in /usr/local/lib/python3.6/dist-packages (from tensorflow) (1.1.0)\n",
            "Requirement already satisfied, skipping upgrade: wheel~=0.35 in /usr/local/lib/python3.6/dist-packages (from tensorflow) (0.36.2)\n",
            "Requirement already satisfied, skipping upgrade: numpy~=1.19.2 in /usr/local/lib/python3.6/dist-packages (from tensorflow) (1.19.5)\n",
            "Requirement already satisfied, skipping upgrade: h5py~=2.10.0 in /usr/local/lib/python3.6/dist-packages (from tensorflow) (2.10.0)\n",
            "Requirement already satisfied, skipping upgrade: gast==0.3.3 in /usr/local/lib/python3.6/dist-packages (from tensorflow) (0.3.3)\n",
            "Requirement already satisfied, skipping upgrade: google-pasta~=0.2 in /usr/local/lib/python3.6/dist-packages (from tensorflow) (0.2.0)\n",
            "Requirement already satisfied, skipping upgrade: keras-preprocessing~=1.1.2 in /usr/local/lib/python3.6/dist-packages (from tensorflow) (1.1.2)\n",
            "Requirement already satisfied, skipping upgrade: wrapt~=1.12.1 in /usr/local/lib/python3.6/dist-packages (from tensorflow) (1.12.1)\n",
            "Requirement already satisfied, skipping upgrade: grpcio~=1.32.0 in /usr/local/lib/python3.6/dist-packages (from tensorflow) (1.32.0)\n",
            "Requirement already satisfied, skipping upgrade: typing-extensions~=3.7.4 in /usr/local/lib/python3.6/dist-packages (from tensorflow) (3.7.4.3)\n",
            "Requirement already satisfied, skipping upgrade: six~=1.15.0 in /usr/local/lib/python3.6/dist-packages (from tensorflow) (1.15.0)\n",
            "Requirement already satisfied, skipping upgrade: opt-einsum~=3.3.0 in /usr/local/lib/python3.6/dist-packages (from tensorflow) (3.3.0)\n",
            "Requirement already satisfied, skipping upgrade: astunparse~=1.6.3 in /usr/local/lib/python3.6/dist-packages (from tensorflow) (1.6.3)\n",
            "Requirement already satisfied, skipping upgrade: tensorflow-estimator<2.5.0,>=2.4.0rc0 in /usr/local/lib/python3.6/dist-packages (from tensorflow) (2.4.0)\n",
            "Requirement already satisfied, skipping upgrade: tensorboard~=2.4 in /usr/local/lib/python3.6/dist-packages (from tensorflow) (2.4.0)\n",
            "Requirement already satisfied, skipping upgrade: absl-py~=0.10 in /usr/local/lib/python3.6/dist-packages (from tensorflow) (0.10.0)\n",
            "Requirement already satisfied, skipping upgrade: flatbuffers~=1.12.0 in /usr/local/lib/python3.6/dist-packages (from tensorflow) (1.12)\n",
            "Requirement already satisfied, skipping upgrade: setuptools in /usr/local/lib/python3.6/dist-packages (from protobuf>=3.9.2->tensorflow) (51.1.1)\n",
            "Requirement already satisfied, skipping upgrade: google-auth<2,>=1.6.3 in /usr/local/lib/python3.6/dist-packages (from tensorboard~=2.4->tensorflow) (1.17.2)\n",
            "Requirement already satisfied, skipping upgrade: markdown>=2.6.8 in /usr/local/lib/python3.6/dist-packages (from tensorboard~=2.4->tensorflow) (3.3.3)\n",
            "Requirement already satisfied, skipping upgrade: tensorboard-plugin-wit>=1.6.0 in /usr/local/lib/python3.6/dist-packages (from tensorboard~=2.4->tensorflow) (1.7.0)\n",
            "Requirement already satisfied, skipping upgrade: google-auth-oauthlib<0.5,>=0.4.1 in /usr/local/lib/python3.6/dist-packages (from tensorboard~=2.4->tensorflow) (0.4.2)\n",
            "Requirement already satisfied, skipping upgrade: requests<3,>=2.21.0 in /usr/local/lib/python3.6/dist-packages (from tensorboard~=2.4->tensorflow) (2.23.0)\n",
            "Requirement already satisfied, skipping upgrade: werkzeug>=0.11.15 in /usr/local/lib/python3.6/dist-packages (from tensorboard~=2.4->tensorflow) (1.0.1)\n",
            "Requirement already satisfied, skipping upgrade: rsa<5,>=3.1.4; python_version >= \"3\" in /usr/local/lib/python3.6/dist-packages (from google-auth<2,>=1.6.3->tensorboard~=2.4->tensorflow) (4.6)\n",
            "Requirement already satisfied, skipping upgrade: pyasn1-modules>=0.2.1 in /usr/local/lib/python3.6/dist-packages (from google-auth<2,>=1.6.3->tensorboard~=2.4->tensorflow) (0.2.8)\n",
            "Requirement already satisfied, skipping upgrade: cachetools<5.0,>=2.0.0 in /usr/local/lib/python3.6/dist-packages (from google-auth<2,>=1.6.3->tensorboard~=2.4->tensorflow) (4.2.0)\n",
            "Requirement already satisfied, skipping upgrade: importlib-metadata; python_version < \"3.8\" in /usr/local/lib/python3.6/dist-packages (from markdown>=2.6.8->tensorboard~=2.4->tensorflow) (3.3.0)\n",
            "Requirement already satisfied, skipping upgrade: requests-oauthlib>=0.7.0 in /usr/local/lib/python3.6/dist-packages (from google-auth-oauthlib<0.5,>=0.4.1->tensorboard~=2.4->tensorflow) (1.3.0)\n",
            "Requirement already satisfied, skipping upgrade: certifi>=2017.4.17 in /usr/local/lib/python3.6/dist-packages (from requests<3,>=2.21.0->tensorboard~=2.4->tensorflow) (2020.12.5)\n",
            "Requirement already satisfied, skipping upgrade: chardet<4,>=3.0.2 in /usr/local/lib/python3.6/dist-packages (from requests<3,>=2.21.0->tensorboard~=2.4->tensorflow) (3.0.4)\n",
            "Requirement already satisfied, skipping upgrade: urllib3!=1.25.0,!=1.25.1,<1.26,>=1.21.1 in /usr/local/lib/python3.6/dist-packages (from requests<3,>=2.21.0->tensorboard~=2.4->tensorflow) (1.24.3)\n",
            "Requirement already satisfied, skipping upgrade: idna<3,>=2.5 in /usr/local/lib/python3.6/dist-packages (from requests<3,>=2.21.0->tensorboard~=2.4->tensorflow) (2.10)\n",
            "Requirement already satisfied, skipping upgrade: pyasn1>=0.1.3 in /usr/local/lib/python3.6/dist-packages (from rsa<5,>=3.1.4; python_version >= \"3\"->google-auth<2,>=1.6.3->tensorboard~=2.4->tensorflow) (0.4.8)\n",
            "Requirement already satisfied, skipping upgrade: zipp>=0.5 in /usr/local/lib/python3.6/dist-packages (from importlib-metadata; python_version < \"3.8\"->markdown>=2.6.8->tensorboard~=2.4->tensorflow) (3.4.0)\n",
            "Requirement already satisfied, skipping upgrade: oauthlib>=3.0.0 in /usr/local/lib/python3.6/dist-packages (from requests-oauthlib>=0.7.0->google-auth-oauthlib<0.5,>=0.4.1->tensorboard~=2.4->tensorflow) (3.1.0)\n",
            "Requirement already up-to-date: sklearn in /usr/local/lib/python3.6/dist-packages (0.0)\n",
            "Requirement already satisfied, skipping upgrade: scikit-learn in /usr/local/lib/python3.6/dist-packages (from sklearn) (0.22.2.post1)\n",
            "Requirement already satisfied, skipping upgrade: scipy>=0.17.0 in /usr/local/lib/python3.6/dist-packages (from scikit-learn->sklearn) (1.4.1)\n",
            "Requirement already satisfied, skipping upgrade: joblib>=0.11 in /usr/local/lib/python3.6/dist-packages (from scikit-learn->sklearn) (1.0.0)\n",
            "Requirement already satisfied, skipping upgrade: numpy>=1.11.0 in /usr/local/lib/python3.6/dist-packages (from scikit-learn->sklearn) (1.19.5)\n"
          ],
          "name": "stdout"
        }
      ]
    },
    {
      "cell_type": "code",
      "metadata": {
        "colab": {
          "base_uri": "https://localhost:8080/"
        },
        "id": "lOR6yeJt_CHO",
        "outputId": "4bada7a4-8cf4-4366-95a7-bd77c5ae7bcd"
      },
      "source": [
        "import tensorflow as tf\n",
        "import numpy as np\n",
        "import os\n",
        "import pandas as pd\n",
        "from sklearn import metrics\n",
        "from sklearn.utils import shuffle\n",
        "from sklearn.model_selection import train_test_split\n",
        "from sklearn.pipeline import Pipeline\n",
        "from sklearn.feature_extraction.text import CountVectorizer\n",
        "from sklearn.feature_extraction.text import TfidfTransformer\n",
        "from sklearn.tree import DecisionTreeClassifier\n",
        "from tensorflow.keras.preprocessing.text import Tokenizer\n",
        "from tensorflow.keras.preprocessing.sequence import pad_sequences\n",
        "\n",
        "from sklearn.metrics import classification_report, accuracy_score\n",
        "import matplotlib.pyplot as plt\n",
        "import string\n",
        "import nltk\n",
        "nltk.download('stopwords')\n",
        "from nltk.corpus import stopwords\n",
        "from nltk.stem import PorterStemmer\n",
        "from nltk.tokenize import word_tokenize\n",
        "from nltk import tokenize\n",
        "from wordcloud import WordCloud\n",
        "import seaborn as sns\n",
        "import itertools\n",
        "import nltk\n",
        "import gensim\n",
        "nltk.download('punkt')\n",
        "\n",
        "tf.config.list_physical_devices('GPU')"
      ],
      "execution_count": null,
      "outputs": [
        {
          "output_type": "stream",
          "text": [
            "[nltk_data] Downloading package stopwords to /root/nltk_data...\n",
            "[nltk_data]   Package stopwords is already up-to-date!\n",
            "[nltk_data] Downloading package punkt to /root/nltk_data...\n",
            "[nltk_data]   Package punkt is already up-to-date!\n"
          ],
          "name": "stdout"
        },
        {
          "output_type": "execute_result",
          "data": {
            "text/plain": [
              "[PhysicalDevice(name='/physical_device:GPU:0', device_type='GPU')]"
            ]
          },
          "metadata": {
            "tags": []
          },
          "execution_count": 14
        }
      ]
    },
    {
      "cell_type": "code",
      "metadata": {
        "colab": {
          "base_uri": "https://localhost:8080/"
        },
        "id": "T7__PUyg_ELA",
        "outputId": "a57c8d1c-755e-4fff-8fc2-0538f46c1661"
      },
      "source": [
        "from google.colab import drive\n",
        "drive.mount(\"/content/gdrive\", force_remount=True)\n",
        "PATH = \"/content/gdrive/My Drive/FakeNewsDetection/\""
      ],
      "execution_count": null,
      "outputs": [
        {
          "output_type": "stream",
          "text": [
            "Mounted at /content/gdrive\n"
          ],
          "name": "stdout"
        }
      ]
    },
    {
      "cell_type": "code",
      "metadata": {
        "id": "U_-fJjNRb8Gg"
      },
      "source": [
        "# Useful methods\r\n",
        "\r\n",
        "token_space = tokenize.WhitespaceTokenizer()\r\n",
        "\r\n",
        "def remove_punctuation(text):\r\n",
        "    all_list = [char for char in text if char not in string.punctuation]\r\n",
        "    clean_str = ''.join(all_list)\r\n",
        "    return clean_str\r\n",
        "\r\n",
        "def remove_digits(text):\r\n",
        "    all_list = [char for char in str(text) if char not in string.digits]\r\n",
        "    clean_str = ''.join(all_list)\r\n",
        "    return clean_str\r\n",
        "\r\n",
        "def count_words_frequency(text, column_text, quantity):\r\n",
        "    words = ' '.join([text for text in text[column_text]])\r\n",
        "    token_phrase = token_space.tokenize(words)\r\n",
        "    frequency = nltk.FreqDist(token_phrase)\r\n",
        "    df_frequency = pd.DataFrame({\"Word\": list(frequency.keys()),\r\n",
        "                                   \"Frequency\": list(frequency.values())})\r\n",
        "    df_frequency = df_frequency.nlargest(columns = \"Frequency\", n = quantity)\r\n",
        "    plt.figure(figsize=(12,8))\r\n",
        "    ax = sns.barplot(data = df_frequency, x = \"Word\", y = \"Frequency\", color = 'blue')\r\n",
        "    ax.set(ylabel = \"Count\")\r\n",
        "    plt.xticks(rotation='vertical')\r\n",
        "    plt.show()\r\n",
        "\r\n",
        "def confusion_matrix(cm, classes,\r\n",
        "                          normalize=False,\r\n",
        "                          title='Confusion matrix',\r\n",
        "                          cmap=plt.cm.Blues):\r\n",
        "    \r\n",
        "    plt.imshow(cm, interpolation='nearest', cmap=cmap)\r\n",
        "    plt.title(title)\r\n",
        "    plt.colorbar()\r\n",
        "    tick_marks = np.arange(len(classes))\r\n",
        "    plt.xticks(tick_marks, classes, rotation=45)\r\n",
        "    plt.yticks(tick_marks, classes)\r\n",
        "    if normalize:\r\n",
        "        cm = cm.astype('float') / cm.sum(axis=1)[:, np.newaxis]\r\n",
        "        print(\"Normalized confusion matrix\")\r\n",
        "    else:\r\n",
        "        print('Confusion matrix, without normalization')\r\n",
        "    thresh = cm.max() / 2.\r\n",
        "    for i, j in itertools.product(range(cm.shape[0]), range(cm.shape[1])):\r\n",
        "        plt.text(j, i, cm[i, j],\r\n",
        "                 horizontalalignment=\"center\",\r\n",
        "                 color=\"white\" if cm[i, j] > thresh else \"black\")\r\n",
        "    plt.tight_layout()\r\n",
        "    plt.ylabel('True label')\r\n",
        "    plt.xlabel('Predicted label')"
      ],
      "execution_count": null,
      "outputs": []
    },
    {
      "cell_type": "markdown",
      "metadata": {
        "id": "-TapKEDJHQvH"
      },
      "source": [
        "# DATASET 1"
      ]
    },
    {
      "cell_type": "code",
      "metadata": {
        "id": "UyyicCB8_IqU"
      },
      "source": [
        "#Dataset 1\n",
        "fake_data = pd.read_csv(os.path.join(PATH, \"Dataset/Fake.csv\"))\n",
        "true_data = pd.read_csv(os.path.join(PATH, \"Dataset/True.csv\"))\n",
        "fake_data['label'] = 'fake'\n",
        "true_data['label'] = 'true'"
      ],
      "execution_count": null,
      "outputs": []
    },
    {
      "cell_type": "code",
      "metadata": {
        "colab": {
          "base_uri": "https://localhost:8080/",
          "height": 195
        },
        "id": "uTKB6nBi_KWP",
        "outputId": "7abd9298-5c50-4518-e2a2-29cfe5043beb"
      },
      "source": [
        "true_data.head()"
      ],
      "execution_count": null,
      "outputs": [
        {
          "output_type": "execute_result",
          "data": {
            "text/html": [
              "<div>\n",
              "<style scoped>\n",
              "    .dataframe tbody tr th:only-of-type {\n",
              "        vertical-align: middle;\n",
              "    }\n",
              "\n",
              "    .dataframe tbody tr th {\n",
              "        vertical-align: top;\n",
              "    }\n",
              "\n",
              "    .dataframe thead th {\n",
              "        text-align: right;\n",
              "    }\n",
              "</style>\n",
              "<table border=\"1\" class=\"dataframe\">\n",
              "  <thead>\n",
              "    <tr style=\"text-align: right;\">\n",
              "      <th></th>\n",
              "      <th>title</th>\n",
              "      <th>text</th>\n",
              "      <th>subject</th>\n",
              "      <th>date</th>\n",
              "      <th>label</th>\n",
              "    </tr>\n",
              "  </thead>\n",
              "  <tbody>\n",
              "    <tr>\n",
              "      <th>0</th>\n",
              "      <td>As U.S. budget fight looms, Republicans flip t...</td>\n",
              "      <td>WASHINGTON (Reuters) - The head of a conservat...</td>\n",
              "      <td>politicsNews</td>\n",
              "      <td>December 31, 2017</td>\n",
              "      <td>true</td>\n",
              "    </tr>\n",
              "    <tr>\n",
              "      <th>1</th>\n",
              "      <td>U.S. military to accept transgender recruits o...</td>\n",
              "      <td>WASHINGTON (Reuters) - Transgender people will...</td>\n",
              "      <td>politicsNews</td>\n",
              "      <td>December 29, 2017</td>\n",
              "      <td>true</td>\n",
              "    </tr>\n",
              "    <tr>\n",
              "      <th>2</th>\n",
              "      <td>Senior U.S. Republican senator: 'Let Mr. Muell...</td>\n",
              "      <td>WASHINGTON (Reuters) - The special counsel inv...</td>\n",
              "      <td>politicsNews</td>\n",
              "      <td>December 31, 2017</td>\n",
              "      <td>true</td>\n",
              "    </tr>\n",
              "    <tr>\n",
              "      <th>3</th>\n",
              "      <td>FBI Russia probe helped by Australian diplomat...</td>\n",
              "      <td>WASHINGTON (Reuters) - Trump campaign adviser ...</td>\n",
              "      <td>politicsNews</td>\n",
              "      <td>December 30, 2017</td>\n",
              "      <td>true</td>\n",
              "    </tr>\n",
              "    <tr>\n",
              "      <th>4</th>\n",
              "      <td>Trump wants Postal Service to charge 'much mor...</td>\n",
              "      <td>SEATTLE/WASHINGTON (Reuters) - President Donal...</td>\n",
              "      <td>politicsNews</td>\n",
              "      <td>December 29, 2017</td>\n",
              "      <td>true</td>\n",
              "    </tr>\n",
              "  </tbody>\n",
              "</table>\n",
              "</div>"
            ],
            "text/plain": [
              "                                               title  ... label\n",
              "0  As U.S. budget fight looms, Republicans flip t...  ...  true\n",
              "1  U.S. military to accept transgender recruits o...  ...  true\n",
              "2  Senior U.S. Republican senator: 'Let Mr. Muell...  ...  true\n",
              "3  FBI Russia probe helped by Australian diplomat...  ...  true\n",
              "4  Trump wants Postal Service to charge 'much mor...  ...  true\n",
              "\n",
              "[5 rows x 5 columns]"
            ]
          },
          "metadata": {
            "tags": []
          },
          "execution_count": 185
        }
      ]
    },
    {
      "cell_type": "code",
      "metadata": {
        "colab": {
          "base_uri": "https://localhost:8080/",
          "height": 195
        },
        "id": "PacQW3Zr_MOn",
        "outputId": "b7314b9d-8661-4aa9-de39-2387023bf8db"
      },
      "source": [
        "fake_data.head()"
      ],
      "execution_count": null,
      "outputs": [
        {
          "output_type": "execute_result",
          "data": {
            "text/html": [
              "<div>\n",
              "<style scoped>\n",
              "    .dataframe tbody tr th:only-of-type {\n",
              "        vertical-align: middle;\n",
              "    }\n",
              "\n",
              "    .dataframe tbody tr th {\n",
              "        vertical-align: top;\n",
              "    }\n",
              "\n",
              "    .dataframe thead th {\n",
              "        text-align: right;\n",
              "    }\n",
              "</style>\n",
              "<table border=\"1\" class=\"dataframe\">\n",
              "  <thead>\n",
              "    <tr style=\"text-align: right;\">\n",
              "      <th></th>\n",
              "      <th>title</th>\n",
              "      <th>text</th>\n",
              "      <th>subject</th>\n",
              "      <th>date</th>\n",
              "      <th>label</th>\n",
              "    </tr>\n",
              "  </thead>\n",
              "  <tbody>\n",
              "    <tr>\n",
              "      <th>0</th>\n",
              "      <td>Donald Trump Sends Out Embarrassing New Year’...</td>\n",
              "      <td>Donald Trump just couldn t wish all Americans ...</td>\n",
              "      <td>News</td>\n",
              "      <td>December 31, 2017</td>\n",
              "      <td>fake</td>\n",
              "    </tr>\n",
              "    <tr>\n",
              "      <th>1</th>\n",
              "      <td>Drunk Bragging Trump Staffer Started Russian ...</td>\n",
              "      <td>House Intelligence Committee Chairman Devin Nu...</td>\n",
              "      <td>News</td>\n",
              "      <td>December 31, 2017</td>\n",
              "      <td>fake</td>\n",
              "    </tr>\n",
              "    <tr>\n",
              "      <th>2</th>\n",
              "      <td>Sheriff David Clarke Becomes An Internet Joke...</td>\n",
              "      <td>On Friday, it was revealed that former Milwauk...</td>\n",
              "      <td>News</td>\n",
              "      <td>December 30, 2017</td>\n",
              "      <td>fake</td>\n",
              "    </tr>\n",
              "    <tr>\n",
              "      <th>3</th>\n",
              "      <td>Trump Is So Obsessed He Even Has Obama’s Name...</td>\n",
              "      <td>On Christmas day, Donald Trump announced that ...</td>\n",
              "      <td>News</td>\n",
              "      <td>December 29, 2017</td>\n",
              "      <td>fake</td>\n",
              "    </tr>\n",
              "    <tr>\n",
              "      <th>4</th>\n",
              "      <td>Pope Francis Just Called Out Donald Trump Dur...</td>\n",
              "      <td>Pope Francis used his annual Christmas Day mes...</td>\n",
              "      <td>News</td>\n",
              "      <td>December 25, 2017</td>\n",
              "      <td>fake</td>\n",
              "    </tr>\n",
              "  </tbody>\n",
              "</table>\n",
              "</div>"
            ],
            "text/plain": [
              "                                               title  ... label\n",
              "0   Donald Trump Sends Out Embarrassing New Year’...  ...  fake\n",
              "1   Drunk Bragging Trump Staffer Started Russian ...  ...  fake\n",
              "2   Sheriff David Clarke Becomes An Internet Joke...  ...  fake\n",
              "3   Trump Is So Obsessed He Even Has Obama’s Name...  ...  fake\n",
              "4   Pope Francis Just Called Out Donald Trump Dur...  ...  fake\n",
              "\n",
              "[5 rows x 5 columns]"
            ]
          },
          "metadata": {
            "tags": []
          },
          "execution_count": 186
        }
      ]
    },
    {
      "cell_type": "code",
      "metadata": {
        "id": "ojOBhbP0_Oon"
      },
      "source": [
        "# Clean data\n",
        "# Remove publication part\n",
        "tmp_text = []\n",
        "for index,row in enumerate(true_data.text.values):\n",
        "    record = row.split(\" -\", maxsplit=1)\n",
        "    if len(record) > 1 and len(record[0]) < 260:\n",
        "        tmp_text.append(record[1])\n",
        "    else:\n",
        "        tmp_text.append(row)\n",
        "\n",
        "true_data[\"text\"] = tmp_text\n",
        "del tmp_text, record"
      ],
      "execution_count": null,
      "outputs": []
    },
    {
      "cell_type": "code",
      "metadata": {
        "colab": {
          "base_uri": "https://localhost:8080/",
          "height": 195
        },
        "id": "EUj_pnks_QtT",
        "outputId": "931db307-d07c-4604-bf0d-4db5f4a86284"
      },
      "source": [
        "true_data.head()"
      ],
      "execution_count": null,
      "outputs": [
        {
          "output_type": "execute_result",
          "data": {
            "text/html": [
              "<div>\n",
              "<style scoped>\n",
              "    .dataframe tbody tr th:only-of-type {\n",
              "        vertical-align: middle;\n",
              "    }\n",
              "\n",
              "    .dataframe tbody tr th {\n",
              "        vertical-align: top;\n",
              "    }\n",
              "\n",
              "    .dataframe thead th {\n",
              "        text-align: right;\n",
              "    }\n",
              "</style>\n",
              "<table border=\"1\" class=\"dataframe\">\n",
              "  <thead>\n",
              "    <tr style=\"text-align: right;\">\n",
              "      <th></th>\n",
              "      <th>title</th>\n",
              "      <th>text</th>\n",
              "      <th>subject</th>\n",
              "      <th>date</th>\n",
              "      <th>label</th>\n",
              "    </tr>\n",
              "  </thead>\n",
              "  <tbody>\n",
              "    <tr>\n",
              "      <th>0</th>\n",
              "      <td>As U.S. budget fight looms, Republicans flip t...</td>\n",
              "      <td>The head of a conservative Republican faction...</td>\n",
              "      <td>politicsNews</td>\n",
              "      <td>December 31, 2017</td>\n",
              "      <td>true</td>\n",
              "    </tr>\n",
              "    <tr>\n",
              "      <th>1</th>\n",
              "      <td>U.S. military to accept transgender recruits o...</td>\n",
              "      <td>Transgender people will be allowed for the fi...</td>\n",
              "      <td>politicsNews</td>\n",
              "      <td>December 29, 2017</td>\n",
              "      <td>true</td>\n",
              "    </tr>\n",
              "    <tr>\n",
              "      <th>2</th>\n",
              "      <td>Senior U.S. Republican senator: 'Let Mr. Muell...</td>\n",
              "      <td>The special counsel investigation of links be...</td>\n",
              "      <td>politicsNews</td>\n",
              "      <td>December 31, 2017</td>\n",
              "      <td>true</td>\n",
              "    </tr>\n",
              "    <tr>\n",
              "      <th>3</th>\n",
              "      <td>FBI Russia probe helped by Australian diplomat...</td>\n",
              "      <td>Trump campaign adviser George Papadopoulos to...</td>\n",
              "      <td>politicsNews</td>\n",
              "      <td>December 30, 2017</td>\n",
              "      <td>true</td>\n",
              "    </tr>\n",
              "    <tr>\n",
              "      <th>4</th>\n",
              "      <td>Trump wants Postal Service to charge 'much mor...</td>\n",
              "      <td>President Donald Trump called on the U.S. Pos...</td>\n",
              "      <td>politicsNews</td>\n",
              "      <td>December 29, 2017</td>\n",
              "      <td>true</td>\n",
              "    </tr>\n",
              "  </tbody>\n",
              "</table>\n",
              "</div>"
            ],
            "text/plain": [
              "                                               title  ... label\n",
              "0  As U.S. budget fight looms, Republicans flip t...  ...  true\n",
              "1  U.S. military to accept transgender recruits o...  ...  true\n",
              "2  Senior U.S. Republican senator: 'Let Mr. Muell...  ...  true\n",
              "3  FBI Russia probe helped by Australian diplomat...  ...  true\n",
              "4  Trump wants Postal Service to charge 'much mor...  ...  true\n",
              "\n",
              "[5 rows x 5 columns]"
            ]
          },
          "metadata": {
            "tags": []
          },
          "execution_count": 188
        }
      ]
    },
    {
      "cell_type": "code",
      "metadata": {
        "id": "DD6tXFIc_SLy"
      },
      "source": [
        "news_data = pd.concat([fake_data, true_data]).reset_index(drop = True)\n",
        "news_data = shuffle(news_data)\n",
        "news_data = news_data.reset_index(drop=True)"
      ],
      "execution_count": null,
      "outputs": []
    },
    {
      "cell_type": "code",
      "metadata": {
        "id": "I6h-VF5PcE3T"
      },
      "source": [
        "# Merge title and text column\r\n",
        "news_data[\"text\"] = news_data[\"title\"] + \" \" + news_data[\"text\"]\r\n",
        "\r\n",
        "# Remove useless columns\r\n",
        "news_data.drop([\"title\"],axis=1,inplace=True)\r\n",
        "news_data.drop([\"subject\"],axis=1,inplace=True)\r\n",
        "news_data.drop([\"date\"],axis=1,inplace=True)\r\n"
      ],
      "execution_count": null,
      "outputs": []
    },
    {
      "cell_type": "code",
      "metadata": {
        "id": "7x0UNY0SCbMu"
      },
      "source": [
        "Y = news_data[\"label\"].values\n",
        "# Converting train data to format for gensim library  while removing punctuation, stopwords, lowercasing\n",
        "X = []\n",
        "stop_words = set(nltk.corpus.stopwords.words(\"english\"))\n",
        "tokenizer = nltk.tokenize.RegexpTokenizer(r'\\w+')\n",
        "for par in news_data[\"text\"].values:\n",
        "    tmp = []\n",
        "    sentences = nltk.sent_tokenize(par)\n",
        "    for sent in sentences:\n",
        "        sent = sent.lower()\n",
        "        tokens = tokenizer.tokenize(sent)\n",
        "        filtered_words = [w.strip() for w in tokens if w not in stop_words and len(w) > 1]\n",
        "        tmp.extend(filtered_words)\n",
        "    X.append(tmp)\n",
        "\n",
        "del news_data"
      ],
      "execution_count": null,
      "outputs": []
    },
    {
      "cell_type": "code",
      "metadata": {
        "id": "SGq9Y7xjCuQv"
      },
      "source": [
        "#Dimension of vectors generated\n",
        "EMBEDDING_DIM = 100\n",
        "\n",
        "#Creating Word Vectors by Word2Vec Method\n",
        "w2v_model = gensim.models.Word2Vec(sentences=X, size=EMBEDDING_DIM, window=5, min_count=1)"
      ],
      "execution_count": null,
      "outputs": []
    },
    {
      "cell_type": "code",
      "metadata": {
        "id": "Sr8jSWEkC4mt"
      },
      "source": [
        "# Tokenizing Text -> Repsesenting each word by a number\n",
        "tokenizer = Tokenizer()\n",
        "tokenizer.fit_on_texts(X)\n",
        "\n",
        "X = tokenizer.texts_to_sequences(X)\n",
        "word_index = tokenizer.word_index"
      ],
      "execution_count": null,
      "outputs": []
    },
    {
      "cell_type": "code",
      "metadata": {
        "id": "YVnZECAFDFWC"
      },
      "source": [
        "# Keep all news at 1000, add padding to news with less than 1000 words and truncating long ones\n",
        "maxlen = 1000 \n",
        "X = pad_sequences(X, maxlen=maxlen)"
      ],
      "execution_count": null,
      "outputs": []
    },
    {
      "cell_type": "code",
      "metadata": {
        "id": "jjVToqsQDLOq"
      },
      "source": [
        "X_train, X_test, y_train, y_test = train_test_split(X, Y) "
      ],
      "execution_count": null,
      "outputs": []
    },
    {
      "cell_type": "code",
      "metadata": {
        "id": "SNTNcWVI_G5y"
      },
      "source": [
        "model = Pipeline([('model', DecisionTreeClassifier(criterion= 'entropy', max_depth = 40, splitter='best', random_state=42))])\r\n",
        "history = model.fit(X_train, y_train)"
      ],
      "execution_count": null,
      "outputs": []
    },
    {
      "cell_type": "code",
      "metadata": {
        "colab": {
          "base_uri": "https://localhost:8080/"
        },
        "id": "R0ebu0QrDHw0",
        "outputId": "fc5375f7-29d6-45c9-c287-9a4d231c2f51"
      },
      "source": [
        "# Metrics\r\n",
        "prediction = model.predict(X_test)\r\n",
        "print(\"accuracy: {}%\".format(round(accuracy_score(y_test, prediction)*100,2)))\r\n",
        "print(classification_report(y_test, prediction))"
      ],
      "execution_count": null,
      "outputs": [
        {
          "output_type": "stream",
          "text": [
            "accuracy: 84.41%\n",
            "              precision    recall  f1-score   support\n",
            "\n",
            "        fake       0.83      0.88      0.86      5927\n",
            "        true       0.86      0.80      0.83      5298\n",
            "\n",
            "    accuracy                           0.84     11225\n",
            "   macro avg       0.85      0.84      0.84     11225\n",
            "weighted avg       0.84      0.84      0.84     11225\n",
            "\n"
          ],
          "name": "stdout"
        }
      ]
    },
    {
      "cell_type": "code",
      "metadata": {
        "colab": {
          "base_uri": "https://localhost:8080/",
          "height": 70
        },
        "id": "CfZuEuz-J5uu",
        "outputId": "7b972d87-9296-4f9e-af29-4dd349d24897"
      },
      "source": [
        "cm = metrics.confusion_matrix(y_test, prediction)\r\n",
        "confusion_matrix(cm, classes=['fake', 'real'])"
      ],
      "execution_count": null,
      "outputs": [
        {
          "output_type": "stream",
          "text": [
            "Confusion matrix, without normalization\n"
          ],
          "name": "stdout"
        },
        {
          "output_type": "display_data",
          "data": {
            "image/png": "[encoded data removed]",
            "text/plain": [
              "<Figure size 432x288 with 2 Axes>"
            ]
          },
          "metadata": {
            "tags": [],
            "needs_background": "light"
          }
        }
      ]
    },
    {
      "cell_type": "markdown",
      "metadata": {
        "id": "4Bq8R-UTTlgI"
      },
      "source": [
        "# DATASET 2"
      ]
    },
    {
      "cell_type": "code",
      "metadata": {
        "id": "tqVK0p0o_hmt"
      },
      "source": [
        "# Dataset 2\n",
        "X_train_2 = pd.read_csv(os.path.join(PATH, \"Dataset2/train.csv\"))\n",
        "X_train_2 = shuffle(X_train_2)\n",
        "X_train_2 = X_train_2.reset_index(drop=True)"
      ],
      "execution_count": null,
      "outputs": []
    },
    {
      "cell_type": "code",
      "metadata": {
        "id": "Cd-Bulew_jb2",
        "colab": {
          "base_uri": "https://localhost:8080/",
          "height": 669
        },
        "outputId": "dfa3ea39-d984-4a6d-a307-ea8a5cfc5981"
      },
      "source": [
        "X_train_2.head()"
      ],
      "execution_count": null,
      "outputs": [
        {
          "output_type": "execute_result",
          "data": {
            "text/html": [
              "<div>\n",
              "<style scoped>\n",
              "    .dataframe tbody tr th:only-of-type {\n",
              "        vertical-align: middle;\n",
              "    }\n",
              "\n",
              "    .dataframe tbody tr th {\n",
              "        vertical-align: top;\n",
              "    }\n",
              "\n",
              "    .dataframe thead th {\n",
              "        text-align: right;\n",
              "    }\n",
              "</style>\n",
              "<table border=\"1\" class=\"dataframe\">\n",
              "  <thead>\n",
              "    <tr style=\"text-align: right;\">\n",
              "      <th></th>\n",
              "      <th>id</th>\n",
              "      <th>title</th>\n",
              "      <th>author</th>\n",
              "      <th>text</th>\n",
              "      <th>label</th>\n",
              "    </tr>\n",
              "  </thead>\n",
              "  <tbody>\n",
              "    <tr>\n",
              "      <th>0</th>\n",
              "      <td>189</td>\n",
              "      <td>UK citizens and war heroes get cheap pre-fab h...</td>\n",
              "      <td>BareNakedIslam</td>\n",
              "      <td>UK citizens and war heroes get cheap pre-fab h...</td>\n",
              "      <td>1</td>\n",
              "    </tr>\n",
              "    <tr>\n",
              "      <th>1</th>\n",
              "      <td>7785</td>\n",
              "      <td>Madonna and Hillary: ‘Witch’ and ‘Nasty Woman’...</td>\n",
              "      <td>Caryn Ganz and Patrick Healy</td>\n",
              "      <td>“I was called a whore and a witch,” Madonna sa...</td>\n",
              "      <td>0</td>\n",
              "    </tr>\n",
              "    <tr>\n",
              "      <th>2</th>\n",
              "      <td>9924</td>\n",
              "      <td>Comment on Nomi Prins: Hillary Clinton Will Co...</td>\n",
              "      <td>EndOfTheWorld</td>\n",
              "      <td>by Yves Smith \\nYves here. It’s hardly a secre...</td>\n",
              "      <td>1</td>\n",
              "    </tr>\n",
              "    <tr>\n",
              "      <th>3</th>\n",
              "      <td>5194</td>\n",
              "      <td>Body Camera Failed to Record Chicago Police Sh...</td>\n",
              "      <td>Mitch Smith</td>\n",
              "      <td>CHICAGO  —   A Chicago officer whose police po...</td>\n",
              "      <td>0</td>\n",
              "    </tr>\n",
              "    <tr>\n",
              "      <th>4</th>\n",
              "      <td>12146</td>\n",
              "      <td>Trump: Intelligence Briefing Shows ‘Absolutely...</td>\n",
              "      <td>Charlie Spiering</td>\n",
              "      <td>Donald Trump asserted that cyber attacks had...</td>\n",
              "      <td>0</td>\n",
              "    </tr>\n",
              "  </tbody>\n",
              "</table>\n",
              "</div>"
            ],
            "text/plain": [
              "      id  ... label\n",
              "0    189  ...     1\n",
              "1   7785  ...     0\n",
              "2   9924  ...     1\n",
              "3   5194  ...     0\n",
              "4  12146  ...     0\n",
              "\n",
              "[5 rows x 5 columns]"
            ]
          },
          "metadata": {
            "tags": []
          },
          "execution_count": 200
        }
      ]
    },
    {
      "cell_type": "code",
      "metadata": {
        "id": "XF0sHwFUdCCr"
      },
      "source": [
        "# Merge title and text column\r\n",
        "X_train_2[\"text\"] =X_train_2[\"title\"] + \" \" + X_train_2[\"text\"]\r\n",
        "\r\n",
        "# Remove useless columns\r\n",
        "X_train_2.drop([\"title\"],axis=1,inplace=True)\r\n",
        "X_train_2.drop([\"id\"],axis=1,inplace=True)\r\n",
        "X_train_2.drop([\"author\"],axis=1,inplace=True)\r\n"
      ],
      "execution_count": null,
      "outputs": []
    },
    {
      "cell_type": "code",
      "metadata": {
        "id": "YVkAx05MF7Xe"
      },
      "source": [
        "Y = X_train_2[\"label\"].values\r\n",
        "# Convert train data to gensim format, removing punctuation, stopwords\r\n",
        "X = []\r\n",
        "stop_words = set(nltk.corpus.stopwords.words(\"english\"))\r\n",
        "tokenizer = nltk.tokenize.RegexpTokenizer(r'\\w+')\r\n",
        "for par in X_train_2[\"text\"].values:\r\n",
        "    tmp = []\r\n",
        "    sentences = nltk.sent_tokenize(str(par))\r\n",
        "    for sent in sentences:\r\n",
        "        sent = sent.lower()\r\n",
        "        tokens = tokenizer.tokenize(sent)\r\n",
        "        filtered_words = [w.strip() for w in tokens if w not in stop_words and len(w) > 1]\r\n",
        "        tmp.extend(filtered_words)\r\n",
        "    X.append(tmp)\r\n",
        "\r\n",
        "del X_train_2"
      ],
      "execution_count": null,
      "outputs": []
    },
    {
      "cell_type": "code",
      "metadata": {
        "id": "j0Pt1srU_nzF"
      },
      "source": [
        "#Dimension of vectors generated\r\n",
        "EMBEDDING_DIM = 100\r\n",
        "w2v_model = gensim.models.Word2Vec(sentences=X, size=EMBEDDING_DIM, window=5, min_count=1)"
      ],
      "execution_count": null,
      "outputs": []
    },
    {
      "cell_type": "code",
      "metadata": {
        "id": "3sh7UWoEE-hz"
      },
      "source": [
        "# Tokenizing Text -> Repsesenting each word by a number\r\n",
        "tokenizer = Tokenizer()\r\n",
        "tokenizer.fit_on_texts(X)\r\n",
        "\r\n",
        "X = tokenizer.texts_to_sequences(X)\r\n",
        "word_index = tokenizer.word_index\r\n",
        "\r\n"
      ],
      "execution_count": null,
      "outputs": []
    },
    {
      "cell_type": "code",
      "metadata": {
        "id": "yjhI8qoBFEHL"
      },
      "source": [
        "# Keep all news at 1000, add padding to news with less than 1000 words and truncating long ones\r\n",
        "maxlen = 1000 \r\n",
        "X = pad_sequences(X, maxlen=maxlen)"
      ],
      "execution_count": null,
      "outputs": []
    },
    {
      "cell_type": "code",
      "metadata": {
        "id": "jFGjKtKqFHtg"
      },
      "source": [
        "X_train, X_test, y_train, y_test = train_test_split(X, Y) "
      ],
      "execution_count": null,
      "outputs": []
    },
    {
      "cell_type": "code",
      "metadata": {
        "colab": {
          "base_uri": "https://localhost:8080/"
        },
        "id": "OvN70skuqwWh",
        "outputId": "f9a76278-7b65-4c68-8a69-98e5c02755a3"
      },
      "source": [
        "X_train\r\n"
      ],
      "execution_count": null,
      "outputs": [
        {
          "output_type": "execute_result",
          "data": {
            "text/plain": [
              "array([[    0,     0,     0, ...,  3959,   158,  2506],\n",
              "       [ 1272,   564,  2356, ...,  2688,    78,   904],\n",
              "       [    0,     0,     0, ...,   713,    94,  5579],\n",
              "       ...,\n",
              "       [    0,     0,     0, ..., 30211,  6695,   980],\n",
              "       [    0,     0,     0, ..., 11561,   377,  1432],\n",
              "       [    0,     0,     0, ...,   363,   392, 29572]], dtype=int32)"
            ]
          },
          "metadata": {
            "tags": []
          },
          "execution_count": 207
        }
      ]
    },
    {
      "cell_type": "code",
      "metadata": {
        "id": "KtTNQIrbFMO_"
      },
      "source": [
        "model = Pipeline([('model', DecisionTreeClassifier(criterion= 'entropy', max_depth = 40, splitter='best', random_state=42))])\r\n",
        "history = model.fit(X_train, y_train)"
      ],
      "execution_count": null,
      "outputs": []
    },
    {
      "cell_type": "code",
      "metadata": {
        "colab": {
          "base_uri": "https://localhost:8080/"
        },
        "id": "3FfGkKDYFKm9",
        "outputId": "68f6ebda-1185-415c-c77a-bdb6e8577527"
      },
      "source": [
        "# Metrics\r\n",
        "prediction = model.predict(X_test)\r\n",
        "print(\"accuracy: {}%\".format(round(accuracy_score(y_test, prediction)*100,2)))\r\n",
        "print(classification_report(y_test, prediction))"
      ],
      "execution_count": null,
      "outputs": [
        {
          "output_type": "stream",
          "text": [
            "accuracy: 71.98%\n",
            "              precision    recall  f1-score   support\n",
            "\n",
            "           0       0.74      0.68      0.71      2620\n",
            "           1       0.70      0.76      0.73      2580\n",
            "\n",
            "    accuracy                           0.72      5200\n",
            "   macro avg       0.72      0.72      0.72      5200\n",
            "weighted avg       0.72      0.72      0.72      5200\n",
            "\n"
          ],
          "name": "stdout"
        }
      ]
    },
    {
      "cell_type": "code",
      "metadata": {
        "colab": {
          "base_uri": "https://localhost:8080/",
          "height": 70
        },
        "id": "lOohFezZJ2A1",
        "outputId": "a3460fc5-a0b1-4b26-a3d4-0aa849e97c12"
      },
      "source": [
        "cm = metrics.confusion_matrix(y_test, prediction)\r\n",
        "confusion_matrix(cm, classes=['fake', 'real'])"
      ],
      "execution_count": null,
      "outputs": [
        {
          "output_type": "stream",
          "text": [
            "Confusion matrix, without normalization\n"
          ],
          "name": "stdout"
        },
        {
          "output_type": "display_data",
          "data": {
            "image/png": "[encoded data removed]",
            "text/plain": [
              "<Figure size 432x288 with 2 Axes>"
            ]
          },
          "metadata": {
            "tags": [],
            "needs_background": "light"
          }
        }
      ]
    },
    {
      "cell_type": "markdown",
      "metadata": {
        "id": "2fk6zxghubZ5"
      },
      "source": [
        "# DATASET 3"
      ]
    },
    {
      "cell_type": "code",
      "metadata": {
        "id": "wUNJ6kR_uj3g"
      },
      "source": [
        "result = pd.read_csv(os.path.join(PATH, \"Dataset3/smaller_dataset.csv\"))"
      ],
      "execution_count": null,
      "outputs": []
    },
    {
      "cell_type": "code",
      "metadata": {
        "id": "gH6VuXaiDRbc"
      },
      "source": [
        "result = shuffle(result)\r\n",
        "result = result.reset_index(drop=True)"
      ],
      "execution_count": null,
      "outputs": []
    },
    {
      "cell_type": "code",
      "metadata": {
        "id": "FxXyix-KJwiY"
      },
      "source": [
        "stop_words = set(nltk.corpus.stopwords.words(\"english\"))\r\n",
        "tokenizer = nltk.tokenize.RegexpTokenizer(r'\\w+')"
      ],
      "execution_count": null,
      "outputs": []
    },
    {
      "cell_type": "code",
      "metadata": {
        "id": "DHpZLpfXKnkl"
      },
      "source": [
        "X = []\r\n",
        "Y = []"
      ],
      "execution_count": null,
      "outputs": []
    },
    {
      "cell_type": "code",
      "metadata": {
        "id": "W8WiKmJe7_a4"
      },
      "source": [
        "def pre_process(df):\r\n",
        "    for i in range(len(df[\"content\"])):\r\n",
        "        tmp = []\r\n",
        "        sentences = nltk.sent_tokenize(str(df['content'][i]))\r\n",
        "        for sent in sentences:\r\n",
        "            sent = sent.lower()\r\n",
        "            tokens = tokenizer.tokenize(sent)\r\n",
        "            del sent\r\n",
        "            filtered_words = [w.strip() for w in tokens if w not in stop_words and len(w) > 1]\r\n",
        "            del tokens\r\n",
        "            tmp.extend(filtered_words)\r\n",
        "            del filtered_words\r\n",
        "        X.append(tmp)\r\n",
        "        Y.append(df['type'][i])\r\n",
        "        del sentences, tmp, df['content'][i], df['type'][i]\r\n",
        "    del df\r\n",
        "\r\n",
        "pre_process(result)"
      ],
      "execution_count": null,
      "outputs": []
    },
    {
      "cell_type": "code",
      "metadata": {
        "id": "SU7a96q5u7vU"
      },
      "source": [
        "#Dimension of vectors generated\r\n",
        "EMBEDDING_DIM = 100\r\n",
        "\r\n",
        "#Creating Word Vectors by Word2Vec Method\r\n",
        "w2v_model = gensim.models.Word2Vec(sentences=X, size=EMBEDDING_DIM, window=5, min_count=1)"
      ],
      "execution_count": null,
      "outputs": []
    },
    {
      "cell_type": "code",
      "metadata": {
        "id": "6F1kr5NIu-Th"
      },
      "source": [
        "# Tokenizing Text -> Repsesenting each word by a number\r\n",
        "tokenizer = Tokenizer()\r\n",
        "tokenizer.fit_on_texts(X)\r\n",
        "\r\n",
        "X = tokenizer.texts_to_sequences(X)\r\n",
        "word_index = tokenizer.word_index"
      ],
      "execution_count": null,
      "outputs": []
    },
    {
      "cell_type": "code",
      "metadata": {
        "id": "5hPCGiBIvAxB"
      },
      "source": [
        "# Keep all news at 1000, add padding to news with less than 1000 words and truncating long ones\r\n",
        "maxlen = 1000 \r\n",
        "X = pad_sequences(X, maxlen=maxlen)"
      ],
      "execution_count": null,
      "outputs": []
    },
    {
      "cell_type": "code",
      "metadata": {
        "id": "Pnl8fnypvDXa"
      },
      "source": [
        "X_train, X_test, y_train, y_test = train_test_split(X, Y) "
      ],
      "execution_count": null,
      "outputs": []
    },
    {
      "cell_type": "code",
      "metadata": {
        "id": "42fpkZpiR1L4"
      },
      "source": [
        "del X, Y"
      ],
      "execution_count": null,
      "outputs": []
    },
    {
      "cell_type": "code",
      "metadata": {
        "id": "gwSkvBhYvF8m"
      },
      "source": [
        "model = Pipeline([('model', DecisionTreeClassifier(criterion= 'entropy', max_depth = 40, splitter='best', random_state=42))])\r\n",
        "history = model.fit(X_train, y_train)"
      ],
      "execution_count": null,
      "outputs": []
    },
    {
      "cell_type": "code",
      "metadata": {
        "colab": {
          "base_uri": "https://localhost:8080/"
        },
        "id": "WC7vvA4cvIlV",
        "outputId": "dd180fab-cd5f-4a6f-f896-5949ac7737ca"
      },
      "source": [
        "# Metrics\r\n",
        "prediction = model.predict(X_test)\r\n",
        "print(\"accuracy: {}%\".format(round(accuracy_score(y_test, prediction)*100,2)))\r\n",
        "print(classification_report(y_test, prediction))"
      ],
      "execution_count": null,
      "outputs": [
        {
          "output_type": "stream",
          "text": [
            "accuracy: 79.27%\n",
            "              precision    recall  f1-score   support\n",
            "\n",
            "        fake       0.79      0.80      0.79      6177\n",
            "        true       0.80      0.79      0.79      6324\n",
            "\n",
            "    accuracy                           0.79     12501\n",
            "   macro avg       0.79      0.79      0.79     12501\n",
            "weighted avg       0.79      0.79      0.79     12501\n",
            "\n"
          ],
          "name": "stdout"
        }
      ]
    },
    {
      "cell_type": "code",
      "metadata": {
        "colab": {
          "base_uri": "https://localhost:8080/",
          "height": 328
        },
        "id": "mJLYSxPDvMl5",
        "outputId": "430ddce0-46d7-4e9b-ab46-fa11c029ec60"
      },
      "source": [
        "cm = metrics.confusion_matrix(y_test, prediction)\r\n",
        "confusion_matrix(cm, classes=['fake', 'real'])"
      ],
      "execution_count": null,
      "outputs": [
        {
          "output_type": "stream",
          "text": [
            "Confusion matrix, without normalization\n"
          ],
          "name": "stdout"
        },
        {
          "output_type": "display_data",
          "data": {
            "image/png": "[encoded data removed]",
            "text/plain": [
              "<Figure size 432x288 with 2 Axes>"
            ]
          },
          "metadata": {
            "tags": [],
            "needs_background": "light"
          }
        }
      ]
    },
    {
      "cell_type": "markdown",
      "metadata": {
        "id": "yQMXRAUpPX_8"
      },
      "source": [
        "# TRANSFER LEARNING"
      ]
    },
    {
      "cell_type": "markdown",
      "metadata": {
        "id": "r-tphge2PhRH"
      },
      "source": [
        "## Dataset1 - Dataset 2"
      ]
    },
    {
      "cell_type": "code",
      "metadata": {
        "id": "THwSt4KEPrWv"
      },
      "source": [
        "#Dataset 1\n",
        "fake_data = pd.read_csv(os.path.join(PATH, \"Dataset/Fake.csv\"))\n",
        "true_data = pd.read_csv(os.path.join(PATH, \"Dataset/True.csv\"))\n",
        "fake_data['label'] = 'fake'\n",
        "true_data['label'] = 'true'"
      ],
      "execution_count": null,
      "outputs": []
    },
    {
      "cell_type": "code",
      "metadata": {
        "id": "lvU_vgn6PrW7"
      },
      "source": [
        "# Clean data\n",
        "# Remove publication part\n",
        "tmp_text = []\n",
        "for index,row in enumerate(true_data.text.values):\n",
        "    record = row.split(\" -\", maxsplit=1)\n",
        "    if len(record) > 1 and len(record[0]) < 260:\n",
        "        tmp_text.append(record[1])\n",
        "    else:\n",
        "        tmp_text.append(row)\n",
        "\n",
        "true_data[\"text\"] = tmp_text\n",
        "del tmp_text, record"
      ],
      "execution_count": null,
      "outputs": []
    },
    {
      "cell_type": "code",
      "metadata": {
        "id": "ViEb9rHyPrW8"
      },
      "source": [
        "news_data = pd.concat([fake_data, true_data]).reset_index(drop = True)\n",
        "news_data = shuffle(news_data)\n",
        "news_data = news_data.reset_index(drop=True)"
      ],
      "execution_count": null,
      "outputs": []
    },
    {
      "cell_type": "code",
      "metadata": {
        "id": "WpdWtKV6PrW8"
      },
      "source": [
        "# Merge title and text column\r\n",
        "news_data[\"text\"] = news_data[\"title\"] + \" \" + news_data[\"text\"]\r\n",
        "\r\n",
        "# Remove useless columns\r\n",
        "news_data.drop([\"title\"],axis=1,inplace=True)\r\n",
        "news_data.drop([\"subject\"],axis=1,inplace=True)\r\n",
        "news_data.drop([\"date\"],axis=1,inplace=True)\r\n"
      ],
      "execution_count": null,
      "outputs": []
    },
    {
      "cell_type": "code",
      "metadata": {
        "id": "gqLNZU8VPrW8"
      },
      "source": [
        "Y = news_data[\"label\"].values\n",
        "# Converting train data to format for gensim library  while removing punctuation, stopwords, lowercasing\n",
        "X = []\n",
        "stop_words = set(nltk.corpus.stopwords.words(\"english\"))\n",
        "tokenizer = nltk.tokenize.RegexpTokenizer(r'\\w+')\n",
        "for par in news_data[\"text\"].values:\n",
        "    tmp = []\n",
        "    sentences = nltk.sent_tokenize(par)\n",
        "    for sent in sentences:\n",
        "        sent = sent.lower()\n",
        "        tokens = tokenizer.tokenize(sent)\n",
        "        filtered_words = [w.strip() for w in tokens if w not in stop_words and len(w) > 1]\n",
        "        tmp.extend(filtered_words)\n",
        "    X.append(tmp)\n",
        "\n",
        "del news_data"
      ],
      "execution_count": null,
      "outputs": []
    },
    {
      "cell_type": "code",
      "metadata": {
        "id": "S31ZKaUUPrW9"
      },
      "source": [
        "#Dimension of vectors generated\n",
        "EMBEDDING_DIM = 100\n",
        "\n",
        "#Creating Word Vectors by Word2Vec Method\n",
        "w2v_model = gensim.models.Word2Vec(sentences=X, size=EMBEDDING_DIM, window=5, min_count=1)"
      ],
      "execution_count": null,
      "outputs": []
    },
    {
      "cell_type": "code",
      "metadata": {
        "id": "HAgJOC7nPrW9"
      },
      "source": [
        "# Tokenizing Text -> Repsesenting each word by a number\n",
        "tokenizer = Tokenizer()\n",
        "tokenizer.fit_on_texts(X)\n",
        "\n",
        "X = tokenizer.texts_to_sequences(X)\n",
        "word_index = tokenizer.word_index"
      ],
      "execution_count": null,
      "outputs": []
    },
    {
      "cell_type": "code",
      "metadata": {
        "id": "Gy9crSyhPrW9"
      },
      "source": [
        "# Keep all news at 1000, add padding to news with less than 1000 words and truncating long ones\n",
        "maxlen = 1000 \n",
        "X = pad_sequences(X, maxlen=maxlen)"
      ],
      "execution_count": null,
      "outputs": []
    },
    {
      "cell_type": "code",
      "metadata": {
        "id": "YDQJnTQ2PrW-"
      },
      "source": [
        "model = Pipeline([('model', DecisionTreeClassifier(criterion= 'entropy', max_depth = 40, splitter='best', random_state=42))])\r\n",
        "history = model.fit(X, Y)"
      ],
      "execution_count": null,
      "outputs": []
    },
    {
      "cell_type": "code",
      "metadata": {
        "id": "kGg14HnLQREY"
      },
      "source": [
        "# Dataset 2\r\n",
        "X_test = pd.read_csv(os.path.join(PATH, \"Dataset2/train.csv\"))\r\n",
        "X_test = shuffle(X_test)\r\n",
        "X_test = X_test.reset_index(drop=True)"
      ],
      "execution_count": null,
      "outputs": []
    },
    {
      "cell_type": "code",
      "metadata": {
        "id": "Qiln7hj7Qca5"
      },
      "source": [
        "# Merge title and text column\r\n",
        "X_test[\"text\"] =X_test[\"title\"] + \" \" + X_test[\"text\"]\r\n",
        "\r\n",
        "# Remove useless columns\r\n",
        "X_test.drop([\"title\"],axis=1,inplace=True)\r\n",
        "X_test.drop([\"id\"],axis=1,inplace=True)\r\n",
        "X_test.drop([\"author\"],axis=1,inplace=True)"
      ],
      "execution_count": null,
      "outputs": []
    },
    {
      "cell_type": "code",
      "metadata": {
        "id": "PVoYz5vOQmAq"
      },
      "source": [
        "Y = X_test[\"label\"].values\r\n",
        "# Convert train data to gensim format, removing punctuation, stopwords\r\n",
        "X = []\r\n",
        "stop_words = set(nltk.corpus.stopwords.words(\"english\"))\r\n",
        "tokenizer = nltk.tokenize.RegexpTokenizer(r'\\w+')\r\n",
        "for par in X_test[\"text\"].values:\r\n",
        "    tmp = []\r\n",
        "    sentences = nltk.sent_tokenize(str(par))\r\n",
        "    for sent in sentences:\r\n",
        "        sent = sent.lower()\r\n",
        "        tokens = tokenizer.tokenize(sent)\r\n",
        "        filtered_words = [w.strip() for w in tokens if w not in stop_words and len(w) > 1]\r\n",
        "        tmp.extend(filtered_words)\r\n",
        "    X.append(tmp)\r\n",
        "\r\n",
        "del X_test"
      ],
      "execution_count": null,
      "outputs": []
    },
    {
      "cell_type": "code",
      "metadata": {
        "id": "FdHHmn6mQx1y"
      },
      "source": [
        "#Dimension of vectors generated\r\n",
        "EMBEDDING_DIM = 100\r\n",
        "w2v_model = gensim.models.Word2Vec(sentences=X, size=EMBEDDING_DIM, window=5, min_count=1)"
      ],
      "execution_count": null,
      "outputs": []
    },
    {
      "cell_type": "code",
      "metadata": {
        "id": "0ON75PIDQ1FP"
      },
      "source": [
        "# Tokenizing Text -> Repsesenting each word by a number\r\n",
        "tokenizer = Tokenizer()\r\n",
        "tokenizer.fit_on_texts(X)\r\n",
        "\r\n",
        "X = tokenizer.texts_to_sequences(X)\r\n",
        "word_index = tokenizer.word_index"
      ],
      "execution_count": null,
      "outputs": []
    },
    {
      "cell_type": "code",
      "metadata": {
        "id": "zzYGU51yQ32r"
      },
      "source": [
        "# Keep all news at 1000, add padding to news with less than 1000 words and truncating long ones\r\n",
        "maxlen = 1000 \r\n",
        "X = pad_sequences(X, maxlen=maxlen)"
      ],
      "execution_count": null,
      "outputs": []
    },
    {
      "cell_type": "code",
      "metadata": {
        "id": "q-6xMcR2PrW-"
      },
      "source": [
        "# Metrics\r\n",
        "prediction = model.predict(X)"
      ],
      "execution_count": null,
      "outputs": []
    },
    {
      "cell_type": "code",
      "metadata": {
        "colab": {
          "base_uri": "https://localhost:8080/"
        },
        "id": "qVD6dCUHWHYf",
        "outputId": "420b034e-9e07-468c-f200-4b16df7fb641"
      },
      "source": [
        "prediction2 = np.array([0 if i  == \"true\" else 1 for i in prediction])\r\n",
        "prediction2"
      ],
      "execution_count": null,
      "outputs": [
        {
          "output_type": "execute_result",
          "data": {
            "text/plain": [
              "array([1, 1, 1, ..., 1, 0, 0])"
            ]
          },
          "metadata": {
            "tags": []
          },
          "execution_count": 84
        }
      ]
    },
    {
      "cell_type": "code",
      "metadata": {
        "colab": {
          "base_uri": "https://localhost:8080/"
        },
        "id": "v5pmWULnWE9X",
        "outputId": "c38bf533-64fa-4567-a581-584ad12094db"
      },
      "source": [
        "print(\"accuracy: {}%\".format(round(accuracy_score(Y, prediction2)*100,2)))\r\n",
        "print(classification_report(Y, prediction2))"
      ],
      "execution_count": null,
      "outputs": [
        {
          "output_type": "stream",
          "text": [
            "accuracy: 54.62%\n",
            "              precision    recall  f1-score   support\n",
            "\n",
            "           0       0.53      0.73      0.62     10387\n",
            "           1       0.57      0.36      0.45     10413\n",
            "\n",
            "    accuracy                           0.55     20800\n",
            "   macro avg       0.55      0.55      0.53     20800\n",
            "weighted avg       0.55      0.55      0.53     20800\n",
            "\n"
          ],
          "name": "stdout"
        }
      ]
    },
    {
      "cell_type": "code",
      "metadata": {
        "id": "4NaV-J83PrW-",
        "colab": {
          "base_uri": "https://localhost:8080/",
          "height": 328
        },
        "outputId": "22fb1287-8a61-4c5a-9062-282509103068"
      },
      "source": [
        "cm = metrics.confusion_matrix(Y, prediction2)\r\n",
        "confusion_matrix(cm, classes=['fake', 'real'])"
      ],
      "execution_count": null,
      "outputs": [
        {
          "output_type": "stream",
          "text": [
            "Confusion matrix, without normalization\n"
          ],
          "name": "stdout"
        },
        {
          "output_type": "display_data",
          "data": {
            "image/png": "[encoded data removed]",
            "text/plain": [
              "<Figure size 432x288 with 2 Axes>"
            ]
          },
          "metadata": {
            "tags": [],
            "needs_background": "light"
          }
        }
      ]
    },
    {
      "cell_type": "markdown",
      "metadata": {
        "id": "es_9aDwTWyuG"
      },
      "source": [
        "## Dataset 1 - Dataset 3"
      ]
    },
    {
      "cell_type": "code",
      "metadata": {
        "id": "CTwk85KdXETS"
      },
      "source": [
        "X_test = pd.read_csv(os.path.join(PATH, \"Dataset3/smaller_dataset.csv\"))"
      ],
      "execution_count": null,
      "outputs": []
    },
    {
      "cell_type": "code",
      "metadata": {
        "id": "yMvLZfYoXETq"
      },
      "source": [
        "X_test = shuffle(X_test)\r\n",
        "X_test = X_test.reset_index(drop=True)"
      ],
      "execution_count": null,
      "outputs": []
    },
    {
      "cell_type": "code",
      "metadata": {
        "id": "3mKRaA8DXETq"
      },
      "source": [
        "stop_words = set(nltk.corpus.stopwords.words(\"english\"))\r\n",
        "tokenizer = nltk.tokenize.RegexpTokenizer(r'\\w+')"
      ],
      "execution_count": null,
      "outputs": []
    },
    {
      "cell_type": "code",
      "metadata": {
        "id": "DoxBkhzBXETq"
      },
      "source": [
        "X = []\r\n",
        "Y = []"
      ],
      "execution_count": null,
      "outputs": []
    },
    {
      "cell_type": "code",
      "metadata": {
        "id": "M_M7P3z_XETq"
      },
      "source": [
        "def pre_process(df):\r\n",
        "    for i in range(len(df[\"content\"])):\r\n",
        "        tmp = []\r\n",
        "        sentences = nltk.sent_tokenize(str(df['content'][i]))\r\n",
        "        for sent in sentences:\r\n",
        "            sent = sent.lower()\r\n",
        "            tokens = tokenizer.tokenize(sent)\r\n",
        "            del sent\r\n",
        "            filtered_words = [w.strip() for w in tokens if w not in stop_words and len(w) > 1]\r\n",
        "            del tokens\r\n",
        "            tmp.extend(filtered_words)\r\n",
        "            del filtered_words\r\n",
        "        X.append(tmp)\r\n",
        "        Y.append(df['type'][i])\r\n",
        "        del sentences, tmp, df['content'][i], df['type'][i]\r\n",
        "    del df\r\n",
        "\r\n",
        "pre_process(X_test)"
      ],
      "execution_count": null,
      "outputs": []
    },
    {
      "cell_type": "code",
      "metadata": {
        "id": "WT_TtZe6XETr"
      },
      "source": [
        "#Dimension of vectors generated\r\n",
        "EMBEDDING_DIM = 100\r\n",
        "\r\n",
        "#Creating Word Vectors by Word2Vec Method\r\n",
        "w2v_model = gensim.models.Word2Vec(sentences=X, size=EMBEDDING_DIM, window=5, min_count=1)"
      ],
      "execution_count": null,
      "outputs": []
    },
    {
      "cell_type": "code",
      "metadata": {
        "id": "XpRBrkKbXETr"
      },
      "source": [
        "# Tokenizing Text -> Repsesenting each word by a number\r\n",
        "tokenizer = Tokenizer()\r\n",
        "tokenizer.fit_on_texts(X)\r\n",
        "\r\n",
        "X = tokenizer.texts_to_sequences(X)\r\n",
        "word_index = tokenizer.word_index"
      ],
      "execution_count": null,
      "outputs": []
    },
    {
      "cell_type": "code",
      "metadata": {
        "id": "NW4hed-KXETr"
      },
      "source": [
        "# Keep all news at 1000, add padding to news with less than 1000 words and truncating long ones\r\n",
        "maxlen = 1000 \r\n",
        "X = pad_sequences(X, maxlen=maxlen)"
      ],
      "execution_count": null,
      "outputs": []
    },
    {
      "cell_type": "code",
      "metadata": {
        "colab": {
          "base_uri": "https://localhost:8080/"
        },
        "id": "kMrJ4k6CXETs",
        "outputId": "67d7fdd4-e65b-4290-91f4-bcfa07b54588"
      },
      "source": [
        "# Metrics\r\n",
        "prediction = model.predict(X)\r\n",
        "print(\"accuracy: {}%\".format(round(accuracy_score(Y, prediction)*100,2)))\r\n",
        "print(classification_report(Y, prediction))"
      ],
      "execution_count": null,
      "outputs": [
        {
          "output_type": "stream",
          "text": [
            "accuracy: 49.85%\n",
            "              precision    recall  f1-score   support\n",
            "\n",
            "        fake       0.49      0.33      0.39     24729\n",
            "        true       0.50      0.66      0.57     25272\n",
            "\n",
            "    accuracy                           0.50     50001\n",
            "   macro avg       0.50      0.50      0.48     50001\n",
            "weighted avg       0.50      0.50      0.48     50001\n",
            "\n"
          ],
          "name": "stdout"
        }
      ]
    },
    {
      "cell_type": "code",
      "metadata": {
        "colab": {
          "base_uri": "https://localhost:8080/",
          "height": 328
        },
        "id": "Mz5RvPfUXETs",
        "outputId": "7e240acb-2683-4c93-bd5b-029c1e5ec40b"
      },
      "source": [
        "cm = metrics.confusion_matrix(Y, prediction)\r\n",
        "confusion_matrix(cm, classes=['fake', 'real'])"
      ],
      "execution_count": null,
      "outputs": [
        {
          "output_type": "stream",
          "text": [
            "Confusion matrix, without normalization\n"
          ],
          "name": "stdout"
        },
        {
          "output_type": "display_data",
          "data": {
            "image/png": "[encoded data removed]",
            "text/plain": [
              "<Figure size 432x288 with 2 Axes>"
            ]
          },
          "metadata": {
            "tags": [],
            "needs_background": "light"
          }
        }
      ]
    },
    {
      "cell_type": "markdown",
      "metadata": {
        "id": "9qinFVlnZSNT"
      },
      "source": [
        "## Dataset 2 - Dataset 1"
      ]
    },
    {
      "cell_type": "code",
      "metadata": {
        "id": "EoqEYrnGZSNd"
      },
      "source": [
        "# Dataset 2\r\n",
        "news_data = pd.read_csv(os.path.join(PATH, \"Dataset2/train.csv\"))\r\n",
        "news_data = shuffle(news_data)\r\n",
        "news_data = news_data.reset_index(drop=True)"
      ],
      "execution_count": null,
      "outputs": []
    },
    {
      "cell_type": "code",
      "metadata": {
        "id": "6RYeJyOVZSNd"
      },
      "source": [
        "# Merge title and text column\r\n",
        "news_data[\"text\"] =news_data[\"title\"] + \" \" + news_data[\"text\"]\r\n",
        "\r\n",
        "# Remove useless columns\r\n",
        "news_data.drop([\"title\"],axis=1,inplace=True)\r\n",
        "news_data.drop([\"id\"],axis=1,inplace=True)\r\n",
        "news_data.drop([\"author\"],axis=1,inplace=True)"
      ],
      "execution_count": null,
      "outputs": []
    },
    {
      "cell_type": "code",
      "metadata": {
        "id": "FgPDYU-4ZSNe"
      },
      "source": [
        "Y = news_data[\"label\"].values\r\n",
        "# Convert train data to gensim format, removing punctuation, stopwords\r\n",
        "X = []\r\n",
        "stop_words = set(nltk.corpus.stopwords.words(\"english\"))\r\n",
        "tokenizer = nltk.tokenize.RegexpTokenizer(r'\\w+')\r\n",
        "for par in news_data[\"text\"].values:\r\n",
        "    tmp = []\r\n",
        "    sentences = nltk.sent_tokenize(str(par))\r\n",
        "    for sent in sentences:\r\n",
        "        sent = sent.lower()\r\n",
        "        tokens = tokenizer.tokenize(sent)\r\n",
        "        filtered_words = [w.strip() for w in tokens if w not in stop_words and len(w) > 1]\r\n",
        "        tmp.extend(filtered_words)\r\n",
        "    X.append(tmp)\r\n",
        "\r\n",
        "del news_data"
      ],
      "execution_count": null,
      "outputs": []
    },
    {
      "cell_type": "code",
      "metadata": {
        "id": "WRx8AO1rZSNa"
      },
      "source": [
        "#Dimension of vectors generated\n",
        "EMBEDDING_DIM = 100\n",
        "\n",
        "#Creating Word Vectors by Word2Vec Method\n",
        "w2v_model = gensim.models.Word2Vec(sentences=X, size=EMBEDDING_DIM, window=5, min_count=1)"
      ],
      "execution_count": null,
      "outputs": []
    },
    {
      "cell_type": "code",
      "metadata": {
        "id": "978YnC5UZSNb"
      },
      "source": [
        "# Tokenizing Text -> Repsesenting each word by a number\n",
        "tokenizer = Tokenizer()\n",
        "tokenizer.fit_on_texts(X)\n",
        "\n",
        "X = tokenizer.texts_to_sequences(X)\n",
        "word_index = tokenizer.word_index"
      ],
      "execution_count": null,
      "outputs": []
    },
    {
      "cell_type": "code",
      "metadata": {
        "id": "4WrFiJ-SZSNb"
      },
      "source": [
        "# Keep all news at 1000, add padding to news with less than 1000 words and truncating long ones\n",
        "maxlen = 1000 \n",
        "X = pad_sequences(X, maxlen=maxlen)"
      ],
      "execution_count": null,
      "outputs": []
    },
    {
      "cell_type": "code",
      "metadata": {
        "id": "MRN0vYJtZSNc"
      },
      "source": [
        "model = Pipeline([('model', DecisionTreeClassifier(criterion= 'entropy', max_depth = 40, splitter='best', random_state=42))])\r\n",
        "history = model.fit(X, Y)"
      ],
      "execution_count": null,
      "outputs": []
    },
    {
      "cell_type": "code",
      "metadata": {
        "id": "YhybQIqaZSNW"
      },
      "source": [
        "#Dataset 1\n",
        "fake_data = pd.read_csv(os.path.join(PATH, \"Dataset/Fake.csv\"))\n",
        "true_data = pd.read_csv(os.path.join(PATH, \"Dataset/True.csv\"))\n",
        "fake_data['label'] = 'fake'\n",
        "true_data['label'] = 'true'"
      ],
      "execution_count": null,
      "outputs": []
    },
    {
      "cell_type": "code",
      "metadata": {
        "id": "LZNQyPgRZSNX"
      },
      "source": [
        "# Clean data\n",
        "# Remove publication part\n",
        "tmp_text = []\n",
        "for index,row in enumerate(true_data.text.values):\n",
        "    record = row.split(\" -\", maxsplit=1)\n",
        "    if len(record) > 1 and len(record[0]) < 260:\n",
        "        tmp_text.append(record[1])\n",
        "    else:\n",
        "        tmp_text.append(row)\n",
        "\n",
        "true_data[\"text\"] = tmp_text\n",
        "del tmp_text, record"
      ],
      "execution_count": null,
      "outputs": []
    },
    {
      "cell_type": "code",
      "metadata": {
        "id": "ECXv8BLqZSNY"
      },
      "source": [
        "X_test = pd.concat([fake_data, true_data]).reset_index(drop = True)\n",
        "X_test = shuffle(X_test)\n",
        "X_test = X_test.reset_index(drop=True)"
      ],
      "execution_count": null,
      "outputs": []
    },
    {
      "cell_type": "code",
      "metadata": {
        "id": "V-oYtsQDZSNZ"
      },
      "source": [
        "# Merge title and text column\r\n",
        "X_test[\"text\"] = X_test[\"title\"] + \" \" + X_test[\"text\"]\r\n",
        "\r\n",
        "# Remove useless columns\r\n",
        "X_test.drop([\"title\"],axis=1,inplace=True)\r\n",
        "X_test.drop([\"subject\"],axis=1,inplace=True)\r\n",
        "X_test.drop([\"date\"],axis=1,inplace=True)\r\n"
      ],
      "execution_count": null,
      "outputs": []
    },
    {
      "cell_type": "code",
      "metadata": {
        "id": "SRdN4lNcZSNZ"
      },
      "source": [
        "Y = X_test[\"label\"].values\n",
        "# Converting train data to format for gensim library  while removing punctuation, stopwords, lowercasing\n",
        "X = []\n",
        "stop_words = set(nltk.corpus.stopwords.words(\"english\"))\n",
        "tokenizer = nltk.tokenize.RegexpTokenizer(r'\\w+')\n",
        "for par in X_test[\"text\"].values:\n",
        "    tmp = []\n",
        "    sentences = nltk.sent_tokenize(par)\n",
        "    for sent in sentences:\n",
        "        sent = sent.lower()\n",
        "        tokens = tokenizer.tokenize(sent)\n",
        "        filtered_words = [w.strip() for w in tokens if w not in stop_words and len(w) > 1]\n",
        "        tmp.extend(filtered_words)\n",
        "    X.append(tmp)\n",
        "\n",
        "del X_test"
      ],
      "execution_count": null,
      "outputs": []
    },
    {
      "cell_type": "code",
      "metadata": {
        "id": "WEN-SBEfZSNe"
      },
      "source": [
        "#Dimension of vectors generated\r\n",
        "EMBEDDING_DIM = 100\r\n",
        "w2v_model = gensim.models.Word2Vec(sentences=X, size=EMBEDDING_DIM, window=5, min_count=1)"
      ],
      "execution_count": null,
      "outputs": []
    },
    {
      "cell_type": "code",
      "metadata": {
        "id": "jOYnqdGoZSNf"
      },
      "source": [
        "# Tokenizing Text -> Repsesenting each word by a number\r\n",
        "tokenizer = Tokenizer()\r\n",
        "tokenizer.fit_on_texts(X)\r\n",
        "\r\n",
        "X = tokenizer.texts_to_sequences(X)\r\n",
        "word_index = tokenizer.word_index"
      ],
      "execution_count": null,
      "outputs": []
    },
    {
      "cell_type": "code",
      "metadata": {
        "id": "FW4Nfyo5ZSNf"
      },
      "source": [
        "# Keep all news at 1000, add padding to news with less than 1000 words and truncating long ones\r\n",
        "maxlen = 1000 \r\n",
        "X = pad_sequences(X, maxlen=maxlen)"
      ],
      "execution_count": null,
      "outputs": []
    },
    {
      "cell_type": "code",
      "metadata": {
        "id": "ptpMPjxcZSNg"
      },
      "source": [
        "# Metrics\r\n",
        "prediction = model.predict(X)"
      ],
      "execution_count": null,
      "outputs": []
    },
    {
      "cell_type": "code",
      "metadata": {
        "id": "-Z7eDCRDZSNg"
      },
      "source": [
        "Y2 = np.array([0 if i  == \"true\" else 1 for i in Y])"
      ],
      "execution_count": null,
      "outputs": []
    },
    {
      "cell_type": "code",
      "metadata": {
        "colab": {
          "base_uri": "https://localhost:8080/"
        },
        "id": "gbtFgUcNZSNh",
        "outputId": "e746f61d-3466-4680-e1e5-3256ef2b361a"
      },
      "source": [
        "print(\"accuracy: {}%\".format(round(accuracy_score(Y2, prediction)*100,2)))\r\n",
        "print(classification_report(Y2, prediction))"
      ],
      "execution_count": null,
      "outputs": [
        {
          "output_type": "stream",
          "text": [
            "accuracy: 51.68%\n",
            "              precision    recall  f1-score   support\n",
            "\n",
            "           0       0.49      0.41      0.45     21417\n",
            "           1       0.53      0.61      0.57     23481\n",
            "\n",
            "    accuracy                           0.52     44898\n",
            "   macro avg       0.51      0.51      0.51     44898\n",
            "weighted avg       0.51      0.52      0.51     44898\n",
            "\n"
          ],
          "name": "stdout"
        }
      ]
    },
    {
      "cell_type": "code",
      "metadata": {
        "colab": {
          "base_uri": "https://localhost:8080/",
          "height": 328
        },
        "id": "D26Y_OdBZSNh",
        "outputId": "bf7a3e30-17af-48be-e75a-13c93a533b0b"
      },
      "source": [
        "cm = metrics.confusion_matrix(Y2, prediction)\r\n",
        "confusion_matrix(cm, classes=['fake', 'real'])"
      ],
      "execution_count": null,
      "outputs": [
        {
          "output_type": "stream",
          "text": [
            "Confusion matrix, without normalization\n"
          ],
          "name": "stdout"
        },
        {
          "output_type": "display_data",
          "data": {
            "image/png": "[encoded data removed]",
            "text/plain": [
              "<Figure size 432x288 with 2 Axes>"
            ]
          },
          "metadata": {
            "tags": [],
            "needs_background": "light"
          }
        }
      ]
    },
    {
      "cell_type": "markdown",
      "metadata": {
        "id": "Jva3ggt6e6I5"
      },
      "source": [
        "## Dataset 2 - Dataset 3"
      ]
    },
    {
      "cell_type": "code",
      "metadata": {
        "id": "I8XEE0u4em31"
      },
      "source": [
        "X_test = pd.read_csv(os.path.join(PATH, \"Dataset3/smaller_dataset.csv\"))"
      ],
      "execution_count": null,
      "outputs": []
    },
    {
      "cell_type": "code",
      "metadata": {
        "id": "HVziKBNgem34"
      },
      "source": [
        "X_test = shuffle(X_test)\r\n",
        "X_test = X_test.reset_index(drop=True)"
      ],
      "execution_count": null,
      "outputs": []
    },
    {
      "cell_type": "code",
      "metadata": {
        "id": "OAQwGOldem35"
      },
      "source": [
        "stop_words = set(nltk.corpus.stopwords.words(\"english\"))\r\n",
        "tokenizer = nltk.tokenize.RegexpTokenizer(r'\\w+')"
      ],
      "execution_count": null,
      "outputs": []
    },
    {
      "cell_type": "code",
      "metadata": {
        "id": "W-9yCy_sem35"
      },
      "source": [
        "X = []\r\n",
        "Y = []"
      ],
      "execution_count": null,
      "outputs": []
    },
    {
      "cell_type": "code",
      "metadata": {
        "id": "jHS-9JJyem36"
      },
      "source": [
        "def pre_process(df):\r\n",
        "    for i in range(len(df[\"content\"])):\r\n",
        "        tmp = []\r\n",
        "        sentences = nltk.sent_tokenize(str(df['content'][i]))\r\n",
        "        for sent in sentences:\r\n",
        "            sent = sent.lower()\r\n",
        "            tokens = tokenizer.tokenize(sent)\r\n",
        "            del sent\r\n",
        "            filtered_words = [w.strip() for w in tokens if w not in stop_words and len(w) > 1]\r\n",
        "            del tokens\r\n",
        "            tmp.extend(filtered_words)\r\n",
        "            del filtered_words\r\n",
        "        X.append(tmp)\r\n",
        "        Y.append(df['type'][i])\r\n",
        "        del sentences, tmp, df['content'][i], df['type'][i]\r\n",
        "    del df\r\n",
        "\r\n",
        "pre_process(X_test)"
      ],
      "execution_count": null,
      "outputs": []
    },
    {
      "cell_type": "code",
      "metadata": {
        "id": "VD1NGZ-tem36"
      },
      "source": [
        "#Dimension of vectors generated\r\n",
        "EMBEDDING_DIM = 100\r\n",
        "\r\n",
        "#Creating Word Vectors by Word2Vec Method\r\n",
        "w2v_model = gensim.models.Word2Vec(sentences=X, size=EMBEDDING_DIM, window=5, min_count=1)"
      ],
      "execution_count": null,
      "outputs": []
    },
    {
      "cell_type": "code",
      "metadata": {
        "id": "dOC7IvSIem36"
      },
      "source": [
        "# Tokenizing Text -> Repsesenting each word by a number\r\n",
        "tokenizer = Tokenizer()\r\n",
        "tokenizer.fit_on_texts(X)\r\n",
        "\r\n",
        "X = tokenizer.texts_to_sequences(X)\r\n",
        "word_index = tokenizer.word_index"
      ],
      "execution_count": null,
      "outputs": []
    },
    {
      "cell_type": "code",
      "metadata": {
        "id": "zcjYtp2Fem37"
      },
      "source": [
        "# Keep all news at 1000, add padding to news with less than 1000 words and truncating long ones\r\n",
        "maxlen = 1000 \r\n",
        "X = pad_sequences(X, maxlen=maxlen)"
      ],
      "execution_count": null,
      "outputs": []
    },
    {
      "cell_type": "code",
      "metadata": {
        "id": "gZ4ZGu0Ch39A"
      },
      "source": [
        "Y2 = np.array([0 if i  == \"true\" else 1 for i in Y])"
      ],
      "execution_count": null,
      "outputs": []
    },
    {
      "cell_type": "code",
      "metadata": {
        "colab": {
          "base_uri": "https://localhost:8080/"
        },
        "id": "df9vwncRem37",
        "outputId": "1c4afce7-7301-4cb7-8f60-f2197329fd6f"
      },
      "source": [
        "# Metrics\r\n",
        "prediction = model.predict(X)\r\n",
        "print(\"accuracy: {}%\".format(round(accuracy_score(Y2, prediction)*100,2)))\r\n",
        "print(classification_report(Y2, prediction))"
      ],
      "execution_count": null,
      "outputs": [
        {
          "output_type": "stream",
          "text": [
            "accuracy: 52.29%\n",
            "              precision    recall  f1-score   support\n",
            "\n",
            "           0       0.54      0.34      0.42     25272\n",
            "           1       0.51      0.71      0.59     24729\n",
            "\n",
            "    accuracy                           0.52     50001\n",
            "   macro avg       0.53      0.52      0.51     50001\n",
            "weighted avg       0.53      0.52      0.51     50001\n",
            "\n"
          ],
          "name": "stdout"
        }
      ]
    },
    {
      "cell_type": "code",
      "metadata": {
        "colab": {
          "base_uri": "https://localhost:8080/",
          "height": 328
        },
        "id": "b6WURQhRem37",
        "outputId": "590a3997-f736-4032-9059-b57d62f9067a"
      },
      "source": [
        "cm = metrics.confusion_matrix(Y2, prediction)\r\n",
        "confusion_matrix(cm, classes=['fake', 'real'])"
      ],
      "execution_count": null,
      "outputs": [
        {
          "output_type": "stream",
          "text": [
            "Confusion matrix, without normalization\n"
          ],
          "name": "stdout"
        },
        {
          "output_type": "display_data",
          "data": {
            "image/png": "[encoded data removed]",
            "text/plain": [
              "<Figure size 432x288 with 2 Axes>"
            ]
          },
          "metadata": {
            "tags": [],
            "needs_background": "light"
          }
        }
      ]
    },
    {
      "cell_type": "markdown",
      "metadata": {
        "id": "TF1_QOpkkR1H"
      },
      "source": [
        "## Dataset3 - Dataset 1"
      ]
    },
    {
      "cell_type": "code",
      "metadata": {
        "id": "ldD5yaD7kZ3q"
      },
      "source": [
        "news_data = pd.read_csv(os.path.join(PATH, \"Dataset3/smaller_dataset.csv\"))"
      ],
      "execution_count": null,
      "outputs": []
    },
    {
      "cell_type": "code",
      "metadata": {
        "id": "sy8MnZAPkZ35"
      },
      "source": [
        "news_data = shuffle(news_data)\r\n",
        "news_data = news_data.reset_index(drop=True)"
      ],
      "execution_count": null,
      "outputs": []
    },
    {
      "cell_type": "code",
      "metadata": {
        "id": "gZFEpClYkZ36"
      },
      "source": [
        "stop_words = set(nltk.corpus.stopwords.words(\"english\"))\r\n",
        "tokenizer = nltk.tokenize.RegexpTokenizer(r'\\w+')"
      ],
      "execution_count": null,
      "outputs": []
    },
    {
      "cell_type": "code",
      "metadata": {
        "id": "ObfFI4NYkZ37"
      },
      "source": [
        "X = []\r\n",
        "Y = []"
      ],
      "execution_count": null,
      "outputs": []
    },
    {
      "cell_type": "code",
      "metadata": {
        "id": "Bd25DTrakZ38"
      },
      "source": [
        "def pre_process(df):\r\n",
        "    for i in range(len(df[\"content\"])):\r\n",
        "        tmp = []\r\n",
        "        sentences = nltk.sent_tokenize(str(df['content'][i]))\r\n",
        "        for sent in sentences:\r\n",
        "            sent = sent.lower()\r\n",
        "            tokens = tokenizer.tokenize(sent)\r\n",
        "            del sent\r\n",
        "            filtered_words = [w.strip() for w in tokens if w not in stop_words and len(w) > 1]\r\n",
        "            del tokens\r\n",
        "            tmp.extend(filtered_words)\r\n",
        "            del filtered_words\r\n",
        "        X.append(tmp)\r\n",
        "        Y.append(df['type'][i])\r\n",
        "        del sentences, tmp, df['content'][i], df['type'][i]\r\n",
        "    del df\r\n",
        "\r\n",
        "pre_process(news_data)"
      ],
      "execution_count": null,
      "outputs": []
    },
    {
      "cell_type": "code",
      "metadata": {
        "id": "TkVjcNMwkZ39"
      },
      "source": [
        "#Dimension of vectors generated\r\n",
        "EMBEDDING_DIM = 100\r\n",
        "\r\n",
        "#Creating Word Vectors by Word2Vec Method\r\n",
        "w2v_model = gensim.models.Word2Vec(sentences=X, size=EMBEDDING_DIM, window=5, min_count=1)"
      ],
      "execution_count": null,
      "outputs": []
    },
    {
      "cell_type": "code",
      "metadata": {
        "id": "KdrQVJtWkZ3_"
      },
      "source": [
        "# Tokenizing Text -> Repsesenting each word by a number\r\n",
        "tokenizer = Tokenizer()\r\n",
        "tokenizer.fit_on_texts(X)\r\n",
        "\r\n",
        "X = tokenizer.texts_to_sequences(X)\r\n",
        "word_index = tokenizer.word_index"
      ],
      "execution_count": null,
      "outputs": []
    },
    {
      "cell_type": "code",
      "metadata": {
        "id": "F5UnaJH4kZ3_"
      },
      "source": [
        "# Keep all news at 1000, add padding to news with less than 1000 words and truncating long ones\r\n",
        "maxlen = 1000 \r\n",
        "X = pad_sequences(X, maxlen=maxlen)"
      ],
      "execution_count": null,
      "outputs": []
    },
    {
      "cell_type": "code",
      "metadata": {
        "id": "61V1LQ06k4XQ"
      },
      "source": [
        "model = Pipeline([('model', DecisionTreeClassifier(criterion= 'entropy', max_depth = 40, splitter='best', random_state=42))])\r\n",
        "history = model.fit(X, Y)"
      ],
      "execution_count": null,
      "outputs": []
    },
    {
      "cell_type": "code",
      "metadata": {
        "id": "9Vfb6EFvkR1H"
      },
      "source": [
        "#Dataset 1\n",
        "fake_data = pd.read_csv(os.path.join(PATH, \"Dataset/Fake.csv\"))\n",
        "true_data = pd.read_csv(os.path.join(PATH, \"Dataset/True.csv\"))\n",
        "fake_data['label'] = 'fake'\n",
        "true_data['label'] = 'true'"
      ],
      "execution_count": null,
      "outputs": []
    },
    {
      "cell_type": "code",
      "metadata": {
        "id": "sWYXsF0gkR1H"
      },
      "source": [
        "# Clean data\n",
        "# Remove publication part\n",
        "tmp_text = []\n",
        "for index,row in enumerate(true_data.text.values):\n",
        "    record = row.split(\" -\", maxsplit=1)\n",
        "    if len(record) > 1 and len(record[0]) < 260:\n",
        "        tmp_text.append(record[1])\n",
        "    else:\n",
        "        tmp_text.append(row)\n",
        "\n",
        "true_data[\"text\"] = tmp_text\n",
        "del tmp_text, record"
      ],
      "execution_count": null,
      "outputs": []
    },
    {
      "cell_type": "code",
      "metadata": {
        "id": "3Ofw3EW_kR1I"
      },
      "source": [
        "X_test = pd.concat([fake_data, true_data]).reset_index(drop = True)\n",
        "X_test = shuffle(X_test)\n",
        "X_test = X_test.reset_index(drop=True)"
      ],
      "execution_count": null,
      "outputs": []
    },
    {
      "cell_type": "code",
      "metadata": {
        "id": "ZAYaE_vjkR1I"
      },
      "source": [
        "# Merge title and text column\r\n",
        "X_test[\"text\"] = X_test[\"title\"] + \" \" + X_test[\"text\"]\r\n",
        "\r\n",
        "# Remove useless columns\r\n",
        "X_test.drop([\"title\"],axis=1,inplace=True)\r\n",
        "X_test.drop([\"subject\"],axis=1,inplace=True)\r\n",
        "X_test.drop([\"date\"],axis=1,inplace=True)\r\n"
      ],
      "execution_count": null,
      "outputs": []
    },
    {
      "cell_type": "code",
      "metadata": {
        "id": "37dzl3gGkR1I"
      },
      "source": [
        "Y = X_test[\"label\"].values\n",
        "# Converting train data to format for gensim library  while removing punctuation, stopwords, lowercasing\n",
        "X = []\n",
        "stop_words = set(nltk.corpus.stopwords.words(\"english\"))\n",
        "tokenizer = nltk.tokenize.RegexpTokenizer(r'\\w+')\n",
        "for par in X_test[\"text\"].values:\n",
        "    tmp = []\n",
        "    sentences = nltk.sent_tokenize(par)\n",
        "    for sent in sentences:\n",
        "        sent = sent.lower()\n",
        "        tokens = tokenizer.tokenize(sent)\n",
        "        filtered_words = [w.strip() for w in tokens if w not in stop_words and len(w) > 1]\n",
        "        tmp.extend(filtered_words)\n",
        "    X.append(tmp)\n",
        "\n",
        "del X_test"
      ],
      "execution_count": null,
      "outputs": []
    },
    {
      "cell_type": "code",
      "metadata": {
        "id": "DsbuZonKkR1I"
      },
      "source": [
        "#Dimension of vectors generated\n",
        "EMBEDDING_DIM = 100\n",
        "\n",
        "#Creating Word Vectors by Word2Vec Method\n",
        "w2v_model = gensim.models.Word2Vec(sentences=X, size=EMBEDDING_DIM, window=5, min_count=1)"
      ],
      "execution_count": null,
      "outputs": []
    },
    {
      "cell_type": "code",
      "metadata": {
        "id": "2C0pmmhWkR1I"
      },
      "source": [
        "# Tokenizing Text -> Repsesenting each word by a number\n",
        "tokenizer = Tokenizer()\n",
        "tokenizer.fit_on_texts(X)\n",
        "\n",
        "X = tokenizer.texts_to_sequences(X)\n",
        "word_index = tokenizer.word_index"
      ],
      "execution_count": null,
      "outputs": []
    },
    {
      "cell_type": "code",
      "metadata": {
        "id": "HJeqTk3VkR1I"
      },
      "source": [
        "# Keep all news at 1000, add padding to news with less than 1000 words and truncating long ones\n",
        "maxlen = 1000 \n",
        "X = pad_sequences(X, maxlen=maxlen)"
      ],
      "execution_count": null,
      "outputs": []
    },
    {
      "cell_type": "code",
      "metadata": {
        "colab": {
          "base_uri": "https://localhost:8080/"
        },
        "id": "8dfc-JytlMPD",
        "outputId": "6734c3c6-f655-43e0-f2b8-28021fdb919d"
      },
      "source": [
        "# Metrics\r\n",
        "prediction = model.predict(X)\r\n",
        "print(\"accuracy: {}%\".format(round(accuracy_score(Y, prediction)*100,2)))\r\n",
        "print(classification_report(Y, prediction))"
      ],
      "execution_count": null,
      "outputs": [
        {
          "output_type": "stream",
          "text": [
            "accuracy: 49.97%\n",
            "              precision    recall  f1-score   support\n",
            "\n",
            "        fake       0.54      0.30      0.39     23481\n",
            "        true       0.48      0.71      0.58     21417\n",
            "\n",
            "    accuracy                           0.50     44898\n",
            "   macro avg       0.51      0.51      0.48     44898\n",
            "weighted avg       0.51      0.50      0.48     44898\n",
            "\n"
          ],
          "name": "stdout"
        }
      ]
    },
    {
      "cell_type": "code",
      "metadata": {
        "colab": {
          "base_uri": "https://localhost:8080/",
          "height": 328
        },
        "id": "ZiJxzYDXlTIN",
        "outputId": "d935f985-5fe0-454a-a68d-fdb17f6bef52"
      },
      "source": [
        "cm = metrics.confusion_matrix(Y, prediction)\r\n",
        "confusion_matrix(cm, classes=['fake', 'real'])"
      ],
      "execution_count": null,
      "outputs": [
        {
          "output_type": "stream",
          "text": [
            "Confusion matrix, without normalization\n"
          ],
          "name": "stdout"
        },
        {
          "output_type": "display_data",
          "data": {
            "image/png": "[encoded data removed]",
            "text/plain": [
              "<Figure size 432x288 with 2 Axes>"
            ]
          },
          "metadata": {
            "tags": [],
            "needs_background": "light"
          }
        }
      ]
    },
    {
      "cell_type": "markdown",
      "metadata": {
        "id": "ccef4EFelFoC"
      },
      "source": [
        "## Dataset 3 - Dataset 2"
      ]
    },
    {
      "cell_type": "code",
      "metadata": {
        "id": "9GkMQdqskR1J"
      },
      "source": [
        "# Dataset 2\r\n",
        "X_test = pd.read_csv(os.path.join(PATH, \"Dataset2/train.csv\"))\r\n",
        "X_test = shuffle(X_test)\r\n",
        "X_test = X_test.reset_index(drop=True)"
      ],
      "execution_count": null,
      "outputs": []
    },
    {
      "cell_type": "code",
      "metadata": {
        "id": "Y9YFNBaYkR1J"
      },
      "source": [
        "# Merge title and text column\r\n",
        "X_test[\"text\"] =X_test[\"title\"] + \" \" + X_test[\"text\"]\r\n",
        "\r\n",
        "# Remove useless columns\r\n",
        "X_test.drop([\"title\"],axis=1,inplace=True)\r\n",
        "X_test.drop([\"id\"],axis=1,inplace=True)\r\n",
        "X_test.drop([\"author\"],axis=1,inplace=True)"
      ],
      "execution_count": null,
      "outputs": []
    },
    {
      "cell_type": "code",
      "metadata": {
        "id": "o7kJlygEkR1J"
      },
      "source": [
        "Y = X_test[\"label\"].values\r\n",
        "# Convert train data to gensim format, removing punctuation, stopwords\r\n",
        "X = []\r\n",
        "stop_words = set(nltk.corpus.stopwords.words(\"english\"))\r\n",
        "tokenizer = nltk.tokenize.RegexpTokenizer(r'\\w+')\r\n",
        "for par in X_test[\"text\"].values:\r\n",
        "    tmp = []\r\n",
        "    sentences = nltk.sent_tokenize(str(par))\r\n",
        "    for sent in sentences:\r\n",
        "        sent = sent.lower()\r\n",
        "        tokens = tokenizer.tokenize(sent)\r\n",
        "        filtered_words = [w.strip() for w in tokens if w not in stop_words and len(w) > 1]\r\n",
        "        tmp.extend(filtered_words)\r\n",
        "    X.append(tmp)\r\n",
        "\r\n",
        "del X_test"
      ],
      "execution_count": null,
      "outputs": []
    },
    {
      "cell_type": "code",
      "metadata": {
        "id": "u2BLz2h-kR1J"
      },
      "source": [
        "#Dimension of vectors generated\r\n",
        "EMBEDDING_DIM = 100\r\n",
        "w2v_model = gensim.models.Word2Vec(sentences=X, size=EMBEDDING_DIM, window=5, min_count=1)"
      ],
      "execution_count": null,
      "outputs": []
    },
    {
      "cell_type": "code",
      "metadata": {
        "id": "XGumN4yBkR1J"
      },
      "source": [
        "# Tokenizing Text -> Repsesenting each word by a number\r\n",
        "tokenizer = Tokenizer()\r\n",
        "tokenizer.fit_on_texts(X)\r\n",
        "\r\n",
        "X = tokenizer.texts_to_sequences(X)\r\n",
        "word_index = tokenizer.word_index"
      ],
      "execution_count": null,
      "outputs": []
    },
    {
      "cell_type": "code",
      "metadata": {
        "id": "o-icAHiGkR1K"
      },
      "source": [
        "# Keep all news at 1000, add padding to news with less than 1000 words and truncating long ones\r\n",
        "maxlen = 1000 \r\n",
        "X = pad_sequences(X, maxlen=maxlen)"
      ],
      "execution_count": null,
      "outputs": []
    },
    {
      "cell_type": "code",
      "metadata": {
        "id": "WH-dD5HdkR1K"
      },
      "source": [
        "# Metrics\r\n",
        "prediction = model.predict(X)"
      ],
      "execution_count": null,
      "outputs": []
    },
    {
      "cell_type": "code",
      "metadata": {
        "colab": {
          "base_uri": "https://localhost:8080/"
        },
        "id": "qEmTtg4QkR1K",
        "outputId": "fff98f97-eea8-4e2d-b725-c49d1d5bcbe2"
      },
      "source": [
        "prediction2 = np.array([0 if i  == \"true\" else 1 for i in prediction])\r\n",
        "prediction2"
      ],
      "execution_count": null,
      "outputs": [
        {
          "output_type": "execute_result",
          "data": {
            "text/plain": [
              "array([1, 0, 1, ..., 0, 0, 0])"
            ]
          },
          "metadata": {
            "tags": []
          },
          "execution_count": 196
        }
      ]
    },
    {
      "cell_type": "code",
      "metadata": {
        "colab": {
          "base_uri": "https://localhost:8080/"
        },
        "id": "XwYZ3M47kR1L",
        "outputId": "47eaed92-6f02-40fb-9b39-345e200671d7"
      },
      "source": [
        "print(\"accuracy: {}%\".format(round(accuracy_score(Y, prediction2)*100,2)))\r\n",
        "print(classification_report(Y, prediction2))"
      ],
      "execution_count": null,
      "outputs": [
        {
          "output_type": "stream",
          "text": [
            "accuracy: 51.78%\n",
            "              precision    recall  f1-score   support\n",
            "\n",
            "           0       0.51      0.67      0.58     10387\n",
            "           1       0.53      0.36      0.43     10413\n",
            "\n",
            "    accuracy                           0.52     20800\n",
            "   macro avg       0.52      0.52      0.51     20800\n",
            "weighted avg       0.52      0.52      0.51     20800\n",
            "\n"
          ],
          "name": "stdout"
        }
      ]
    },
    {
      "cell_type": "code",
      "metadata": {
        "colab": {
          "base_uri": "https://localhost:8080/",
          "height": 328
        },
        "id": "W7dHxeMSkR1L",
        "outputId": "4b7313a2-7300-458f-e31c-9d1fc14499a2"
      },
      "source": [
        "cm = metrics.confusion_matrix(Y, prediction2)\r\n",
        "confusion_matrix(cm, classes=['fake', 'real'])"
      ],
      "execution_count": null,
      "outputs": [
        {
          "output_type": "stream",
          "text": [
            "Confusion matrix, without normalization\n"
          ],
          "name": "stdout"
        },
        {
          "output_type": "display_data",
          "data": {
            "image/png": "[encoded data removed]",
            "text/plain": [
              "<Figure size 432x288 with 2 Axes>"
            ]
          },
          "metadata": {
            "tags": [],
            "needs_background": "light"
          }
        }
      ]
    }
  ]
}